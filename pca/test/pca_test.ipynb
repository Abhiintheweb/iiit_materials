{
 "cells": [
  {
   "cell_type": "code",
   "execution_count": 7,
   "metadata": {},
   "outputs": [],
   "source": [
    "# Importing Pandas and NumPy\n",
    "import pandas as pd\n",
    "import numpy as np\n",
    "import matplotlib.pyplot as plt\n",
    "import seaborn as sns\n",
    "from sklearn.model_selection import train_test_split"
   ]
  },
  {
   "cell_type": "code",
   "execution_count": 8,
   "metadata": {},
   "outputs": [],
   "source": [
    "df=pd.read_csv(\"newhousing.csv\")"
   ]
  },
  {
   "cell_type": "code",
   "execution_count": 24,
   "metadata": {},
   "outputs": [],
   "source": [
    "y=df[\"price\"]\n",
    "\n",
    "x=list(df.columns)[1:20]\n",
    "X=df[x]\n",
    "X_train, X_test, y_train, y_test = train_test_split(X, y, train_size=0.7 ,test_size = 0.3, random_state=100)"
   ]
  },
  {
   "cell_type": "code",
   "execution_count": 55,
   "metadata": {},
   "outputs": [
    {
     "data": {
      "text/plain": [
       "array([2.21345286e+03, 7.32730181e-01, 4.89457331e-01, 8.59755347e-01,\n",
       "       3.59244628e-01, 3.64253024e-01, 4.70468323e-01, 2.12160529e-01,\n",
       "       4.57913113e-01, 8.81147357e-01, 4.19767022e-01, 4.93117112e-01,\n",
       "       4.71404521e-01, 8.20388626e+02, 1.54308872e-01])"
      ]
     },
     "execution_count": 55,
     "metadata": {},
     "output_type": "execute_result"
    }
   ],
   "source": [
    "# import matplotlib.pyplot as plt\n",
    "\n",
    "# plt.matshow(df.corr())\n",
    "\n",
    "\n",
    "# sns.heatmap(df, \n",
    "#         xticklabels=df.columns,\n",
    "#         yticklabels=df.columns)\n",
    "\n",
    "from sklearn import preprocessing\n",
    "\n",
    "X_scaler = preprocessing.StandardScaler().fit(X_train)\n",
    "\n",
    "\n",
    "X_scaler.transform(X_train)\n",
    "X_scaler.scale_"
   ]
  },
  {
   "cell_type": "code",
   "execution_count": 56,
   "metadata": {},
   "outputs": [],
   "source": [
    "from sklearn import linear_model\n",
    "lr =linear_model.LinearRegression()"
   ]
  },
  {
   "cell_type": "code",
   "execution_count": 57,
   "metadata": {},
   "outputs": [
    {
     "data": {
      "text/plain": [
       "(821447.0587834832,\n",
       " array([ 3.65100278e+02, -1.88845199e+05,  1.29037623e+06,  4.64202619e+05,\n",
       "         2.88246082e+05,  2.05563728e+05,  2.82589345e+05,  7.42929583e+05,\n",
       "         8.92976436e+05,  2.27606652e+05,  8.02823060e+05, -1.64873786e+04,\n",
       "        -3.14688771e+05, -3.37684738e+02, -4.78095577e+05]))"
      ]
     },
     "execution_count": 57,
     "metadata": {},
     "output_type": "execute_result"
    }
   ],
   "source": [
    "lr.fit(X_train,y_train)\n",
    "y_pred = lr.predict(X_test)\n",
    "lr.intercept_,lr.coef_"
   ]
  },
  {
   "cell_type": "code",
   "execution_count": 58,
   "metadata": {},
   "outputs": [],
   "source": [
    "from sklearn.metrics import mean_squared_error,r2_score"
   ]
  },
  {
   "cell_type": "code",
   "execution_count": 59,
   "metadata": {},
   "outputs": [],
   "source": [
    "r_squ=r2_score(y_test,y_pred)"
   ]
  },
  {
   "cell_type": "code",
   "execution_count": 60,
   "metadata": {},
   "outputs": [
    {
     "data": {
      "text/plain": [
       "1212109105402.334"
      ]
     },
     "execution_count": 60,
     "metadata": {},
     "output_type": "execute_result"
    }
   ],
   "source": [
    "mse=mean_squared_error(y_test,y_pred)\n",
    "mse"
   ]
  }
 ],
 "metadata": {
  "kernelspec": {
   "display_name": "Python 3",
   "language": "python",
   "name": "python3"
  },
  "language_info": {
   "codemirror_mode": {
    "name": "ipython",
    "version": 2
   },
   "file_extension": ".py",
   "mimetype": "text/x-python",
   "name": "python",
   "nbconvert_exporter": "python",
   "pygments_lexer": "ipython2",
   "version": "2.7.12"
  }
 },
 "nbformat": 4,
 "nbformat_minor": 2
}
