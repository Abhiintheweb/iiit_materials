{
 "cells": [
  {
   "cell_type": "code",
   "execution_count": 1,
   "metadata": {},
   "outputs": [],
   "source": [
    "import pandas as pd"
   ]
  },
  {
   "cell_type": "code",
   "execution_count": 2,
   "metadata": {},
   "outputs": [],
   "source": [
    "movie_train=pd.read_csv(\"movie_review_train.csv\")\n",
    "movie_test=pd.read_csv(\"movie_review_test.csv\")"
   ]
  },
  {
   "cell_type": "code",
   "execution_count": 3,
   "metadata": {},
   "outputs": [
    {
     "data": {
      "text/plain": [
       "array(['Pos', 'Neg'], dtype=object)"
      ]
     },
     "execution_count": 3,
     "metadata": {},
     "output_type": "execute_result"
    }
   ],
   "source": [
    "movie_train[\"class\"].unique()"
   ]
  },
  {
   "cell_type": "code",
   "execution_count": 4,
   "metadata": {},
   "outputs": [],
   "source": [
    "movie_train[\"class\"]=movie_train[\"class\"].map({\"Pos\":1,\"Neg\":0})\n",
    "movie_test[\"class\"]=movie_test[\"class\"].map({\"Pos\":1,\"Neg\":0})"
   ]
  },
  {
   "cell_type": "code",
   "execution_count": 5,
   "metadata": {},
   "outputs": [
    {
     "data": {
      "text/plain": [
       "1    800\n",
       "0    800\n",
       "Name: class, dtype: int64"
      ]
     },
     "execution_count": 5,
     "metadata": {},
     "output_type": "execute_result"
    }
   ],
   "source": [
    "movie_train[\"class\"].value_counts()"
   ]
  },
  {
   "cell_type": "code",
   "execution_count": 6,
   "metadata": {},
   "outputs": [
    {
     "data": {
      "text/plain": [
       "1    200\n",
       "0    200\n",
       "Name: class, dtype: int64"
      ]
     },
     "execution_count": 6,
     "metadata": {},
     "output_type": "execute_result"
    }
   ],
   "source": [
    "movie_test[\"class\"].value_counts()"
   ]
  },
  {
   "cell_type": "code",
   "execution_count": 7,
   "metadata": {},
   "outputs": [],
   "source": [
    "from sklearn.feature_extraction.text import CountVectorizer\n",
    "vect = CountVectorizer(stop_words='english')"
   ]
  },
  {
   "cell_type": "code",
   "execution_count": 8,
   "metadata": {},
   "outputs": [],
   "source": [
    "X_train=movie_train[\"text\"]\n",
    "y_train=movie_train[\"class\"]\n",
    "\n",
    "X_test=movie_test[\"text\"]\n",
    "y_test=movie_test[\"class\"]\n"
   ]
  },
  {
   "cell_type": "code",
   "execution_count": 9,
   "metadata": {},
   "outputs": [],
   "source": [
    "di=vect.fit(X_train)\n",
    "temp={}\n",
    "X_train_vocabs_dict = di.get_feature_names()\n",
    "for i in X_train_vocabs_dict:\n",
    "    if temp.get(i):\n",
    "        temp[i]=temp[i]+1\n",
    "    else:\n",
    "        temp[i]=1\n"
   ]
  },
  {
   "cell_type": "code",
   "execution_count": 10,
   "metadata": {},
   "outputs": [],
   "source": [
    "word=[]\n",
    "coun=[]\n",
    "for i in vect.vocabulary_:\n",
    "    coun.append(vect.vocabulary_[i])\n",
    "    word.append(i)\n",
    "#     temp.append()"
   ]
  },
  {
   "cell_type": "code",
   "execution_count": 11,
   "metadata": {},
   "outputs": [],
   "source": [
    "df=pd.DataFrame({\"word\":word,\"count\":coun})"
   ]
  },
  {
   "cell_type": "code",
   "execution_count": 12,
   "metadata": {},
   "outputs": [],
   "source": [
    "df[\"percentage\"]=df[\"count\"].apply(lambda s: round((float(s)/35858),1))"
   ]
  },
  {
   "cell_type": "markdown",
   "metadata": {},
   "source": []
  },
  {
   "cell_type": "code",
   "execution_count": 13,
   "metadata": {},
   "outputs": [
    {
     "data": {
      "text/plain": [
       "28687"
      ]
     },
     "execution_count": 13,
     "metadata": {},
     "output_type": "execute_result"
    }
   ],
   "source": [
    "final_df=df[(df.percentage>=0.03) & (df.percentage<=0.8)]\n",
    "len(final_df)"
   ]
  },
  {
   "cell_type": "code",
   "execution_count": 14,
   "metadata": {},
   "outputs": [
    {
     "data": {
      "text/plain": [
       "1643"
      ]
     },
     "execution_count": 14,
     "metadata": {},
     "output_type": "execute_result"
    }
   ],
   "source": [
    "vect3 = CountVectorizer(stop_words='english',min_df=.03,max_df=.8)\n",
    "vect3.fit(X_train)\n",
    "X_train_vocabs = vect3.get_feature_names()\n",
    "len(X_train_vocabs)\n"
   ]
  },
  {
   "cell_type": "code",
   "execution_count": 15,
   "metadata": {},
   "outputs": [
    {
     "data": {
      "text/plain": [
       "212938"
      ]
     },
     "execution_count": 15,
     "metadata": {},
     "output_type": "execute_result"
    }
   ],
   "source": [
    "vect3 = CountVectorizer(stop_words='english',min_df=.03,max_df=.8)\n",
    "vect3.fit(X_test)\n",
    "\n",
    "X_train_transformed = vect3.transform(X_train)\n",
    "X_train_transformed.count_nonzero()\n"
   ]
  },
  {
   "cell_type": "code",
   "execution_count": 16,
   "metadata": {},
   "outputs": [],
   "source": [
    "vect3 = CountVectorizer(stop_words='english',min_df=.03,max_df=.8)\n",
    "vect3.fit(X_train)\n",
    "# transforming the train and test datasets\n",
    "X_train_transformed = vect3.transform(X_train)\n",
    "X_test_transformed =vect3.transform(X_test)\n",
    "\n"
   ]
  },
  {
   "cell_type": "code",
   "execution_count": 17,
   "metadata": {},
   "outputs": [
    {
     "data": {
      "text/plain": [
       "0.8275"
      ]
     },
     "execution_count": 17,
     "metadata": {},
     "output_type": "execute_result"
    }
   ],
   "source": [
    "# training the NB model and making predictions\n",
    "from sklearn.naive_bayes import MultinomialNB\n",
    "mnb = MultinomialNB()\n",
    "\n",
    "# fit\n",
    "mnb.fit(X_train_transformed,y_train)\n",
    "\n",
    "# predict class\n",
    "y_pred_class = mnb.predict(X_test_transformed)\n",
    "\n",
    "# predict probabilities\n",
    "y_pred_proba =mnb.predict_proba(X_test_transformed)\n",
    "\n",
    "\n",
    "# printing the overall accuracy\n",
    "from sklearn import metrics\n",
    "metrics.accuracy_score(y_test, y_pred_class)\n"
   ]
  },
  {
   "cell_type": "code",
   "execution_count": 18,
   "metadata": {},
   "outputs": [
    {
     "data": {
      "text/plain": [
       "MultinomialNB(alpha=1.0, class_prior=None, fit_prior=True)"
      ]
     },
     "execution_count": 18,
     "metadata": {},
     "output_type": "execute_result"
    }
   ],
   "source": [
    "mnb"
   ]
  },
  {
   "cell_type": "code",
   "execution_count": 19,
   "metadata": {},
   "outputs": [
    {
     "data": {
      "text/plain": [
       "array([[172,  28],\n",
       "       [ 41, 159]])"
      ]
     },
     "execution_count": 19,
     "metadata": {},
     "output_type": "execute_result"
    }
   ],
   "source": [
    "# confusion matrix\n",
    "metrics.confusion_matrix(y_test, y_pred_class)"
   ]
  },
  {
   "cell_type": "code",
   "execution_count": 20,
   "metadata": {},
   "outputs": [
    {
     "name": "stdout",
     "output_type": "stream",
     "text": [
      "[[172  28]\n",
      " [ 41 159]]\n"
     ]
    },
    {
     "data": {
      "text/plain": [
       "28"
      ]
     },
     "execution_count": 20,
     "metadata": {},
     "output_type": "execute_result"
    }
   ],
   "source": [
    "confusion = metrics.confusion_matrix(y_test, y_pred_class)\n",
    "print(confusion)\n",
    "#[row, column]\n",
    "TN = confusion[0, 0]\n",
    "FP = confusion[0, 1]\n",
    "FN = confusion[1, 0]\n",
    "TP = confusion[1, 1]\n",
    "FP"
   ]
  },
  {
   "cell_type": "code",
   "execution_count": 21,
   "metadata": {},
   "outputs": [
    {
     "data": {
      "text/plain": [
       "153000.0"
      ]
     },
     "execution_count": 21,
     "metadata": {},
     "output_type": "execute_result"
    }
   ],
   "source": [
    "word_count=mnb.feature_count_.sum(axis=1)\n",
    "pwc=word_count[1]\n",
    "pwc"
   ]
  },
  {
   "cell_type": "code",
   "execution_count": 22,
   "metadata": {},
   "outputs": [
    {
     "data": {
      "text/plain": [
       "137807.0"
      ]
     },
     "execution_count": 22,
     "metadata": {},
     "output_type": "execute_result"
    }
   ],
   "source": [
    "sum(list(mnb.feature_count_[0]))\n"
   ]
  },
  {
   "cell_type": "code",
   "execution_count": 23,
   "metadata": {},
   "outputs": [
    {
     "data": {
      "text/plain": [
       "1390"
      ]
     },
     "execution_count": 23,
     "metadata": {},
     "output_type": "execute_result"
    }
   ],
   "source": [
    "vect3.vocabulary_.get(\"stupid\")"
   ]
  },
  {
   "cell_type": "code",
   "execution_count": 24,
   "metadata": {},
   "outputs": [
    {
     "data": {
      "text/plain": [
       "Neg    161.0\n",
       "Pos     35.0\n",
       "Name: stupid, dtype: float64"
      ]
     },
     "execution_count": 24,
     "metadata": {},
     "output_type": "execute_result"
    }
   ],
   "source": [
    "Neg_token_count = mnb.feature_count_[0, :]\n",
    "Pos_token_count = mnb.feature_count_[1, :]\n",
    "tokens = pd.DataFrame({'words':X_train_vocabs, 'Pos':Pos_token_count, 'Neg':Neg_token_count}).set_index('words')\n",
    "tokens.loc['stupid', ]"
   ]
  },
  {
   "cell_type": "code",
   "execution_count": 25,
   "metadata": {},
   "outputs": [
    {
     "data": {
      "text/plain": [
       "Neg    41.0\n",
       "Pos    10.0\n",
       "Name: painfully, dtype: float64"
      ]
     },
     "execution_count": 25,
     "metadata": {},
     "output_type": "execute_result"
    }
   ],
   "source": [
    "\n",
    "Neg_token_count = mnb.feature_count_[0, :]\n",
    "Pos_token_count = mnb.feature_count_[1, :]\n",
    "tokens = pd.DataFrame({'words':X_train_vocabs, 'Pos':Pos_token_count, 'Neg':Neg_token_count}).set_index('words')\n",
    "tokens.loc['painfully', ]\n",
    "\n"
   ]
  },
  {
   "cell_type": "code",
   "execution_count": 26,
   "metadata": {},
   "outputs": [
    {
     "data": {
      "text/plain": [
       "153000.0"
      ]
     },
     "execution_count": 26,
     "metadata": {},
     "output_type": "execute_result"
    }
   ],
   "source": [
    "sum(list(mnb.feature_count_[1]))\n"
   ]
  },
  {
   "cell_type": "code",
   "execution_count": 27,
   "metadata": {},
   "outputs": [],
   "source": [
    "tokens[\"N\"]=tokens[\"Neg\"].apply(lambda s:s/sum(list(mnb.feature_count_[0])))\n",
    "tokens[\"P\"]=tokens[\"Pos\"].apply(lambda s:s/sum(list(mnb.feature_count_[1])))"
   ]
  },
  {
   "cell_type": "code",
   "execution_count": 30,
   "metadata": {},
   "outputs": [],
   "source": [
    "tokens[\"r\"]=tokens[\"N\"]/tokens[\"P\"]"
   ]
  },
  {
   "cell_type": "code",
   "execution_count": 35,
   "metadata": {},
   "outputs": [
    {
     "data": {
      "text/html": [
       "<div>\n",
       "<style scoped>\n",
       "    .dataframe tbody tr th:only-of-type {\n",
       "        vertical-align: middle;\n",
       "    }\n",
       "\n",
       "    .dataframe tbody tr th {\n",
       "        vertical-align: top;\n",
       "    }\n",
       "\n",
       "    .dataframe thead th {\n",
       "        text-align: right;\n",
       "    }\n",
       "</style>\n",
       "<table border=\"1\" class=\"dataframe\">\n",
       "  <thead>\n",
       "    <tr style=\"text-align: right;\">\n",
       "      <th></th>\n",
       "      <th>Neg</th>\n",
       "      <th>Pos</th>\n",
       "      <th>N</th>\n",
       "      <th>P</th>\n",
       "      <th>r</th>\n",
       "    </tr>\n",
       "    <tr>\n",
       "      <th>words</th>\n",
       "      <th></th>\n",
       "      <th></th>\n",
       "      <th></th>\n",
       "      <th></th>\n",
       "      <th></th>\n",
       "    </tr>\n",
       "  </thead>\n",
       "  <tbody>\n",
       "    <tr>\n",
       "      <th>outstanding</th>\n",
       "      <td>5.0</td>\n",
       "      <td>57.0</td>\n",
       "      <td>0.000036</td>\n",
       "      <td>0.000373</td>\n",
       "      <td>0.097390</td>\n",
       "    </tr>\n",
       "    <tr>\n",
       "      <th>wonderfully</th>\n",
       "      <td>9.0</td>\n",
       "      <td>59.0</td>\n",
       "      <td>0.000065</td>\n",
       "      <td>0.000386</td>\n",
       "      <td>0.169360</td>\n",
       "    </tr>\n",
       "    <tr>\n",
       "      <th>pulp</th>\n",
       "      <td>13.0</td>\n",
       "      <td>74.0</td>\n",
       "      <td>0.000094</td>\n",
       "      <td>0.000484</td>\n",
       "      <td>0.195044</td>\n",
       "    </tr>\n",
       "    <tr>\n",
       "      <th>cameron</th>\n",
       "      <td>21.0</td>\n",
       "      <td>119.0</td>\n",
       "      <td>0.000152</td>\n",
       "      <td>0.000778</td>\n",
       "      <td>0.195926</td>\n",
       "    </tr>\n",
       "    <tr>\n",
       "      <th>era</th>\n",
       "      <td>14.0</td>\n",
       "      <td>67.0</td>\n",
       "      <td>0.000102</td>\n",
       "      <td>0.000438</td>\n",
       "      <td>0.231992</td>\n",
       "    </tr>\n",
       "    <tr>\n",
       "      <th>satisfying</th>\n",
       "      <td>10.0</td>\n",
       "      <td>46.0</td>\n",
       "      <td>0.000073</td>\n",
       "      <td>0.000301</td>\n",
       "      <td>0.241358</td>\n",
       "    </tr>\n",
       "    <tr>\n",
       "      <th>fantastic</th>\n",
       "      <td>10.0</td>\n",
       "      <td>45.0</td>\n",
       "      <td>0.000073</td>\n",
       "      <td>0.000294</td>\n",
       "      <td>0.246722</td>\n",
       "    </tr>\n",
       "    <tr>\n",
       "      <th>superb</th>\n",
       "      <td>14.0</td>\n",
       "      <td>62.0</td>\n",
       "      <td>0.000102</td>\n",
       "      <td>0.000405</td>\n",
       "      <td>0.250701</td>\n",
       "    </tr>\n",
       "    <tr>\n",
       "      <th>allows</th>\n",
       "      <td>14.0</td>\n",
       "      <td>59.0</td>\n",
       "      <td>0.000102</td>\n",
       "      <td>0.000386</td>\n",
       "      <td>0.263449</td>\n",
       "    </tr>\n",
       "    <tr>\n",
       "      <th>portrayal</th>\n",
       "      <td>14.0</td>\n",
       "      <td>54.0</td>\n",
       "      <td>0.000102</td>\n",
       "      <td>0.000353</td>\n",
       "      <td>0.287842</td>\n",
       "    </tr>\n",
       "    <tr>\n",
       "      <th>terrific</th>\n",
       "      <td>21.0</td>\n",
       "      <td>79.0</td>\n",
       "      <td>0.000152</td>\n",
       "      <td>0.000516</td>\n",
       "      <td>0.295129</td>\n",
       "    </tr>\n",
       "    <tr>\n",
       "      <th>masterpiece</th>\n",
       "      <td>16.0</td>\n",
       "      <td>60.0</td>\n",
       "      <td>0.000116</td>\n",
       "      <td>0.000392</td>\n",
       "      <td>0.296066</td>\n",
       "    </tr>\n",
       "    <tr>\n",
       "      <th>political</th>\n",
       "      <td>27.0</td>\n",
       "      <td>99.0</td>\n",
       "      <td>0.000196</td>\n",
       "      <td>0.000647</td>\n",
       "      <td>0.302795</td>\n",
       "    </tr>\n",
       "    <tr>\n",
       "      <th>portrayed</th>\n",
       "      <td>15.0</td>\n",
       "      <td>55.0</td>\n",
       "      <td>0.000109</td>\n",
       "      <td>0.000359</td>\n",
       "      <td>0.302795</td>\n",
       "    </tr>\n",
       "    <tr>\n",
       "      <th>wars</th>\n",
       "      <td>32.0</td>\n",
       "      <td>115.0</td>\n",
       "      <td>0.000232</td>\n",
       "      <td>0.000752</td>\n",
       "      <td>0.308939</td>\n",
       "    </tr>\n",
       "    <tr>\n",
       "      <th>united</th>\n",
       "      <td>14.0</td>\n",
       "      <td>50.0</td>\n",
       "      <td>0.000102</td>\n",
       "      <td>0.000327</td>\n",
       "      <td>0.310870</td>\n",
       "    </tr>\n",
       "    <tr>\n",
       "      <th>perfectly</th>\n",
       "      <td>31.0</td>\n",
       "      <td>109.0</td>\n",
       "      <td>0.000225</td>\n",
       "      <td>0.000712</td>\n",
       "      <td>0.315759</td>\n",
       "    </tr>\n",
       "    <tr>\n",
       "      <th>natural</th>\n",
       "      <td>18.0</td>\n",
       "      <td>63.0</td>\n",
       "      <td>0.000131</td>\n",
       "      <td>0.000412</td>\n",
       "      <td>0.317214</td>\n",
       "    </tr>\n",
       "    <tr>\n",
       "      <th>pain</th>\n",
       "      <td>17.0</td>\n",
       "      <td>59.0</td>\n",
       "      <td>0.000123</td>\n",
       "      <td>0.000386</td>\n",
       "      <td>0.319902</td>\n",
       "    </tr>\n",
       "    <tr>\n",
       "      <th>memorable</th>\n",
       "      <td>28.0</td>\n",
       "      <td>96.0</td>\n",
       "      <td>0.000203</td>\n",
       "      <td>0.000627</td>\n",
       "      <td>0.323822</td>\n",
       "    </tr>\n",
       "    <tr>\n",
       "      <th>contrast</th>\n",
       "      <td>12.0</td>\n",
       "      <td>41.0</td>\n",
       "      <td>0.000087</td>\n",
       "      <td>0.000268</td>\n",
       "      <td>0.324951</td>\n",
       "    </tr>\n",
       "    <tr>\n",
       "      <th>excellent</th>\n",
       "      <td>33.0</td>\n",
       "      <td>112.0</td>\n",
       "      <td>0.000239</td>\n",
       "      <td>0.000732</td>\n",
       "      <td>0.327127</td>\n",
       "    </tr>\n",
       "    <tr>\n",
       "      <th>epic</th>\n",
       "      <td>20.0</td>\n",
       "      <td>65.0</td>\n",
       "      <td>0.000145</td>\n",
       "      <td>0.000425</td>\n",
       "      <td>0.341615</td>\n",
       "    </tr>\n",
       "    <tr>\n",
       "      <th>wonderful</th>\n",
       "      <td>43.0</td>\n",
       "      <td>139.0</td>\n",
       "      <td>0.000312</td>\n",
       "      <td>0.000908</td>\n",
       "      <td>0.343458</td>\n",
       "    </tr>\n",
       "    <tr>\n",
       "      <th>remarkable</th>\n",
       "      <td>14.0</td>\n",
       "      <td>45.0</td>\n",
       "      <td>0.000102</td>\n",
       "      <td>0.000294</td>\n",
       "      <td>0.345411</td>\n",
       "    </tr>\n",
       "    <tr>\n",
       "      <th>fascinating</th>\n",
       "      <td>19.0</td>\n",
       "      <td>61.0</td>\n",
       "      <td>0.000138</td>\n",
       "      <td>0.000399</td>\n",
       "      <td>0.345815</td>\n",
       "    </tr>\n",
       "    <tr>\n",
       "      <th>disney</th>\n",
       "      <td>56.0</td>\n",
       "      <td>178.0</td>\n",
       "      <td>0.000406</td>\n",
       "      <td>0.001163</td>\n",
       "      <td>0.349292</td>\n",
       "    </tr>\n",
       "    <tr>\n",
       "      <th>culture</th>\n",
       "      <td>21.0</td>\n",
       "      <td>66.0</td>\n",
       "      <td>0.000152</td>\n",
       "      <td>0.000431</td>\n",
       "      <td>0.353261</td>\n",
       "    </tr>\n",
       "    <tr>\n",
       "      <th>effective</th>\n",
       "      <td>37.0</td>\n",
       "      <td>116.0</td>\n",
       "      <td>0.000268</td>\n",
       "      <td>0.000758</td>\n",
       "      <td>0.354131</td>\n",
       "    </tr>\n",
       "    <tr>\n",
       "      <th>grand</th>\n",
       "      <td>17.0</td>\n",
       "      <td>53.0</td>\n",
       "      <td>0.000123</td>\n",
       "      <td>0.000346</td>\n",
       "      <td>0.356117</td>\n",
       "    </tr>\n",
       "    <tr>\n",
       "      <th>...</th>\n",
       "      <td>...</td>\n",
       "      <td>...</td>\n",
       "      <td>...</td>\n",
       "      <td>...</td>\n",
       "      <td>...</td>\n",
       "    </tr>\n",
       "    <tr>\n",
       "      <th>subplot</th>\n",
       "      <td>72.0</td>\n",
       "      <td>27.0</td>\n",
       "      <td>0.000522</td>\n",
       "      <td>0.000176</td>\n",
       "      <td>2.960662</td>\n",
       "    </tr>\n",
       "    <tr>\n",
       "      <th>disappointing</th>\n",
       "      <td>48.0</td>\n",
       "      <td>18.0</td>\n",
       "      <td>0.000348</td>\n",
       "      <td>0.000118</td>\n",
       "      <td>2.960662</td>\n",
       "    </tr>\n",
       "    <tr>\n",
       "      <th>rent</th>\n",
       "      <td>48.0</td>\n",
       "      <td>18.0</td>\n",
       "      <td>0.000348</td>\n",
       "      <td>0.000118</td>\n",
       "      <td>2.960662</td>\n",
       "    </tr>\n",
       "    <tr>\n",
       "      <th>supposed</th>\n",
       "      <td>196.0</td>\n",
       "      <td>72.0</td>\n",
       "      <td>0.001422</td>\n",
       "      <td>0.000471</td>\n",
       "      <td>3.022343</td>\n",
       "    </tr>\n",
       "    <tr>\n",
       "      <th>ass</th>\n",
       "      <td>57.0</td>\n",
       "      <td>20.0</td>\n",
       "      <td>0.000414</td>\n",
       "      <td>0.000131</td>\n",
       "      <td>3.164208</td>\n",
       "    </tr>\n",
       "    <tr>\n",
       "      <th>bad</th>\n",
       "      <td>839.0</td>\n",
       "      <td>294.0</td>\n",
       "      <td>0.006088</td>\n",
       "      <td>0.001922</td>\n",
       "      <td>3.168362</td>\n",
       "    </tr>\n",
       "    <tr>\n",
       "      <th>batman</th>\n",
       "      <td>117.0</td>\n",
       "      <td>40.0</td>\n",
       "      <td>0.000849</td>\n",
       "      <td>0.000261</td>\n",
       "      <td>3.247477</td>\n",
       "    </tr>\n",
       "    <tr>\n",
       "      <th>fails</th>\n",
       "      <td>103.0</td>\n",
       "      <td>35.0</td>\n",
       "      <td>0.000747</td>\n",
       "      <td>0.000229</td>\n",
       "      <td>3.267302</td>\n",
       "    </tr>\n",
       "    <tr>\n",
       "      <th>west</th>\n",
       "      <td>100.0</td>\n",
       "      <td>33.0</td>\n",
       "      <td>0.000726</td>\n",
       "      <td>0.000216</td>\n",
       "      <td>3.364389</td>\n",
       "    </tr>\n",
       "    <tr>\n",
       "      <th>crap</th>\n",
       "      <td>59.0</td>\n",
       "      <td>19.0</td>\n",
       "      <td>0.000428</td>\n",
       "      <td>0.000124</td>\n",
       "      <td>3.447613</td>\n",
       "    </tr>\n",
       "    <tr>\n",
       "      <th>naked</th>\n",
       "      <td>57.0</td>\n",
       "      <td>18.0</td>\n",
       "      <td>0.000414</td>\n",
       "      <td>0.000118</td>\n",
       "      <td>3.515787</td>\n",
       "    </tr>\n",
       "    <tr>\n",
       "      <th>badly</th>\n",
       "      <td>46.0</td>\n",
       "      <td>14.0</td>\n",
       "      <td>0.000334</td>\n",
       "      <td>0.000092</td>\n",
       "      <td>3.647959</td>\n",
       "    </tr>\n",
       "    <tr>\n",
       "      <th>mess</th>\n",
       "      <td>96.0</td>\n",
       "      <td>29.0</td>\n",
       "      <td>0.000697</td>\n",
       "      <td>0.000190</td>\n",
       "      <td>3.675305</td>\n",
       "    </tr>\n",
       "    <tr>\n",
       "      <th>laughable</th>\n",
       "      <td>44.0</td>\n",
       "      <td>12.0</td>\n",
       "      <td>0.000319</td>\n",
       "      <td>0.000078</td>\n",
       "      <td>4.070911</td>\n",
       "    </tr>\n",
       "    <tr>\n",
       "      <th>clich</th>\n",
       "      <td>48.0</td>\n",
       "      <td>13.0</td>\n",
       "      <td>0.000348</td>\n",
       "      <td>0.000085</td>\n",
       "      <td>4.099379</td>\n",
       "    </tr>\n",
       "    <tr>\n",
       "      <th>bland</th>\n",
       "      <td>50.0</td>\n",
       "      <td>13.0</td>\n",
       "      <td>0.000363</td>\n",
       "      <td>0.000085</td>\n",
       "      <td>4.270186</td>\n",
       "    </tr>\n",
       "    <tr>\n",
       "      <th>terrible</th>\n",
       "      <td>97.0</td>\n",
       "      <td>25.0</td>\n",
       "      <td>0.000704</td>\n",
       "      <td>0.000163</td>\n",
       "      <td>4.307764</td>\n",
       "    </tr>\n",
       "    <tr>\n",
       "      <th>painfully</th>\n",
       "      <td>41.0</td>\n",
       "      <td>10.0</td>\n",
       "      <td>0.000298</td>\n",
       "      <td>0.000065</td>\n",
       "      <td>4.552018</td>\n",
       "    </tr>\n",
       "    <tr>\n",
       "      <th>dull</th>\n",
       "      <td>86.0</td>\n",
       "      <td>20.0</td>\n",
       "      <td>0.000624</td>\n",
       "      <td>0.000131</td>\n",
       "      <td>4.774068</td>\n",
       "    </tr>\n",
       "    <tr>\n",
       "      <th>awful</th>\n",
       "      <td>96.0</td>\n",
       "      <td>21.0</td>\n",
       "      <td>0.000697</td>\n",
       "      <td>0.000137</td>\n",
       "      <td>5.075421</td>\n",
       "    </tr>\n",
       "    <tr>\n",
       "      <th>stupid</th>\n",
       "      <td>161.0</td>\n",
       "      <td>35.0</td>\n",
       "      <td>0.001168</td>\n",
       "      <td>0.000229</td>\n",
       "      <td>5.107143</td>\n",
       "    </tr>\n",
       "    <tr>\n",
       "      <th>boring</th>\n",
       "      <td>167.0</td>\n",
       "      <td>36.0</td>\n",
       "      <td>0.001212</td>\n",
       "      <td>0.000235</td>\n",
       "      <td>5.150319</td>\n",
       "    </tr>\n",
       "    <tr>\n",
       "      <th>worst</th>\n",
       "      <td>206.0</td>\n",
       "      <td>44.0</td>\n",
       "      <td>0.001495</td>\n",
       "      <td>0.000288</td>\n",
       "      <td>5.197981</td>\n",
       "    </tr>\n",
       "    <tr>\n",
       "      <th>pointless</th>\n",
       "      <td>61.0</td>\n",
       "      <td>13.0</td>\n",
       "      <td>0.000443</td>\n",
       "      <td>0.000085</td>\n",
       "      <td>5.209627</td>\n",
       "    </tr>\n",
       "    <tr>\n",
       "      <th>poorly</th>\n",
       "      <td>58.0</td>\n",
       "      <td>12.0</td>\n",
       "      <td>0.000421</td>\n",
       "      <td>0.000078</td>\n",
       "      <td>5.366201</td>\n",
       "    </tr>\n",
       "    <tr>\n",
       "      <th>ridiculous</th>\n",
       "      <td>94.0</td>\n",
       "      <td>19.0</td>\n",
       "      <td>0.000682</td>\n",
       "      <td>0.000124</td>\n",
       "      <td>5.492808</td>\n",
       "    </tr>\n",
       "    <tr>\n",
       "      <th>lame</th>\n",
       "      <td>77.0</td>\n",
       "      <td>14.0</td>\n",
       "      <td>0.000559</td>\n",
       "      <td>0.000092</td>\n",
       "      <td>6.106366</td>\n",
       "    </tr>\n",
       "    <tr>\n",
       "      <th>wasted</th>\n",
       "      <td>78.0</td>\n",
       "      <td>14.0</td>\n",
       "      <td>0.000566</td>\n",
       "      <td>0.000092</td>\n",
       "      <td>6.185670</td>\n",
       "    </tr>\n",
       "    <tr>\n",
       "      <th>unfunny</th>\n",
       "      <td>60.0</td>\n",
       "      <td>10.0</td>\n",
       "      <td>0.000435</td>\n",
       "      <td>0.000065</td>\n",
       "      <td>6.661490</td>\n",
       "    </tr>\n",
       "    <tr>\n",
       "      <th>waste</th>\n",
       "      <td>91.0</td>\n",
       "      <td>15.0</td>\n",
       "      <td>0.000660</td>\n",
       "      <td>0.000098</td>\n",
       "      <td>6.735507</td>\n",
       "    </tr>\n",
       "  </tbody>\n",
       "</table>\n",
       "<p>1643 rows × 5 columns</p>\n",
       "</div>"
      ],
      "text/plain": [
       "                 Neg    Pos         N         P         r\n",
       "words                                                    \n",
       "outstanding      5.0   57.0  0.000036  0.000373  0.097390\n",
       "wonderfully      9.0   59.0  0.000065  0.000386  0.169360\n",
       "pulp            13.0   74.0  0.000094  0.000484  0.195044\n",
       "cameron         21.0  119.0  0.000152  0.000778  0.195926\n",
       "era             14.0   67.0  0.000102  0.000438  0.231992\n",
       "satisfying      10.0   46.0  0.000073  0.000301  0.241358\n",
       "fantastic       10.0   45.0  0.000073  0.000294  0.246722\n",
       "superb          14.0   62.0  0.000102  0.000405  0.250701\n",
       "allows          14.0   59.0  0.000102  0.000386  0.263449\n",
       "portrayal       14.0   54.0  0.000102  0.000353  0.287842\n",
       "terrific        21.0   79.0  0.000152  0.000516  0.295129\n",
       "masterpiece     16.0   60.0  0.000116  0.000392  0.296066\n",
       "political       27.0   99.0  0.000196  0.000647  0.302795\n",
       "portrayed       15.0   55.0  0.000109  0.000359  0.302795\n",
       "wars            32.0  115.0  0.000232  0.000752  0.308939\n",
       "united          14.0   50.0  0.000102  0.000327  0.310870\n",
       "perfectly       31.0  109.0  0.000225  0.000712  0.315759\n",
       "natural         18.0   63.0  0.000131  0.000412  0.317214\n",
       "pain            17.0   59.0  0.000123  0.000386  0.319902\n",
       "memorable       28.0   96.0  0.000203  0.000627  0.323822\n",
       "contrast        12.0   41.0  0.000087  0.000268  0.324951\n",
       "excellent       33.0  112.0  0.000239  0.000732  0.327127\n",
       "epic            20.0   65.0  0.000145  0.000425  0.341615\n",
       "wonderful       43.0  139.0  0.000312  0.000908  0.343458\n",
       "remarkable      14.0   45.0  0.000102  0.000294  0.345411\n",
       "fascinating     19.0   61.0  0.000138  0.000399  0.345815\n",
       "disney          56.0  178.0  0.000406  0.001163  0.349292\n",
       "culture         21.0   66.0  0.000152  0.000431  0.353261\n",
       "effective       37.0  116.0  0.000268  0.000758  0.354131\n",
       "grand           17.0   53.0  0.000123  0.000346  0.356117\n",
       "...              ...    ...       ...       ...       ...\n",
       "subplot         72.0   27.0  0.000522  0.000176  2.960662\n",
       "disappointing   48.0   18.0  0.000348  0.000118  2.960662\n",
       "rent            48.0   18.0  0.000348  0.000118  2.960662\n",
       "supposed       196.0   72.0  0.001422  0.000471  3.022343\n",
       "ass             57.0   20.0  0.000414  0.000131  3.164208\n",
       "bad            839.0  294.0  0.006088  0.001922  3.168362\n",
       "batman         117.0   40.0  0.000849  0.000261  3.247477\n",
       "fails          103.0   35.0  0.000747  0.000229  3.267302\n",
       "west           100.0   33.0  0.000726  0.000216  3.364389\n",
       "crap            59.0   19.0  0.000428  0.000124  3.447613\n",
       "naked           57.0   18.0  0.000414  0.000118  3.515787\n",
       "badly           46.0   14.0  0.000334  0.000092  3.647959\n",
       "mess            96.0   29.0  0.000697  0.000190  3.675305\n",
       "laughable       44.0   12.0  0.000319  0.000078  4.070911\n",
       "clich           48.0   13.0  0.000348  0.000085  4.099379\n",
       "bland           50.0   13.0  0.000363  0.000085  4.270186\n",
       "terrible        97.0   25.0  0.000704  0.000163  4.307764\n",
       "painfully       41.0   10.0  0.000298  0.000065  4.552018\n",
       "dull            86.0   20.0  0.000624  0.000131  4.774068\n",
       "awful           96.0   21.0  0.000697  0.000137  5.075421\n",
       "stupid         161.0   35.0  0.001168  0.000229  5.107143\n",
       "boring         167.0   36.0  0.001212  0.000235  5.150319\n",
       "worst          206.0   44.0  0.001495  0.000288  5.197981\n",
       "pointless       61.0   13.0  0.000443  0.000085  5.209627\n",
       "poorly          58.0   12.0  0.000421  0.000078  5.366201\n",
       "ridiculous      94.0   19.0  0.000682  0.000124  5.492808\n",
       "lame            77.0   14.0  0.000559  0.000092  6.106366\n",
       "wasted          78.0   14.0  0.000566  0.000092  6.185670\n",
       "unfunny         60.0   10.0  0.000435  0.000065  6.661490\n",
       "waste           91.0   15.0  0.000660  0.000098  6.735507\n",
       "\n",
       "[1643 rows x 5 columns]"
      ]
     },
     "execution_count": 35,
     "metadata": {},
     "output_type": "execute_result"
    }
   ],
   "source": [
    "tokens.sort_values(\"r\")"
   ]
  }
 ],
 "metadata": {
  "kernelspec": {
   "display_name": "Python 3",
   "language": "python",
   "name": "python3"
  },
  "language_info": {
   "codemirror_mode": {
    "name": "ipython",
    "version": 2
   },
   "file_extension": ".py",
   "mimetype": "text/x-python",
   "name": "python",
   "nbconvert_exporter": "python",
   "pygments_lexer": "ipython2",
   "version": "2.7.12"
  }
 },
 "nbformat": 4,
 "nbformat_minor": 2
}
