{
 "cells": [
  {
   "cell_type": "code",
   "execution_count": 1,
   "metadata": {},
   "outputs": [
    {
     "data": {
      "text/html": [
       "<div>\n",
       "<style scoped>\n",
       "    .dataframe tbody tr th:only-of-type {\n",
       "        vertical-align: middle;\n",
       "    }\n",
       "\n",
       "    .dataframe tbody tr th {\n",
       "        vertical-align: top;\n",
       "    }\n",
       "\n",
       "    .dataframe thead th {\n",
       "        text-align: right;\n",
       "    }\n",
       "</style>\n",
       "<table border=\"1\" class=\"dataframe\">\n",
       "  <thead>\n",
       "    <tr style=\"text-align: right;\">\n",
       "      <th></th>\n",
       "      <th>Class</th>\n",
       "      <th>sms</th>\n",
       "    </tr>\n",
       "  </thead>\n",
       "  <tbody>\n",
       "    <tr>\n",
       "      <th>0</th>\n",
       "      <td>ham</td>\n",
       "      <td>Go until jurong point, crazy.. Available only ...</td>\n",
       "    </tr>\n",
       "    <tr>\n",
       "      <th>1</th>\n",
       "      <td>ham</td>\n",
       "      <td>Ok lar... Joking wif u oni...</td>\n",
       "    </tr>\n",
       "    <tr>\n",
       "      <th>2</th>\n",
       "      <td>spam</td>\n",
       "      <td>Free entry in 2 a wkly comp to win FA Cup fina...</td>\n",
       "    </tr>\n",
       "    <tr>\n",
       "      <th>3</th>\n",
       "      <td>ham</td>\n",
       "      <td>U dun say so early hor... U c already then say...</td>\n",
       "    </tr>\n",
       "    <tr>\n",
       "      <th>4</th>\n",
       "      <td>ham</td>\n",
       "      <td>Nah I don't think he goes to usf, he lives aro...</td>\n",
       "    </tr>\n",
       "  </tbody>\n",
       "</table>\n",
       "</div>"
      ],
      "text/plain": [
       "  Class                                                sms\n",
       "0   ham  Go until jurong point, crazy.. Available only ...\n",
       "1   ham                      Ok lar... Joking wif u oni...\n",
       "2  spam  Free entry in 2 a wkly comp to win FA Cup fina...\n",
       "3   ham  U dun say so early hor... U c already then say...\n",
       "4   ham  Nah I don't think he goes to usf, he lives aro..."
      ]
     },
     "execution_count": 1,
     "metadata": {},
     "output_type": "execute_result"
    }
   ],
   "source": [
    "import pandas as pd\n",
    "\n",
    "#docs = pd.read_excel('SMSSpamCollection.xls',header=None,names=['Class', 'SMS']) \n",
    "docs = pd.read_table('SMSSpamCollection', header=None, names=['Class', 'sms'])\n",
    "\n",
    "#classifier in column 1, sms in column 2.\n",
    "docs.head()\n"
   ]
  },
  {
   "cell_type": "code",
   "execution_count": 2,
   "metadata": {},
   "outputs": [
    {
     "data": {
      "text/plain": [
       "ham     4825\n",
       "spam     747\n",
       "Name: Class, dtype: int64"
      ]
     },
     "execution_count": 2,
     "metadata": {},
     "output_type": "execute_result"
    }
   ],
   "source": [
    "# counting spam and ham instances\n",
    "# df.column_name.value_counts() - gives no. of unique inputs in the columns\n",
    "\n",
    "ham_spam=docs.Class.value_counts()\n",
    "ham_spam"
   ]
  },
  {
   "cell_type": "code",
   "execution_count": 3,
   "metadata": {},
   "outputs": [
    {
     "name": "stdout",
     "output_type": "stream",
     "text": [
      "('Spam % is ', 13.406317300789663)\n"
     ]
    }
   ],
   "source": [
    "print(\"Spam % is \",(ham_spam[1]/float(ham_spam[0]+ham_spam[1]))*100)"
   ]
  },
  {
   "cell_type": "code",
   "execution_count": 4,
   "metadata": {},
   "outputs": [],
   "source": [
    "# mapping labels to 0 and 1\n",
    "docs['label'] = docs.Class.map({'ham':0, 'spam':1})"
   ]
  },
  {
   "cell_type": "code",
   "execution_count": 5,
   "metadata": {},
   "outputs": [
    {
     "data": {
      "text/html": [
       "<div>\n",
       "<style scoped>\n",
       "    .dataframe tbody tr th:only-of-type {\n",
       "        vertical-align: middle;\n",
       "    }\n",
       "\n",
       "    .dataframe tbody tr th {\n",
       "        vertical-align: top;\n",
       "    }\n",
       "\n",
       "    .dataframe thead th {\n",
       "        text-align: right;\n",
       "    }\n",
       "</style>\n",
       "<table border=\"1\" class=\"dataframe\">\n",
       "  <thead>\n",
       "    <tr style=\"text-align: right;\">\n",
       "      <th></th>\n",
       "      <th>Class</th>\n",
       "      <th>sms</th>\n",
       "      <th>label</th>\n",
       "    </tr>\n",
       "  </thead>\n",
       "  <tbody>\n",
       "    <tr>\n",
       "      <th>0</th>\n",
       "      <td>ham</td>\n",
       "      <td>Go until jurong point, crazy.. Available only ...</td>\n",
       "      <td>0</td>\n",
       "    </tr>\n",
       "    <tr>\n",
       "      <th>1</th>\n",
       "      <td>ham</td>\n",
       "      <td>Ok lar... Joking wif u oni...</td>\n",
       "      <td>0</td>\n",
       "    </tr>\n",
       "    <tr>\n",
       "      <th>2</th>\n",
       "      <td>spam</td>\n",
       "      <td>Free entry in 2 a wkly comp to win FA Cup fina...</td>\n",
       "      <td>1</td>\n",
       "    </tr>\n",
       "    <tr>\n",
       "      <th>3</th>\n",
       "      <td>ham</td>\n",
       "      <td>U dun say so early hor... U c already then say...</td>\n",
       "      <td>0</td>\n",
       "    </tr>\n",
       "    <tr>\n",
       "      <th>4</th>\n",
       "      <td>ham</td>\n",
       "      <td>Nah I don't think he goes to usf, he lives aro...</td>\n",
       "      <td>0</td>\n",
       "    </tr>\n",
       "  </tbody>\n",
       "</table>\n",
       "</div>"
      ],
      "text/plain": [
       "  Class                                                sms  label\n",
       "0   ham  Go until jurong point, crazy.. Available only ...      0\n",
       "1   ham                      Ok lar... Joking wif u oni...      0\n",
       "2  spam  Free entry in 2 a wkly comp to win FA Cup fina...      1\n",
       "3   ham  U dun say so early hor... U c already then say...      0\n",
       "4   ham  Nah I don't think he goes to usf, he lives aro...      0"
      ]
     },
     "execution_count": 5,
     "metadata": {},
     "output_type": "execute_result"
    }
   ],
   "source": [
    "docs.head()"
   ]
  },
  {
   "cell_type": "code",
   "execution_count": 6,
   "metadata": {},
   "outputs": [],
   "source": [
    "X=docs.sms\n",
    "y=docs.label"
   ]
  },
  {
   "cell_type": "code",
   "execution_count": 7,
   "metadata": {},
   "outputs": [
    {
     "name": "stdout",
     "output_type": "stream",
     "text": [
      "(5572,)\n",
      "(5572,)\n"
     ]
    }
   ],
   "source": [
    "X = docs.sms\n",
    "y = docs.label\n",
    "print(X.shape)\n",
    "print(y.shape)"
   ]
  },
  {
   "cell_type": "code",
   "execution_count": 8,
   "metadata": {},
   "outputs": [],
   "source": [
    "# splitting into test and train\n",
    "\n",
    "from sklearn.model_selection  import train_test_split\n",
    "X_train, X_test, y_train, y_test = train_test_split(X, y, random_state=1)"
   ]
  },
  {
   "cell_type": "code",
   "execution_count": 9,
   "metadata": {},
   "outputs": [
    {
     "data": {
      "text/plain": [
       "710     4mths half price Orange line rental & latest c...\n",
       "3740                           Did you stitch his trouser\n",
       "2711    Hope you enjoyed your new content. text stop t...\n",
       "3155    Not heard from U4 a while. Call 4 rude chat pr...\n",
       "3748    Ü neva tell me how i noe... I'm not at home in...\n",
       "Name: sms, dtype: object"
      ]
     },
     "execution_count": 9,
     "metadata": {},
     "output_type": "execute_result"
    }
   ],
   "source": [
    "X_train.head()\n"
   ]
  },
  {
   "cell_type": "code",
   "execution_count": 10,
   "metadata": {},
   "outputs": [],
   "source": [
    "# vectorizing the sentences; removing stop words\n",
    "from sklearn.feature_extraction.text import CountVectorizer\n",
    "vect = CountVectorizer(stop_words='english')"
   ]
  },
  {
   "cell_type": "code",
   "execution_count": 11,
   "metadata": {
    "scrolled": true
   },
   "outputs": [],
   "source": [
    "dic=vect.fit(X_train)\n",
    "# X_train_dtm = vect.transform(X_train)"
   ]
  },
  {
   "cell_type": "code",
   "execution_count": 12,
   "metadata": {},
   "outputs": [
    {
     "data": {
      "text/plain": [
       "7204"
      ]
     },
     "execution_count": 12,
     "metadata": {},
     "output_type": "execute_result"
    }
   ],
   "source": [
    "# printing the vocabulary\n",
    "vect.vocabulary_\n",
    "\n",
    "X_train_vocabs_dict = dic.get_feature_names()\n",
    "len(X_train_vocabs_dict)\n"
   ]
  },
  {
   "cell_type": "code",
   "execution_count": 13,
   "metadata": {},
   "outputs": [],
   "source": [
    "# transforming the train and test datasets\n",
    "X_train_transformed = vect.transform(X_train)\n",
    "X_test_transformed =vect.transform(X_test)"
   ]
  },
  {
   "cell_type": "code",
   "execution_count": 14,
   "metadata": {},
   "outputs": [
    {
     "name": "stdout",
     "output_type": "stream",
     "text": [
      "<class 'scipy.sparse.csr.csr_matrix'>\n",
      "  (0, 50)\t1\n",
      "  (0, 264)\t1\n",
      "  (0, 509)\t1\n",
      "  (0, 1527)\t1\n",
      "  (0, 1971)\t1\n",
      "  (0, 2780)\t2\n",
      "  (0, 3089)\t1\n",
      "  (0, 3763)\t1\n",
      "  (0, 3852)\t1\n",
      "  (0, 4248)\t1\n",
      "  (0, 4624)\t1\n",
      "  (0, 4626)\t1\n",
      "  (0, 4818)\t1\n",
      "  (0, 4822)\t1\n",
      "  (0, 5027)\t1\n",
      "  (0, 5310)\t1\n",
      "  (0, 6673)\t1\n",
      "  (1, 2169)\t1\n",
      "  (1, 6028)\t1\n",
      "  (1, 6545)\t1\n",
      "  (2, 98)\t1\n",
      "  (2, 563)\t1\n",
      "  (2, 1867)\t1\n",
      "  (2, 2436)\t1\n",
      "  (2, 3180)\t1\n",
      "  :\t:\n",
      "  (4176, 3879)\t1\n",
      "  (4176, 4417)\t1\n",
      "  (4176, 5229)\t1\n",
      "  (4176, 6191)\t1\n",
      "  (4176, 7134)\t1\n",
      "  (4177, 254)\t1\n",
      "  (4177, 307)\t1\n",
      "  (4177, 358)\t1\n",
      "  (4177, 831)\t1\n",
      "  (4177, 2046)\t1\n",
      "  (4177, 2704)\t1\n",
      "  (4177, 3585)\t1\n",
      "  (4177, 3623)\t1\n",
      "  (4177, 4130)\t1\n",
      "  (4177, 4315)\t1\n",
      "  (4177, 4771)\t1\n",
      "  (4177, 5234)\t1\n",
      "  (4177, 5321)\t1\n",
      "  (4177, 5487)\t1\n",
      "  (4177, 5620)\t1\n",
      "  (4177, 6321)\t1\n",
      "  (4177, 6374)\t1\n",
      "  (4177, 6453)\t1\n",
      "  (4178, 1643)\t1\n",
      "  (4178, 5817)\t1\n"
     ]
    }
   ],
   "source": [
    "# note that the type is transformed matrix\n",
    "print(type(X_train_transformed))\n",
    "print(X_train_transformed)"
   ]
  },
  {
   "cell_type": "code",
   "execution_count": 15,
   "metadata": {},
   "outputs": [
    {
     "data": {
      "text/plain": [
       "0.9877961234745154"
      ]
     },
     "execution_count": 15,
     "metadata": {},
     "output_type": "execute_result"
    }
   ],
   "source": [
    "# training the NB model and making predictions\n",
    "from sklearn.naive_bayes import MultinomialNB\n",
    "mnb = MultinomialNB()\n",
    "\n",
    "# fit\n",
    "mnb.fit(X_train_transformed,y_train)\n",
    "\n",
    "# predict class\n",
    "y_pred_class = mnb.predict(X_test_transformed)\n",
    "\n",
    "# predict probabilities\n",
    "y_pred_proba =mnb.predict_proba(X_test_transformed)\n",
    "\n",
    "\n",
    "# printing the overall accuracy\n",
    "from sklearn import metrics\n",
    "metrics.accuracy_score(y_test, y_pred_class)\n"
   ]
  },
  {
   "cell_type": "code",
   "execution_count": 16,
   "metadata": {},
   "outputs": [
    {
     "data": {
      "text/plain": [
       "MultinomialNB(alpha=1.0, class_prior=None, fit_prior=True)"
      ]
     },
     "execution_count": 16,
     "metadata": {},
     "output_type": "execute_result"
    }
   ],
   "source": [
    "# note that alpha=1 is used by default for smoothing\n",
    "mnb"
   ]
  },
  {
   "cell_type": "code",
   "execution_count": 17,
   "metadata": {},
   "outputs": [
    {
     "data": {
      "text/plain": [
       "array([[1201,    7],\n",
       "       [  10,  175]])"
      ]
     },
     "execution_count": 17,
     "metadata": {},
     "output_type": "execute_result"
    }
   ],
   "source": [
    "# confusion matrix\n",
    "metrics.confusion_matrix(y_test, y_pred_class)"
   ]
  },
  {
   "cell_type": "code",
   "execution_count": 18,
   "metadata": {},
   "outputs": [
    {
     "name": "stdout",
     "output_type": "stream",
     "text": [
      "[[1201    7]\n",
      " [  10  175]]\n"
     ]
    }
   ],
   "source": [
    "confusion = metrics.confusion_matrix(y_test, y_pred_class)\n",
    "print(confusion)\n",
    "#[row, column]\n",
    "TN = confusion[0, 0]\n",
    "FP = confusion[0, 1]\n",
    "FN = confusion[1, 0]\n",
    "TP = confusion[1, 1]"
   ]
  },
  {
   "cell_type": "code",
   "execution_count": 19,
   "metadata": {},
   "outputs": [
    {
     "name": "stdout",
     "output_type": "stream",
     "text": [
      "('sensitivity', 0.9459459459459459)\n"
     ]
    }
   ],
   "source": [
    "sensitivity = TP / float(FN + TP)\n",
    "print(\"sensitivity\",sensitivity)"
   ]
  },
  {
   "cell_type": "code",
   "execution_count": 20,
   "metadata": {},
   "outputs": [
    {
     "name": "stdout",
     "output_type": "stream",
     "text": [
      "('specificity', 0.9942052980132451)\n"
     ]
    }
   ],
   "source": [
    "specificity = TN / float(TN + FP)\n",
    "\n",
    "print(\"specificity\",specificity)"
   ]
  },
  {
   "cell_type": "code",
   "execution_count": 21,
   "metadata": {},
   "outputs": [
    {
     "name": "stdout",
     "output_type": "stream",
     "text": [
      "('precision', 0.9615384615384616)\n",
      "0.9615384615384616\n"
     ]
    }
   ],
   "source": [
    "precision = TP / float(TP + FP)\n",
    "\n",
    "print(\"precision\",precision)\n",
    "print(metrics.precision_score(y_test, y_pred_class))"
   ]
  },
  {
   "cell_type": "code",
   "execution_count": 22,
   "metadata": {},
   "outputs": [
    {
     "name": "stdout",
     "output_type": "stream",
     "text": [
      "('precision', 0.9615384615384616)\n",
      "('PRECISION SCORE :', 0.9615384615384616)\n",
      "('RECALL SCORE :', 0.9459459459459459)\n",
      "('F1 SCORE :', 0.9536784741144414)\n"
     ]
    }
   ],
   "source": [
    "print(\"precision\",precision)\n",
    "print(\"PRECISION SCORE :\",metrics.precision_score(y_test, y_pred_class))\n",
    "print(\"RECALL SCORE :\", metrics.recall_score(y_test, y_pred_class))\n",
    "print(\"F1 SCORE :\",metrics.f1_score(y_test, y_pred_class))"
   ]
  },
  {
   "cell_type": "code",
   "execution_count": 23,
   "metadata": {},
   "outputs": [
    {
     "data": {
      "text/plain": [
       "array([0, 0, 0, ..., 0, 1, 0])"
      ]
     },
     "execution_count": 23,
     "metadata": {},
     "output_type": "execute_result"
    }
   ],
   "source": [
    "y_pred_class"
   ]
  },
  {
   "cell_type": "code",
   "execution_count": 24,
   "metadata": {
    "scrolled": true
   },
   "outputs": [
    {
     "data": {
      "text/plain": [
       "array([[9.95239557e-01, 4.76044325e-03],\n",
       "       [9.99852357e-01, 1.47642544e-04],\n",
       "       [9.27878579e-01, 7.21214213e-02],\n",
       "       ...,\n",
       "       [9.99999671e-01, 3.28799076e-07],\n",
       "       [3.72703622e-09, 9.99999996e-01],\n",
       "       [9.99999985e-01, 1.46852511e-08]])"
      ]
     },
     "execution_count": 24,
     "metadata": {},
     "output_type": "execute_result"
    }
   ],
   "source": [
    "y_pred_proba"
   ]
  },
  {
   "cell_type": "code",
   "execution_count": 25,
   "metadata": {},
   "outputs": [],
   "source": [
    "# creating an ROC curve\n",
    "from sklearn.metrics import confusion_matrix as sk_confusion_matrix\n",
    "from sklearn.metrics import roc_curve, auc\n",
    "import matplotlib.pyplot as plt\n",
    "\n",
    "false_positive_rate, true_positive_rate, thresholds = roc_curve(y_test, y_pred_proba[:,1])\n",
    "roc_auc = auc(false_positive_rate, true_positive_rate)"
   ]
  },
  {
   "cell_type": "code",
   "execution_count": 26,
   "metadata": {},
   "outputs": [
    {
     "name": "stdout",
     "output_type": "stream",
     "text": [
      "0.9921872203329157\n"
     ]
    }
   ],
   "source": [
    "# area under the curve\n",
    "print (roc_auc)"
   ]
  },
  {
   "cell_type": "code",
   "execution_count": 27,
   "metadata": {
    "scrolled": true
   },
   "outputs": [
    {
     "name": "stdout",
     "output_type": "stream",
     "text": [
      "[0.30810811 0.31351351 0.33513514 0.34054054 0.35135135 0.36756757\n",
      " 0.4        0.41081081 0.59459459 0.60540541 0.61621622 0.62702703\n",
      " 0.67567568 0.68648649 0.71891892 0.72972973 0.94594595 0.94594595\n",
      " 0.94594595 0.94594595 0.95135135 0.95135135 0.96756757 0.96756757\n",
      " 0.96756757 0.96756757 0.96756757 0.96756757 0.96756757 0.96756757\n",
      " 0.96756757 0.96756757 0.96756757 0.97297297 0.97297297 0.97297297\n",
      " 0.97297297 0.97297297 0.97297297 0.97297297 0.97297297 0.97297297\n",
      " 0.97297297 0.97297297 0.97297297 0.97297297 0.97297297 0.97297297\n",
      " 0.97297297 0.97297297 0.97297297 0.97297297 0.97297297 0.97297297\n",
      " 0.97297297 0.97837838 0.97837838 0.97837838 0.97837838 0.97837838\n",
      " 0.97837838 0.97837838 0.97837838 0.97837838 0.97837838 0.97837838\n",
      " 0.97837838 0.98378378 0.98378378 0.98378378 0.98378378 0.98918919\n",
      " 0.98918919 0.98918919 0.98918919 0.99459459 0.99459459 1.\n",
      " 1.         1.         1.         1.         1.         1.\n",
      " 1.         1.         1.         1.         1.         1.\n",
      " 1.         1.         1.         1.         1.         1.\n",
      " 1.         1.         1.         1.         1.         1.\n",
      " 1.         1.         1.         1.         1.         1.\n",
      " 1.        ]\n"
     ]
    }
   ],
   "source": [
    "print(true_positive_rate)"
   ]
  },
  {
   "cell_type": "code",
   "execution_count": 28,
   "metadata": {},
   "outputs": [
    {
     "name": "stdout",
     "output_type": "stream",
     "text": [
      "[0.         0.         0.         0.         0.         0.\n",
      " 0.         0.         0.         0.         0.         0.\n",
      " 0.         0.         0.         0.         0.         0.00165563\n",
      " 0.00331126 0.0115894  0.0115894  0.01324503 0.01324503 0.02235099\n",
      " 0.02400662 0.0281457  0.03890728 0.04470199 0.04635762 0.04966887\n",
      " 0.05711921 0.06043046 0.06125828 0.06125828 0.06374172 0.06870861\n",
      " 0.07036424 0.0736755  0.07533113 0.08360927 0.08857616 0.09519868\n",
      " 0.0968543  0.10099338 0.10264901 0.11672185 0.11837748 0.12665563\n",
      " 0.12831126 0.13162252 0.13327815 0.14072848 0.14238411 0.14652318\n",
      " 0.1531457  0.1531457  0.1589404  0.16059603 0.16307947 0.1647351\n",
      " 0.20943709 0.21109272 0.22930464 0.23096026 0.23592715 0.2384106\n",
      " 0.26655629 0.26655629 0.27400662 0.27566225 0.29304636 0.29304636\n",
      " 0.30215232 0.30380795 0.30711921 0.30711921 0.31291391 0.31291391\n",
      " 0.32036424 0.32201987 0.37086093 0.37251656 0.38493377 0.3865894\n",
      " 0.43708609 0.43956954 0.46854305 0.47019868 0.59271523 0.59437086\n",
      " 0.64403974 0.65231788 0.6986755  0.70033113 0.78062914 0.78228477\n",
      " 0.80298013 0.80463576 0.85347682 0.85513245 0.86589404 0.86754967\n",
      " 0.94039735 0.94205298 0.95943709 0.96109272 0.97019868 0.97268212\n",
      " 1.        ]\n"
     ]
    }
   ],
   "source": [
    "print(false_positive_rate)"
   ]
  },
  {
   "cell_type": "code",
   "execution_count": 29,
   "metadata": {},
   "outputs": [
    {
     "name": "stdout",
     "output_type": "stream",
     "text": [
      "[1.00000000e+00 1.00000000e+00 1.00000000e+00 1.00000000e+00\n",
      " 1.00000000e+00 1.00000000e+00 1.00000000e+00 1.00000000e+00\n",
      " 9.99999996e-01 9.99999996e-01 9.99999995e-01 9.99999994e-01\n",
      " 9.99999891e-01 9.99999451e-01 9.99998530e-01 9.99997944e-01\n",
      " 8.23259521e-01 6.03514139e-01 5.57484017e-01 2.93007628e-01\n",
      " 2.83243254e-01 2.56756624e-01 2.53425148e-01 1.34568519e-01\n",
      " 1.34539652e-01 1.34510790e-01 1.34481933e-01 1.01551419e-01\n",
      " 9.39254835e-02 9.38832989e-02 7.38341494e-02 7.21048341e-02\n",
      " 7.10172010e-02 7.04886074e-02 6.89078701e-02 6.08617913e-02\n",
      " 6.02739339e-02 5.85415571e-02 5.85278961e-02 4.92769211e-02\n",
      " 4.92536993e-02 3.98139183e-02 3.97949694e-02 3.74097322e-02\n",
      " 3.74097322e-02 2.88222872e-02 2.87588101e-02 2.52608490e-02\n",
      " 2.52547459e-02 2.25172886e-02 2.17200381e-02 1.91483675e-02\n",
      " 1.90614072e-02 1.90567726e-02 1.65820422e-02 1.63327142e-02\n",
      " 1.53112191e-02 1.53037461e-02 1.47786698e-02 1.45856255e-02\n",
      " 7.97660888e-03 7.90702710e-03 6.19870579e-03 6.17975072e-03\n",
      " 5.62111311e-03 5.59444131e-03 3.88193895e-03 3.84792356e-03\n",
      " 3.44265027e-03 3.39834560e-03 2.60587132e-03 2.59421046e-03\n",
      " 2.32873866e-03 2.32283556e-03 2.24586870e-03 2.23235359e-03\n",
      " 2.11790190e-03 2.10924355e-03 1.92895304e-03 1.81240895e-03\n",
      " 7.26923728e-04 7.25944758e-04 5.95846511e-04 5.94317680e-04\n",
      " 3.03834392e-04 2.98201675e-04 1.80130766e-04 1.79181173e-04\n",
      " 2.59758085e-05 2.53136414e-05 8.39395764e-06 8.20621267e-06\n",
      " 3.22446568e-06 3.20986819e-06 1.88494983e-07 1.87353914e-07\n",
      " 6.41159776e-08 6.35714673e-08 6.43979696e-09 6.35499161e-09\n",
      " 4.00340347e-09 3.87006776e-09 2.32377322e-11 2.23338186e-11\n",
      " 6.32559568e-13 6.08660437e-13 4.17421525e-14 3.96833119e-14\n",
      " 6.22713116e-41]\n"
     ]
    }
   ],
   "source": [
    "print(thresholds)"
   ]
  },
  {
   "cell_type": "code",
   "execution_count": 30,
   "metadata": {},
   "outputs": [
    {
     "data": {
      "text/html": [
       "<div>\n",
       "<style scoped>\n",
       "    .dataframe tbody tr th:only-of-type {\n",
       "        vertical-align: middle;\n",
       "    }\n",
       "\n",
       "    .dataframe tbody tr th {\n",
       "        vertical-align: top;\n",
       "    }\n",
       "\n",
       "    .dataframe thead th {\n",
       "        text-align: right;\n",
       "    }\n",
       "</style>\n",
       "<table border=\"1\" class=\"dataframe\">\n",
       "  <thead>\n",
       "    <tr style=\"text-align: right;\">\n",
       "      <th></th>\n",
       "      <th>FPR</th>\n",
       "      <th>TPR</th>\n",
       "      <th>Threshold</th>\n",
       "    </tr>\n",
       "  </thead>\n",
       "  <tbody>\n",
       "    <tr>\n",
       "      <th>0</th>\n",
       "      <td>0.000000</td>\n",
       "      <td>0.308108</td>\n",
       "      <td>1.000000e+00</td>\n",
       "    </tr>\n",
       "    <tr>\n",
       "      <th>1</th>\n",
       "      <td>0.000000</td>\n",
       "      <td>0.313514</td>\n",
       "      <td>1.000000e+00</td>\n",
       "    </tr>\n",
       "    <tr>\n",
       "      <th>2</th>\n",
       "      <td>0.000000</td>\n",
       "      <td>0.335135</td>\n",
       "      <td>1.000000e+00</td>\n",
       "    </tr>\n",
       "    <tr>\n",
       "      <th>3</th>\n",
       "      <td>0.000000</td>\n",
       "      <td>0.340541</td>\n",
       "      <td>1.000000e+00</td>\n",
       "    </tr>\n",
       "    <tr>\n",
       "      <th>4</th>\n",
       "      <td>0.000000</td>\n",
       "      <td>0.351351</td>\n",
       "      <td>1.000000e+00</td>\n",
       "    </tr>\n",
       "    <tr>\n",
       "      <th>5</th>\n",
       "      <td>0.000000</td>\n",
       "      <td>0.367568</td>\n",
       "      <td>1.000000e+00</td>\n",
       "    </tr>\n",
       "    <tr>\n",
       "      <th>6</th>\n",
       "      <td>0.000000</td>\n",
       "      <td>0.400000</td>\n",
       "      <td>1.000000e+00</td>\n",
       "    </tr>\n",
       "    <tr>\n",
       "      <th>7</th>\n",
       "      <td>0.000000</td>\n",
       "      <td>0.410811</td>\n",
       "      <td>1.000000e+00</td>\n",
       "    </tr>\n",
       "    <tr>\n",
       "      <th>8</th>\n",
       "      <td>0.000000</td>\n",
       "      <td>0.594595</td>\n",
       "      <td>1.000000e+00</td>\n",
       "    </tr>\n",
       "    <tr>\n",
       "      <th>9</th>\n",
       "      <td>0.000000</td>\n",
       "      <td>0.605405</td>\n",
       "      <td>1.000000e+00</td>\n",
       "    </tr>\n",
       "    <tr>\n",
       "      <th>10</th>\n",
       "      <td>0.000000</td>\n",
       "      <td>0.616216</td>\n",
       "      <td>1.000000e+00</td>\n",
       "    </tr>\n",
       "    <tr>\n",
       "      <th>11</th>\n",
       "      <td>0.000000</td>\n",
       "      <td>0.627027</td>\n",
       "      <td>1.000000e+00</td>\n",
       "    </tr>\n",
       "    <tr>\n",
       "      <th>12</th>\n",
       "      <td>0.000000</td>\n",
       "      <td>0.675676</td>\n",
       "      <td>9.999999e-01</td>\n",
       "    </tr>\n",
       "    <tr>\n",
       "      <th>13</th>\n",
       "      <td>0.000000</td>\n",
       "      <td>0.686486</td>\n",
       "      <td>9.999995e-01</td>\n",
       "    </tr>\n",
       "    <tr>\n",
       "      <th>14</th>\n",
       "      <td>0.000000</td>\n",
       "      <td>0.718919</td>\n",
       "      <td>9.999985e-01</td>\n",
       "    </tr>\n",
       "    <tr>\n",
       "      <th>15</th>\n",
       "      <td>0.000000</td>\n",
       "      <td>0.729730</td>\n",
       "      <td>9.999979e-01</td>\n",
       "    </tr>\n",
       "    <tr>\n",
       "      <th>16</th>\n",
       "      <td>0.000000</td>\n",
       "      <td>0.945946</td>\n",
       "      <td>8.232595e-01</td>\n",
       "    </tr>\n",
       "    <tr>\n",
       "      <th>17</th>\n",
       "      <td>0.001656</td>\n",
       "      <td>0.945946</td>\n",
       "      <td>6.035141e-01</td>\n",
       "    </tr>\n",
       "    <tr>\n",
       "      <th>18</th>\n",
       "      <td>0.003311</td>\n",
       "      <td>0.945946</td>\n",
       "      <td>5.574840e-01</td>\n",
       "    </tr>\n",
       "    <tr>\n",
       "      <th>19</th>\n",
       "      <td>0.011589</td>\n",
       "      <td>0.945946</td>\n",
       "      <td>2.930076e-01</td>\n",
       "    </tr>\n",
       "    <tr>\n",
       "      <th>20</th>\n",
       "      <td>0.011589</td>\n",
       "      <td>0.951351</td>\n",
       "      <td>2.832433e-01</td>\n",
       "    </tr>\n",
       "    <tr>\n",
       "      <th>21</th>\n",
       "      <td>0.013245</td>\n",
       "      <td>0.951351</td>\n",
       "      <td>2.567566e-01</td>\n",
       "    </tr>\n",
       "    <tr>\n",
       "      <th>22</th>\n",
       "      <td>0.013245</td>\n",
       "      <td>0.967568</td>\n",
       "      <td>2.534251e-01</td>\n",
       "    </tr>\n",
       "    <tr>\n",
       "      <th>23</th>\n",
       "      <td>0.022351</td>\n",
       "      <td>0.967568</td>\n",
       "      <td>1.345685e-01</td>\n",
       "    </tr>\n",
       "    <tr>\n",
       "      <th>24</th>\n",
       "      <td>0.024007</td>\n",
       "      <td>0.967568</td>\n",
       "      <td>1.345397e-01</td>\n",
       "    </tr>\n",
       "    <tr>\n",
       "      <th>25</th>\n",
       "      <td>0.028146</td>\n",
       "      <td>0.967568</td>\n",
       "      <td>1.345108e-01</td>\n",
       "    </tr>\n",
       "    <tr>\n",
       "      <th>26</th>\n",
       "      <td>0.038907</td>\n",
       "      <td>0.967568</td>\n",
       "      <td>1.344819e-01</td>\n",
       "    </tr>\n",
       "    <tr>\n",
       "      <th>27</th>\n",
       "      <td>0.044702</td>\n",
       "      <td>0.967568</td>\n",
       "      <td>1.015514e-01</td>\n",
       "    </tr>\n",
       "    <tr>\n",
       "      <th>28</th>\n",
       "      <td>0.046358</td>\n",
       "      <td>0.967568</td>\n",
       "      <td>9.392548e-02</td>\n",
       "    </tr>\n",
       "    <tr>\n",
       "      <th>29</th>\n",
       "      <td>0.049669</td>\n",
       "      <td>0.967568</td>\n",
       "      <td>9.388330e-02</td>\n",
       "    </tr>\n",
       "    <tr>\n",
       "      <th>...</th>\n",
       "      <td>...</td>\n",
       "      <td>...</td>\n",
       "      <td>...</td>\n",
       "    </tr>\n",
       "    <tr>\n",
       "      <th>79</th>\n",
       "      <td>0.322020</td>\n",
       "      <td>1.000000</td>\n",
       "      <td>1.812409e-03</td>\n",
       "    </tr>\n",
       "    <tr>\n",
       "      <th>80</th>\n",
       "      <td>0.370861</td>\n",
       "      <td>1.000000</td>\n",
       "      <td>7.269237e-04</td>\n",
       "    </tr>\n",
       "    <tr>\n",
       "      <th>81</th>\n",
       "      <td>0.372517</td>\n",
       "      <td>1.000000</td>\n",
       "      <td>7.259448e-04</td>\n",
       "    </tr>\n",
       "    <tr>\n",
       "      <th>82</th>\n",
       "      <td>0.384934</td>\n",
       "      <td>1.000000</td>\n",
       "      <td>5.958465e-04</td>\n",
       "    </tr>\n",
       "    <tr>\n",
       "      <th>83</th>\n",
       "      <td>0.386589</td>\n",
       "      <td>1.000000</td>\n",
       "      <td>5.943177e-04</td>\n",
       "    </tr>\n",
       "    <tr>\n",
       "      <th>84</th>\n",
       "      <td>0.437086</td>\n",
       "      <td>1.000000</td>\n",
       "      <td>3.038344e-04</td>\n",
       "    </tr>\n",
       "    <tr>\n",
       "      <th>85</th>\n",
       "      <td>0.439570</td>\n",
       "      <td>1.000000</td>\n",
       "      <td>2.982017e-04</td>\n",
       "    </tr>\n",
       "    <tr>\n",
       "      <th>86</th>\n",
       "      <td>0.468543</td>\n",
       "      <td>1.000000</td>\n",
       "      <td>1.801308e-04</td>\n",
       "    </tr>\n",
       "    <tr>\n",
       "      <th>87</th>\n",
       "      <td>0.470199</td>\n",
       "      <td>1.000000</td>\n",
       "      <td>1.791812e-04</td>\n",
       "    </tr>\n",
       "    <tr>\n",
       "      <th>88</th>\n",
       "      <td>0.592715</td>\n",
       "      <td>1.000000</td>\n",
       "      <td>2.597581e-05</td>\n",
       "    </tr>\n",
       "    <tr>\n",
       "      <th>89</th>\n",
       "      <td>0.594371</td>\n",
       "      <td>1.000000</td>\n",
       "      <td>2.531364e-05</td>\n",
       "    </tr>\n",
       "    <tr>\n",
       "      <th>90</th>\n",
       "      <td>0.644040</td>\n",
       "      <td>1.000000</td>\n",
       "      <td>8.393958e-06</td>\n",
       "    </tr>\n",
       "    <tr>\n",
       "      <th>91</th>\n",
       "      <td>0.652318</td>\n",
       "      <td>1.000000</td>\n",
       "      <td>8.206213e-06</td>\n",
       "    </tr>\n",
       "    <tr>\n",
       "      <th>92</th>\n",
       "      <td>0.698675</td>\n",
       "      <td>1.000000</td>\n",
       "      <td>3.224466e-06</td>\n",
       "    </tr>\n",
       "    <tr>\n",
       "      <th>93</th>\n",
       "      <td>0.700331</td>\n",
       "      <td>1.000000</td>\n",
       "      <td>3.209868e-06</td>\n",
       "    </tr>\n",
       "    <tr>\n",
       "      <th>94</th>\n",
       "      <td>0.780629</td>\n",
       "      <td>1.000000</td>\n",
       "      <td>1.884950e-07</td>\n",
       "    </tr>\n",
       "    <tr>\n",
       "      <th>95</th>\n",
       "      <td>0.782285</td>\n",
       "      <td>1.000000</td>\n",
       "      <td>1.873539e-07</td>\n",
       "    </tr>\n",
       "    <tr>\n",
       "      <th>96</th>\n",
       "      <td>0.802980</td>\n",
       "      <td>1.000000</td>\n",
       "      <td>6.411598e-08</td>\n",
       "    </tr>\n",
       "    <tr>\n",
       "      <th>97</th>\n",
       "      <td>0.804636</td>\n",
       "      <td>1.000000</td>\n",
       "      <td>6.357147e-08</td>\n",
       "    </tr>\n",
       "    <tr>\n",
       "      <th>98</th>\n",
       "      <td>0.853477</td>\n",
       "      <td>1.000000</td>\n",
       "      <td>6.439797e-09</td>\n",
       "    </tr>\n",
       "    <tr>\n",
       "      <th>99</th>\n",
       "      <td>0.855132</td>\n",
       "      <td>1.000000</td>\n",
       "      <td>6.354992e-09</td>\n",
       "    </tr>\n",
       "    <tr>\n",
       "      <th>100</th>\n",
       "      <td>0.865894</td>\n",
       "      <td>1.000000</td>\n",
       "      <td>4.003403e-09</td>\n",
       "    </tr>\n",
       "    <tr>\n",
       "      <th>101</th>\n",
       "      <td>0.867550</td>\n",
       "      <td>1.000000</td>\n",
       "      <td>3.870068e-09</td>\n",
       "    </tr>\n",
       "    <tr>\n",
       "      <th>102</th>\n",
       "      <td>0.940397</td>\n",
       "      <td>1.000000</td>\n",
       "      <td>2.323773e-11</td>\n",
       "    </tr>\n",
       "    <tr>\n",
       "      <th>103</th>\n",
       "      <td>0.942053</td>\n",
       "      <td>1.000000</td>\n",
       "      <td>2.233382e-11</td>\n",
       "    </tr>\n",
       "    <tr>\n",
       "      <th>104</th>\n",
       "      <td>0.959437</td>\n",
       "      <td>1.000000</td>\n",
       "      <td>6.325596e-13</td>\n",
       "    </tr>\n",
       "    <tr>\n",
       "      <th>105</th>\n",
       "      <td>0.961093</td>\n",
       "      <td>1.000000</td>\n",
       "      <td>6.086604e-13</td>\n",
       "    </tr>\n",
       "    <tr>\n",
       "      <th>106</th>\n",
       "      <td>0.970199</td>\n",
       "      <td>1.000000</td>\n",
       "      <td>4.174215e-14</td>\n",
       "    </tr>\n",
       "    <tr>\n",
       "      <th>107</th>\n",
       "      <td>0.972682</td>\n",
       "      <td>1.000000</td>\n",
       "      <td>3.968331e-14</td>\n",
       "    </tr>\n",
       "    <tr>\n",
       "      <th>108</th>\n",
       "      <td>1.000000</td>\n",
       "      <td>1.000000</td>\n",
       "      <td>6.227131e-41</td>\n",
       "    </tr>\n",
       "  </tbody>\n",
       "</table>\n",
       "<p>109 rows × 3 columns</p>\n",
       "</div>"
      ],
      "text/plain": [
       "          FPR       TPR     Threshold\n",
       "0    0.000000  0.308108  1.000000e+00\n",
       "1    0.000000  0.313514  1.000000e+00\n",
       "2    0.000000  0.335135  1.000000e+00\n",
       "3    0.000000  0.340541  1.000000e+00\n",
       "4    0.000000  0.351351  1.000000e+00\n",
       "5    0.000000  0.367568  1.000000e+00\n",
       "6    0.000000  0.400000  1.000000e+00\n",
       "7    0.000000  0.410811  1.000000e+00\n",
       "8    0.000000  0.594595  1.000000e+00\n",
       "9    0.000000  0.605405  1.000000e+00\n",
       "10   0.000000  0.616216  1.000000e+00\n",
       "11   0.000000  0.627027  1.000000e+00\n",
       "12   0.000000  0.675676  9.999999e-01\n",
       "13   0.000000  0.686486  9.999995e-01\n",
       "14   0.000000  0.718919  9.999985e-01\n",
       "15   0.000000  0.729730  9.999979e-01\n",
       "16   0.000000  0.945946  8.232595e-01\n",
       "17   0.001656  0.945946  6.035141e-01\n",
       "18   0.003311  0.945946  5.574840e-01\n",
       "19   0.011589  0.945946  2.930076e-01\n",
       "20   0.011589  0.951351  2.832433e-01\n",
       "21   0.013245  0.951351  2.567566e-01\n",
       "22   0.013245  0.967568  2.534251e-01\n",
       "23   0.022351  0.967568  1.345685e-01\n",
       "24   0.024007  0.967568  1.345397e-01\n",
       "25   0.028146  0.967568  1.345108e-01\n",
       "26   0.038907  0.967568  1.344819e-01\n",
       "27   0.044702  0.967568  1.015514e-01\n",
       "28   0.046358  0.967568  9.392548e-02\n",
       "29   0.049669  0.967568  9.388330e-02\n",
       "..        ...       ...           ...\n",
       "79   0.322020  1.000000  1.812409e-03\n",
       "80   0.370861  1.000000  7.269237e-04\n",
       "81   0.372517  1.000000  7.259448e-04\n",
       "82   0.384934  1.000000  5.958465e-04\n",
       "83   0.386589  1.000000  5.943177e-04\n",
       "84   0.437086  1.000000  3.038344e-04\n",
       "85   0.439570  1.000000  2.982017e-04\n",
       "86   0.468543  1.000000  1.801308e-04\n",
       "87   0.470199  1.000000  1.791812e-04\n",
       "88   0.592715  1.000000  2.597581e-05\n",
       "89   0.594371  1.000000  2.531364e-05\n",
       "90   0.644040  1.000000  8.393958e-06\n",
       "91   0.652318  1.000000  8.206213e-06\n",
       "92   0.698675  1.000000  3.224466e-06\n",
       "93   0.700331  1.000000  3.209868e-06\n",
       "94   0.780629  1.000000  1.884950e-07\n",
       "95   0.782285  1.000000  1.873539e-07\n",
       "96   0.802980  1.000000  6.411598e-08\n",
       "97   0.804636  1.000000  6.357147e-08\n",
       "98   0.853477  1.000000  6.439797e-09\n",
       "99   0.855132  1.000000  6.354992e-09\n",
       "100  0.865894  1.000000  4.003403e-09\n",
       "101  0.867550  1.000000  3.870068e-09\n",
       "102  0.940397  1.000000  2.323773e-11\n",
       "103  0.942053  1.000000  2.233382e-11\n",
       "104  0.959437  1.000000  6.325596e-13\n",
       "105  0.961093  1.000000  6.086604e-13\n",
       "106  0.970199  1.000000  4.174215e-14\n",
       "107  0.972682  1.000000  3.968331e-14\n",
       "108  1.000000  1.000000  6.227131e-41\n",
       "\n",
       "[109 rows x 3 columns]"
      ]
     },
     "execution_count": 30,
     "metadata": {},
     "output_type": "execute_result"
    }
   ],
   "source": [
    "# matrix of thresholds, tpr, fpr\n",
    "pd.DataFrame({'Threshold': thresholds, \n",
    "              'TPR': true_positive_rate, \n",
    "              'FPR':false_positive_rate\n",
    "             })"
   ]
  },
  {
   "cell_type": "code",
   "execution_count": 31,
   "metadata": {},
   "outputs": [
    {
     "data": {
      "text/plain": [
       "[<matplotlib.lines.Line2D at 0x7f10b044d390>]"
      ]
     },
     "execution_count": 31,
     "metadata": {},
     "output_type": "execute_result"
    },
    {
     "data": {
      "image/png": "[encoded data removed]",
      "text/plain": [
       "<Figure size 432x288 with 1 Axes>"
      ]
     },
     "metadata": {},
     "output_type": "display_data"
    }
   ],
   "source": [
    "# plotting the ROC curve\n",
    "\n",
    "%matplotlib inline  \n",
    "plt.ylabel('True Positive Rate')\n",
    "plt.xlabel('False Positive Rate')\n",
    "plt.title('ROC')\n",
    "plt.plot(false_positive_rate, true_positive_rate)"
   ]
  }
 ],
 "metadata": {
  "anaconda-cloud": {},
  "kernelspec": {
   "display_name": "Python 3",
   "language": "python",
   "name": "python3"
  },
  "language_info": {
   "codemirror_mode": {
    "name": "ipython",
    "version": 2
   },
   "file_extension": ".py",
   "mimetype": "text/x-python",
   "name": "python",
   "nbconvert_exporter": "python",
   "pygments_lexer": "ipython2",
   "version": "2.7.12"
  }
 },
 "nbformat": 4,
 "nbformat_minor": 1
}
