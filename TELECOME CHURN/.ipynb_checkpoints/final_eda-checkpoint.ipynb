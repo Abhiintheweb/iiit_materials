{
 "cells": [
  {
   "cell_type": "code",
   "execution_count": 1,
   "metadata": {},
   "outputs": [],
   "source": [
    "import pandas as pd\n",
    "low_memory=False\n",
    "import matplotlib.pyplot as plt\n",
    "import seaborn as sns\n",
    "import warnings\n",
    "warnings.filterwarnings('ignore')"
   ]
  },
  {
   "cell_type": "code",
   "execution_count": 2,
   "metadata": {},
   "outputs": [
    {
     "ename": "IOError",
     "evalue": "File loan.csv does not exist",
     "output_type": "error",
     "traceback": [
      "\u001b[0;31m---------------------------------------------------------------------------\u001b[0m",
      "\u001b[0;31mIOError\u001b[0m                                   Traceback (most recent call last)",
      "\u001b[0;32m<ipython-input-2-49a1a37569af>\u001b[0m in \u001b[0;36m<module>\u001b[0;34m()\u001b[0m\n\u001b[0;32m----> 1\u001b[0;31m \u001b[0mdf\u001b[0m \u001b[0;34m=\u001b[0m \u001b[0mpd\u001b[0m\u001b[0;34m.\u001b[0m\u001b[0mread_csv\u001b[0m\u001b[0;34m(\u001b[0m\u001b[0;34m\"loan.csv\"\u001b[0m\u001b[0;34m)\u001b[0m\u001b[0;34m\u001b[0m\u001b[0m\n\u001b[0m\u001b[1;32m      2\u001b[0m shortlisted_columns=[\"member_id\",\"loan_amnt\",\"delinq_2yrs\",\"loan_status\",\"annual_inc\",\"installment\",\"emp_length\",\n\u001b[1;32m      3\u001b[0m                      \u001b[0;34m\"home_ownership\"\u001b[0m\u001b[0;34m,\u001b[0m\u001b[0;34m\"dti\"\u001b[0m\u001b[0;34m,\u001b[0m\u001b[0;34m\"purpose\"\u001b[0m\u001b[0;34m,\u001b[0m\u001b[0;34m\"verification_status\"\u001b[0m\u001b[0;34m,\u001b[0m\u001b[0;34m\u001b[0m\u001b[0m\n\u001b[1;32m      4\u001b[0m                      \u001b[0;34m\"total_pymnt\"\u001b[0m\u001b[0;34m,\u001b[0m\u001b[0;34m\"funded_amnt_inv\"\u001b[0m\u001b[0;34m,\u001b[0m\u001b[0;34m\"term\"\u001b[0m\u001b[0;34m,\u001b[0m\u001b[0;34m\u001b[0m\u001b[0m\n\u001b[1;32m      5\u001b[0m                      \"int_rate\",\"grade\",\"pub_rec_bankruptcies\",\"recoveries\"]\n",
      "\u001b[0;32m/home/abhi/venvs/notebook/local/lib/python2.7/site-packages/pandas/io/parsers.pyc\u001b[0m in \u001b[0;36mparser_f\u001b[0;34m(filepath_or_buffer, sep, delimiter, header, names, index_col, usecols, squeeze, prefix, mangle_dupe_cols, dtype, engine, converters, true_values, false_values, skipinitialspace, skiprows, nrows, na_values, keep_default_na, na_filter, verbose, skip_blank_lines, parse_dates, infer_datetime_format, keep_date_col, date_parser, dayfirst, iterator, chunksize, compression, thousands, decimal, lineterminator, quotechar, quoting, escapechar, comment, encoding, dialect, tupleize_cols, error_bad_lines, warn_bad_lines, skipfooter, skip_footer, doublequote, delim_whitespace, as_recarray, compact_ints, use_unsigned, low_memory, buffer_lines, memory_map, float_precision)\u001b[0m\n\u001b[1;32m    653\u001b[0m                     skip_blank_lines=skip_blank_lines)\n\u001b[1;32m    654\u001b[0m \u001b[0;34m\u001b[0m\u001b[0m\n\u001b[0;32m--> 655\u001b[0;31m         \u001b[0;32mreturn\u001b[0m \u001b[0m_read\u001b[0m\u001b[0;34m(\u001b[0m\u001b[0mfilepath_or_buffer\u001b[0m\u001b[0;34m,\u001b[0m \u001b[0mkwds\u001b[0m\u001b[0;34m)\u001b[0m\u001b[0;34m\u001b[0m\u001b[0m\n\u001b[0m\u001b[1;32m    656\u001b[0m \u001b[0;34m\u001b[0m\u001b[0m\n\u001b[1;32m    657\u001b[0m     \u001b[0mparser_f\u001b[0m\u001b[0;34m.\u001b[0m\u001b[0m__name__\u001b[0m \u001b[0;34m=\u001b[0m \u001b[0mname\u001b[0m\u001b[0;34m\u001b[0m\u001b[0m\n",
      "\u001b[0;32m/home/abhi/venvs/notebook/local/lib/python2.7/site-packages/pandas/io/parsers.pyc\u001b[0m in \u001b[0;36m_read\u001b[0;34m(filepath_or_buffer, kwds)\u001b[0m\n\u001b[1;32m    403\u001b[0m \u001b[0;34m\u001b[0m\u001b[0m\n\u001b[1;32m    404\u001b[0m     \u001b[0;31m# Create the parser.\u001b[0m\u001b[0;34m\u001b[0m\u001b[0;34m\u001b[0m\u001b[0m\n\u001b[0;32m--> 405\u001b[0;31m     \u001b[0mparser\u001b[0m \u001b[0;34m=\u001b[0m \u001b[0mTextFileReader\u001b[0m\u001b[0;34m(\u001b[0m\u001b[0mfilepath_or_buffer\u001b[0m\u001b[0;34m,\u001b[0m \u001b[0;34m**\u001b[0m\u001b[0mkwds\u001b[0m\u001b[0;34m)\u001b[0m\u001b[0;34m\u001b[0m\u001b[0m\n\u001b[0m\u001b[1;32m    406\u001b[0m \u001b[0;34m\u001b[0m\u001b[0m\n\u001b[1;32m    407\u001b[0m     \u001b[0;32mif\u001b[0m \u001b[0mchunksize\u001b[0m \u001b[0;32mor\u001b[0m \u001b[0miterator\u001b[0m\u001b[0;34m:\u001b[0m\u001b[0;34m\u001b[0m\u001b[0m\n",
      "\u001b[0;32m/home/abhi/venvs/notebook/local/lib/python2.7/site-packages/pandas/io/parsers.pyc\u001b[0m in \u001b[0;36m__init__\u001b[0;34m(self, f, engine, **kwds)\u001b[0m\n\u001b[1;32m    762\u001b[0m             \u001b[0mself\u001b[0m\u001b[0;34m.\u001b[0m\u001b[0moptions\u001b[0m\u001b[0;34m[\u001b[0m\u001b[0;34m'has_index_names'\u001b[0m\u001b[0;34m]\u001b[0m \u001b[0;34m=\u001b[0m \u001b[0mkwds\u001b[0m\u001b[0;34m[\u001b[0m\u001b[0;34m'has_index_names'\u001b[0m\u001b[0;34m]\u001b[0m\u001b[0;34m\u001b[0m\u001b[0m\n\u001b[1;32m    763\u001b[0m \u001b[0;34m\u001b[0m\u001b[0m\n\u001b[0;32m--> 764\u001b[0;31m         \u001b[0mself\u001b[0m\u001b[0;34m.\u001b[0m\u001b[0m_make_engine\u001b[0m\u001b[0;34m(\u001b[0m\u001b[0mself\u001b[0m\u001b[0;34m.\u001b[0m\u001b[0mengine\u001b[0m\u001b[0;34m)\u001b[0m\u001b[0;34m\u001b[0m\u001b[0m\n\u001b[0m\u001b[1;32m    765\u001b[0m \u001b[0;34m\u001b[0m\u001b[0m\n\u001b[1;32m    766\u001b[0m     \u001b[0;32mdef\u001b[0m \u001b[0mclose\u001b[0m\u001b[0;34m(\u001b[0m\u001b[0mself\u001b[0m\u001b[0;34m)\u001b[0m\u001b[0;34m:\u001b[0m\u001b[0;34m\u001b[0m\u001b[0m\n",
      "\u001b[0;32m/home/abhi/venvs/notebook/local/lib/python2.7/site-packages/pandas/io/parsers.pyc\u001b[0m in \u001b[0;36m_make_engine\u001b[0;34m(self, engine)\u001b[0m\n\u001b[1;32m    983\u001b[0m     \u001b[0;32mdef\u001b[0m \u001b[0m_make_engine\u001b[0m\u001b[0;34m(\u001b[0m\u001b[0mself\u001b[0m\u001b[0;34m,\u001b[0m \u001b[0mengine\u001b[0m\u001b[0;34m=\u001b[0m\u001b[0;34m'c'\u001b[0m\u001b[0;34m)\u001b[0m\u001b[0;34m:\u001b[0m\u001b[0;34m\u001b[0m\u001b[0m\n\u001b[1;32m    984\u001b[0m         \u001b[0;32mif\u001b[0m \u001b[0mengine\u001b[0m \u001b[0;34m==\u001b[0m \u001b[0;34m'c'\u001b[0m\u001b[0;34m:\u001b[0m\u001b[0;34m\u001b[0m\u001b[0m\n\u001b[0;32m--> 985\u001b[0;31m             \u001b[0mself\u001b[0m\u001b[0;34m.\u001b[0m\u001b[0m_engine\u001b[0m \u001b[0;34m=\u001b[0m \u001b[0mCParserWrapper\u001b[0m\u001b[0;34m(\u001b[0m\u001b[0mself\u001b[0m\u001b[0;34m.\u001b[0m\u001b[0mf\u001b[0m\u001b[0;34m,\u001b[0m \u001b[0;34m**\u001b[0m\u001b[0mself\u001b[0m\u001b[0;34m.\u001b[0m\u001b[0moptions\u001b[0m\u001b[0;34m)\u001b[0m\u001b[0;34m\u001b[0m\u001b[0m\n\u001b[0m\u001b[1;32m    986\u001b[0m         \u001b[0;32melse\u001b[0m\u001b[0;34m:\u001b[0m\u001b[0;34m\u001b[0m\u001b[0m\n\u001b[1;32m    987\u001b[0m             \u001b[0;32mif\u001b[0m \u001b[0mengine\u001b[0m \u001b[0;34m==\u001b[0m \u001b[0;34m'python'\u001b[0m\u001b[0;34m:\u001b[0m\u001b[0;34m\u001b[0m\u001b[0m\n",
      "\u001b[0;32m/home/abhi/venvs/notebook/local/lib/python2.7/site-packages/pandas/io/parsers.pyc\u001b[0m in \u001b[0;36m__init__\u001b[0;34m(self, src, **kwds)\u001b[0m\n\u001b[1;32m   1603\u001b[0m         \u001b[0mkwds\u001b[0m\u001b[0;34m[\u001b[0m\u001b[0;34m'allow_leading_cols'\u001b[0m\u001b[0;34m]\u001b[0m \u001b[0;34m=\u001b[0m \u001b[0mself\u001b[0m\u001b[0;34m.\u001b[0m\u001b[0mindex_col\u001b[0m \u001b[0;32mis\u001b[0m \u001b[0;32mnot\u001b[0m \u001b[0mFalse\u001b[0m\u001b[0;34m\u001b[0m\u001b[0m\n\u001b[1;32m   1604\u001b[0m \u001b[0;34m\u001b[0m\u001b[0m\n\u001b[0;32m-> 1605\u001b[0;31m         \u001b[0mself\u001b[0m\u001b[0;34m.\u001b[0m\u001b[0m_reader\u001b[0m \u001b[0;34m=\u001b[0m \u001b[0mparsers\u001b[0m\u001b[0;34m.\u001b[0m\u001b[0mTextReader\u001b[0m\u001b[0;34m(\u001b[0m\u001b[0msrc\u001b[0m\u001b[0;34m,\u001b[0m \u001b[0;34m**\u001b[0m\u001b[0mkwds\u001b[0m\u001b[0;34m)\u001b[0m\u001b[0;34m\u001b[0m\u001b[0m\n\u001b[0m\u001b[1;32m   1606\u001b[0m \u001b[0;34m\u001b[0m\u001b[0m\n\u001b[1;32m   1607\u001b[0m         \u001b[0;31m# XXX\u001b[0m\u001b[0;34m\u001b[0m\u001b[0;34m\u001b[0m\u001b[0m\n",
      "\u001b[0;32mpandas/_libs/parsers.pyx\u001b[0m in \u001b[0;36mpandas._libs.parsers.TextReader.__cinit__ (pandas/_libs/parsers.c:4209)\u001b[0;34m()\u001b[0m\n",
      "\u001b[0;32mpandas/_libs/parsers.pyx\u001b[0m in \u001b[0;36mpandas._libs.parsers.TextReader._setup_parser_source (pandas/_libs/parsers.c:8873)\u001b[0;34m()\u001b[0m\n",
      "\u001b[0;31mIOError\u001b[0m: File loan.csv does not exist"
     ]
    }
   ],
   "source": [
    "df = pd.read_csv(\"loan.csv\")\n",
    "shortlisted_columns=[\"member_id\",\"loan_amnt\",\"delinq_2yrs\",\"loan_status\",\"annual_inc\",\"installment\",\"emp_length\",\n",
    "                     \"home_ownership\",\"dti\",\"purpose\",\"verification_status\",\n",
    "                     \"total_pymnt\",\"funded_amnt_inv\",\"term\",\n",
    "                     \"int_rate\",\"grade\",\"pub_rec_bankruptcies\",\"recoveries\"]\n",
    "\n",
    "# Column shortlisting is done on basis of:\n",
    "# 1. Subject Knowledge. \n",
    "# 2. Looking At Data Dictionary.\n",
    "# 3. Looking At Data.\n",
    "\n",
    "master_frame=df[shortlisted_columns]\n",
    "master_frame.head()"
   ]
  },
  {
   "cell_type": "code",
   "execution_count": null,
   "metadata": {},
   "outputs": [],
   "source": [
    "# master_frame.int_rate.describe()\n",
    "master_frame.info()\n"
   ]
  },
  {
   "cell_type": "code",
   "execution_count": null,
   "metadata": {},
   "outputs": [],
   "source": [
    "# Data Prepration\n",
    "master_frame[\"int_rate\"]=master_frame[\"int_rate\"].apply(lambda s:float(s.split(\"%\")[0]))\n",
    "master_frame[\"term\"]=master_frame[\"term\"].apply(lambda s:int(s.split(\"month\")[0]))"
   ]
  },
  {
   "cell_type": "code",
   "execution_count": null,
   "metadata": {},
   "outputs": [],
   "source": [
    "# Categorical Variables\n",
    "master_frame.loan_status.unique() #No null values\n",
    "master_frame.home_ownership.unique()#some Null Values\n",
    "master_frame.purpose.unique()#No Null Values\n",
    "master_frame.emp_length.unique()#Some Nan Values\n",
    "master_frame.verification_status.unique()#No null Values\n"
   ]
  },
  {
   "cell_type": "code",
   "execution_count": null,
   "metadata": {},
   "outputs": [],
   "source": [
    "len(master_frame[master_frame.pub_rec_bankruptcies.isna()]) \n"
   ]
  },
  {
   "cell_type": "code",
   "execution_count": null,
   "metadata": {},
   "outputs": [],
   "source": [
    "# Univariate Analysis\n",
    "# 1. Loan Amount\n",
    "# 2. Annual Income\n",
    "# 3. Installment\n",
    "# 3. Interest Rate\n",
    "\n",
    "\n",
    "#1. Loan Amount\n",
    "master_frame.loan_amnt.describe()\n",
    "#No Missing Value\n",
    "sns.boxplot(y=\"loan_amnt\",data=master_frame)\n",
    "# master_frame[master_frame.loan_amnt>30000]\n",
    "\n",
    "# subplot 1: Loan Amount\n",
    "plt.subplot(1, 2, 1)\n",
    "sns.boxplot(y=\"loan_amnt\",data=master_frame)\n",
    "plt.title(\"Loan Amount\")\n",
    "# plt.yscale('log')\n",
    "\n",
    "# subplot 2: Annual Inc\n",
    "plt.subplot(1, 2, 2)\n",
    "sns.boxplot(y=\"annual_inc\",data=master_frame)\n",
    "plt.title(\"Annual Inc\")\n",
    "plt.yscale('log')\n",
    "\n",
    "\n",
    "plt.show()\n"
   ]
  },
  {
   "cell_type": "code",
   "execution_count": null,
   "metadata": {},
   "outputs": [],
   "source": [
    "# subplot 3: Installment\n",
    "plt.subplot(1, 2, 1)\n",
    "sns.boxplot(y=\"installment\",data=master_frame)\n",
    "plt.title(\"Installment\")\n",
    "# plt.yscale('log')\n",
    "\n",
    "#subplot 4: Intrest Rate\n",
    "plt.subplot(1, 2, 2)\n",
    "sns.boxplot(y=\"int_rate\",data=master_frame)\n",
    "plt.title(\"Interest Rate\")\n",
    "# master_frame\n",
    "plt.show()\n",
    "# From all plots we can see basic spread of data"
   ]
  },
  {
   "cell_type": "code",
   "execution_count": null,
   "metadata": {},
   "outputs": [],
   "source": [
    "# Let's Analyze\n",
    "\n",
    "sns.boxplot(x=\"int_rate\",y=\"loan_status\",data=master_frame)\n",
    "plt.title(\"Interest Rate vs Loan Status\")\n",
    "plt.show()\n",
    "# Observation from plot\n",
    "# 1. Due to higher rate of interst people are not paying loan\n",
    "# 2. Few outliers in charge_off rate of intererst\n",
    "# 3. Above median of charge_off ROI there are more defaulters\n",
    "# 4. There are more defaulters in upper quantile of ROI \n"
   ]
  },
  {
   "cell_type": "code",
   "execution_count": null,
   "metadata": {},
   "outputs": [],
   "source": [
    "# Find interest range"
   ]
  },
  {
   "cell_type": "code",
   "execution_count": null,
   "metadata": {},
   "outputs": [],
   "source": [
    "plt.figure(num=None, figsize=(12, 8), dpi=80, facecolor='w', edgecolor='k')\n",
    "sns.boxplot(y=\"int_rate\",x=\"loan_status\", hue=\"home_ownership\", data=master_frame)\n",
    "plt.title(\"Impact of ROI and home ownership on loan status\")\n",
    "plt.show()"
   ]
  },
  {
   "cell_type": "code",
   "execution_count": null,
   "metadata": {},
   "outputs": [],
   "source": [
    "charged_off_frame=master_frame[master_frame.loan_status==\"Charged Off\"]\n",
    "paid_frame = master_frame[master_frame.loan_status==\"Fully Paid\"]\n"
   ]
  },
  {
   "cell_type": "code",
   "execution_count": null,
   "metadata": {},
   "outputs": [],
   "source": [
    "charged_off_frame['int_rate'].describe()"
   ]
  },
  {
   "cell_type": "code",
   "execution_count": null,
   "metadata": {},
   "outputs": [],
   "source": [
    "paid_frame['int_rate'].describe()"
   ]
  },
  {
   "cell_type": "code",
   "execution_count": null,
   "metadata": {},
   "outputs": [],
   "source": [
    "# total_records_for_analysis=len(master_frame)\n",
    "# total_charged_off=len(charged_off_frame)\n",
    "\n",
    "group_frame=master_frame.groupby([\"loan_status\"])[\"member_id\"].count().reset_index(name=\"count\")\n",
    "group_frame[\"percentage\"]=group_frame[\"count\"].apply(lambda s:round(float(s)/float(len(master_frame))*100,2))\n",
    "\n",
    "\n",
    "plt.axis('equal');\n",
    "plt.pie(group_frame.percentage, labels=group_frame.loan_status);\n",
    "plt.show()\n",
    "group_frame"
   ]
  },
  {
   "cell_type": "markdown",
   "metadata": {},
   "source": [
    "Total Charged Off= 5627\n",
    "Filter Criteria = Terms \n"
   ]
  },
  {
   "cell_type": "code",
   "execution_count": null,
   "metadata": {},
   "outputs": [],
   "source": [
    "term_frame=charged_off_frame.groupby([\"term\"])[\"member_id\"].count().reset_index(name=\"count\")\n",
    "term_frame[\"term\"]=term_frame[\"term\"].apply(lambda s:str(s)+\" Months\")\n",
    "term_frame[\"percentage\"]=term_frame[\"count\"].apply(lambda s:round(float(s)/float(len(charged_off_frame))*100,2))\n",
    "term_frame\n",
    "# For LESSER term, the risk of recovery of funded amount is MORE."
   ]
  },
  {
   "cell_type": "code",
   "execution_count": null,
   "metadata": {},
   "outputs": [],
   "source": [
    "delinq_frame=charged_off_frame.groupby([\"delinq_2yrs\"])[\"member_id\"].count().reset_index(name=\"count\")\n",
    "delinq_frame[\"percentage\"]=delinq_frame[\"count\"].apply(lambda s:round(float(s)/float(len(charged_off_frame))*100,2))\n",
    "delinq_frame=delinq_frame.rename(columns={\"count\":\"no of persons\"})\n",
    "delinq_frame\n"
   ]
  },
  {
   "cell_type": "code",
   "execution_count": null,
   "metadata": {},
   "outputs": [],
   "source": [
    "sns.barplot(x=\"delinq_2yrs\",y=\"percentage\", data=delinq_frame)\n",
    "#plt.yscale(\"log\")\n",
    "plt.show()"
   ]
  },
  {
   "cell_type": "markdown",
   "metadata": {},
   "source": [
    "Total Charged Off: 5627\n",
    "Filter Criteria : int rate slabs "
   ]
  },
  {
   "cell_type": "code",
   "execution_count": null,
   "metadata": {},
   "outputs": [],
   "source": [
    "def int_rate(s):\n",
    "    if ((s>0) and (s<10)):\n",
    "        return \"< 10\"\n",
    "    elif((s>=10) and (s<=15)):\n",
    "        return \"10 to 15\"\n",
    "    elif((s>15) and (s<=20)):\n",
    "        return \">15 =20\"\n",
    "    else:\n",
    "        return \">20\"\n",
    "\n",
    "\n",
    "charged_off_frame[\"interst_rate_option\"]=charged_off_frame[\"int_rate\"].apply(lambda s:int_rate(s))\n",
    "int_rate_frame=charged_off_frame.groupby([\"interst_rate_option\"])[\"member_id\"].count().reset_index(name=\"no of person\")\n",
    "int_rate_frame[\"percentage\"]=int_rate_frame[\"no of person\"].apply(lambda s:round(float(s)/float(len(charged_off_frame))*100,2))\n",
    "int_rate_frame"
   ]
  },
  {
   "cell_type": "code",
   "execution_count": null,
   "metadata": {},
   "outputs": [],
   "source": [
    "sns.barplot(y=\"no of person\",x=\"interst_rate_option\",data=int_rate_frame)\n",
    "plt.title(\"rate salabe vs defaulters\")\n",
    "plt.show()\n",
    "# Conclusion:For MIDTERM interest Rates, the risk of recovery of funded amount is MORE."
   ]
  },
  {
   "cell_type": "markdown",
   "metadata": {},
   "source": [
    "Total Charged Off: 5627 Filter Criteria :  Purpose\n",
    "\n"
   ]
  },
  {
   "cell_type": "code",
   "execution_count": null,
   "metadata": {},
   "outputs": [],
   "source": [
    "purpose_frame=charged_off_frame.groupby([\"purpose\"])[\"member_id\"].count().reset_index(name=\"no of person\")\n",
    "purpose_frame[\"percentage\"]=purpose_frame[\"no of person\"].apply(lambda s:round(float(s)/float(len(charged_off_frame))*100,2))\n",
    "purpose_frame"
   ]
  },
  {
   "cell_type": "code",
   "execution_count": null,
   "metadata": {},
   "outputs": [],
   "source": [
    "plt.figure(figsize=(18,5))\n",
    "sns.barplot(y=\"no of person\",x=\"purpose\",data=purpose_frame)\n",
    "plt.title(\"Purpose Vs Defaulters\")\n",
    "# plt.yscale(\"log\")\n",
    "plt.show()\n",
    "# Conclusion: For DEBT_CONSOLIDATION Purpose i.e. to give previous debt, the risk of recovery of funded amount is MORE."
   ]
  },
  {
   "cell_type": "markdown",
   "metadata": {},
   "source": [
    "Total Charged Off: 5627 Filter Criteria :  Years of Exp"
   ]
  },
  {
   "cell_type": "code",
   "execution_count": null,
   "metadata": {},
   "outputs": [],
   "source": [
    "emp_length_frame=charged_off_frame.groupby([\"emp_length\"])[\"member_id\"].count().reset_index(name=\"no of person\")\n",
    "emp_length_frame[\"percentage\"]=emp_length_frame[\"no of person\"].apply(lambda s:round(float(s)/float(len(charged_off_frame))*100,2))\n",
    "emp_length_frame"
   ]
  },
  {
   "cell_type": "code",
   "execution_count": null,
   "metadata": {},
   "outputs": [],
   "source": [
    "plt.figure(figsize=(18,10))\n",
    "sns.barplot(y=\"no of person\",x=\"emp_length\",data=emp_length_frame)\n",
    "plt.title(\"Years of exp Vs Defaulters\")\n",
    "plt.show()\n",
    "# Conclusion: For Employees being in service for more than 10 YEARS, the risk of recovery of funded amount is MORE."
   ]
  },
  {
   "cell_type": "markdown",
   "metadata": {},
   "source": [
    "Total Charged Off: 5627 Filter Criteria : Grade"
   ]
  },
  {
   "cell_type": "code",
   "execution_count": null,
   "metadata": {},
   "outputs": [],
   "source": [
    "grade_frame=charged_off_frame.groupby([\"grade\"])[\"member_id\"].count().reset_index(name=\"no of person\")\n",
    "grade_frame[\"percentage\"]=grade_frame[\"no of person\"].apply(lambda s:round(float(s)/float(len(charged_off_frame))*100,2))\n",
    "grade_frame"
   ]
  },
  {
   "cell_type": "code",
   "execution_count": null,
   "metadata": {},
   "outputs": [],
   "source": [
    "plt.figure(figsize=(18,10))\n",
    "sns.barplot(y=\"no of person\",x=\"grade\",data=grade_frame)\n",
    "plt.title(\"Loan Grade Vs Defaulters\")\n",
    "plt.show()\n",
    "# Conclusion: For LC Code given as 'B','C','D', the risk of recovery of funded amount is MORE.\n"
   ]
  },
  {
   "cell_type": "markdown",
   "metadata": {},
   "source": [
    "Total Charged Off: 5627 Filter Criteria : House Ownership"
   ]
  },
  {
   "cell_type": "code",
   "execution_count": null,
   "metadata": {},
   "outputs": [],
   "source": [
    "home_ownership_frame=charged_off_frame.groupby([\"home_ownership\"])[\"member_id\"].count().reset_index(name=\"no of person\")\n",
    "home_ownership_frame[\"percentage\"]=home_ownership_frame[\"no of person\"].apply(lambda s:round(float(s)/float(len(charged_off_frame))*100,2))\n",
    "home_ownership_frame"
   ]
  },
  {
   "cell_type": "code",
   "execution_count": null,
   "metadata": {},
   "outputs": [],
   "source": [
    "plt.figure(figsize=(15,8))\n",
    "sns.barplot(y=\"no of person\",x=\"home_ownership\",data=home_ownership_frame)\n",
    "plt.title(\"House Ownership Vs Defaulters\")\n",
    "plt.show()\n",
    "# Conclusion: For people who live on rent, the risk of recovery of funded amount is MORE.\n",
    "\n"
   ]
  },
  {
   "cell_type": "code",
   "execution_count": null,
   "metadata": {},
   "outputs": [],
   "source": [
    "def income_slab(s):\n",
    "    if ((s>0) and (s<=5000)):\n",
    "        return \"<= 5000\"\n",
    "    elif((s>5000) and (s<=10000)):\n",
    "        return \">5000 to 10000\"\n",
    "    elif ((s>10000) and (s<=30000)):\n",
    "        return \">10000 to 30000\"\n",
    "    elif ((s>30000) and (s<=50000)):\n",
    "        return \">30000 to 50000\"\n",
    "    elif ((s>50000) and (s<=100000)):\n",
    "        return \">50000 to 100000\"\n",
    "    elif ((s>100000) and (s<=300000)):\n",
    "        return \">100000 to 300000\"\n",
    "    elif ((s>300000) and (s<=500000)):\n",
    "        return \">300000 to 500000\"\n",
    "    elif ((s>500000) and (s<=1000000)):\n",
    "        return \">500000 to 1900000\"\n",
    "    elif s>1000000:\n",
    "        return \">1000000\"\n",
    "    \n",
    "\n",
    "\n",
    "charged_off_frame[\"income_slab\"]=charged_off_frame[\"annual_inc\"].apply(lambda s:income_slab(s))\n",
    "annual_inc_frame=charged_off_frame.groupby([\"income_slab\"])[\"member_id\"].count().reset_index(name=\"no of person\")\n",
    "annual_inc_frame[\"percentage\"]=annual_inc_frame[\"no of person\"].apply(lambda s:round(float(s)/float(len(charged_off_frame))*100,2))\n",
    "annual_inc_frame\n"
   ]
  },
  {
   "cell_type": "code",
   "execution_count": null,
   "metadata": {},
   "outputs": [],
   "source": [
    "plt.figure(figsize=(15,8))\n",
    "sns.barplot(y=\"no of person\",x=\"income_slab\",data=annual_inc_frame)\n",
    "plt.title(\"House Ownership Vs Defaulters\")\n",
    "plt.show()\n",
    "# Conclusion: For people earning in 50000 to Rs. 100000 i.e. lower middle class, the risk of recovery of funded amount is MORE.\n"
   ]
  },
  {
   "cell_type": "code",
   "execution_count": null,
   "metadata": {},
   "outputs": [],
   "source": [
    "corr_frame=master_frame[[\"loan_amnt\",\"delinq_2yrs\",\"total_pymnt\",\"int_rate\",\"installment\",\"recoveries\"]].corr()\n",
    "corr_frame"
   ]
  },
  {
   "cell_type": "code",
   "execution_count": null,
   "metadata": {},
   "outputs": [],
   "source": [
    "# Deliquecy is -negtively correlated installment,loan_amnt\n",
    "plt.figure(figsize=(10,10))\n",
    "sns.heatmap(corr_frame,  vmax=1, center=0,square=True, linewidths=.75, cbar_kws={\"shrink\": .75})\n",
    "plt.show()\n"
   ]
  },
  {
   "cell_type": "code",
   "execution_count": null,
   "metadata": {},
   "outputs": [],
   "source": []
  }
 ],
 "metadata": {
  "kernelspec": {
   "display_name": "Python 3",
   "language": "python",
   "name": "python3"
  },
  "language_info": {
   "codemirror_mode": {
    "name": "ipython",
    "version": 2
   },
   "file_extension": ".py",
   "mimetype": "text/x-python",
   "name": "python",
   "nbconvert_exporter": "python",
   "pygments_lexer": "ipython2",
   "version": "2.7.12"
  }
 },
 "nbformat": 4,
 "nbformat_minor": 2
}
