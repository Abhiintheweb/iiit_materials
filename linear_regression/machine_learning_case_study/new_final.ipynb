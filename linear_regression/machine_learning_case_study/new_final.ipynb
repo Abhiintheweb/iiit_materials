{
 "cells": [
  {
   "cell_type": "code",
   "execution_count": 1,
   "metadata": {},
   "outputs": [],
   "source": [
    "import pandas as pd\n",
    "import numpy as np\n",
    "import matplotlib.pyplot as plt\n",
    "import seaborn as sns\n"
   ]
  },
  {
   "cell_type": "code",
   "execution_count": 2,
   "metadata": {},
   "outputs": [
    {
     "name": "stdout",
     "output_type": "stream",
     "text": [
      "<class 'pandas.core.frame.DataFrame'>\n",
      "RangeIndex: 205 entries, 0 to 204\n",
      "Data columns (total 26 columns):\n",
      "car_ID              205 non-null int64\n",
      "symboling           205 non-null int64\n",
      "CarName             205 non-null object\n",
      "fueltype            205 non-null object\n",
      "aspiration          205 non-null object\n",
      "doornumber          205 non-null object\n",
      "carbody             205 non-null object\n",
      "drivewheel          205 non-null object\n",
      "enginelocation      205 non-null object\n",
      "wheelbase           205 non-null float64\n",
      "carlength           205 non-null float64\n",
      "carwidth            205 non-null float64\n",
      "carheight           205 non-null float64\n",
      "curbweight          205 non-null int64\n",
      "enginetype          205 non-null object\n",
      "cylindernumber      205 non-null object\n",
      "enginesize          205 non-null int64\n",
      "fuelsystem          205 non-null object\n",
      "boreratio           205 non-null float64\n",
      "stroke              205 non-null float64\n",
      "compressionratio    205 non-null float64\n",
      "horsepower          205 non-null int64\n",
      "peakrpm             205 non-null int64\n",
      "citympg             205 non-null int64\n",
      "highwaympg          205 non-null int64\n",
      "price               205 non-null float64\n",
      "dtypes: float64(8), int64(8), object(10)\n",
      "memory usage: 41.7+ KB\n"
     ]
    }
   ],
   "source": [
    "cars=pd.read_csv(\"CarPrice_Assignment.csv\")\n",
    "\n",
    "# Agenda: Geely Auto wants to enter USA Market\n",
    "# 1. Factors affecting pricing of cars\n",
    "# 2. Which variables are significant in \n",
    "#    predicting the price of a car,\n",
    "# 3. How Well those variables describing price\n",
    "# sns.pairplot(cars)\n",
    "cars.info()"
   ]
  },
  {
   "cell_type": "code",
   "execution_count": 3,
   "metadata": {},
   "outputs": [
    {
     "data": {
      "text/html": [
       "<div>\n",
       "<style scoped>\n",
       "    .dataframe tbody tr th:only-of-type {\n",
       "        vertical-align: middle;\n",
       "    }\n",
       "\n",
       "    .dataframe tbody tr th {\n",
       "        vertical-align: top;\n",
       "    }\n",
       "\n",
       "    .dataframe thead th {\n",
       "        text-align: right;\n",
       "    }\n",
       "</style>\n",
       "<table border=\"1\" class=\"dataframe\">\n",
       "  <thead>\n",
       "    <tr style=\"text-align: right;\">\n",
       "      <th></th>\n",
       "      <th>car_ID</th>\n",
       "      <th>symboling</th>\n",
       "      <th>CarName</th>\n",
       "      <th>fueltype</th>\n",
       "      <th>aspiration</th>\n",
       "      <th>doornumber</th>\n",
       "      <th>carbody</th>\n",
       "      <th>drivewheel</th>\n",
       "      <th>enginelocation</th>\n",
       "      <th>wheelbase</th>\n",
       "      <th>...</th>\n",
       "      <th>enginesize</th>\n",
       "      <th>fuelsystem</th>\n",
       "      <th>boreratio</th>\n",
       "      <th>stroke</th>\n",
       "      <th>compressionratio</th>\n",
       "      <th>horsepower</th>\n",
       "      <th>peakrpm</th>\n",
       "      <th>citympg</th>\n",
       "      <th>highwaympg</th>\n",
       "      <th>price</th>\n",
       "    </tr>\n",
       "  </thead>\n",
       "  <tbody>\n",
       "    <tr>\n",
       "      <th>200</th>\n",
       "      <td>201</td>\n",
       "      <td>-1</td>\n",
       "      <td>volvo 145e (sw)</td>\n",
       "      <td>gas</td>\n",
       "      <td>std</td>\n",
       "      <td>four</td>\n",
       "      <td>sedan</td>\n",
       "      <td>rwd</td>\n",
       "      <td>front</td>\n",
       "      <td>109.1</td>\n",
       "      <td>...</td>\n",
       "      <td>141</td>\n",
       "      <td>mpfi</td>\n",
       "      <td>3.78</td>\n",
       "      <td>3.15</td>\n",
       "      <td>9.5</td>\n",
       "      <td>114</td>\n",
       "      <td>5400</td>\n",
       "      <td>23</td>\n",
       "      <td>28</td>\n",
       "      <td>16845.0</td>\n",
       "    </tr>\n",
       "    <tr>\n",
       "      <th>201</th>\n",
       "      <td>202</td>\n",
       "      <td>-1</td>\n",
       "      <td>volvo 144ea</td>\n",
       "      <td>gas</td>\n",
       "      <td>turbo</td>\n",
       "      <td>four</td>\n",
       "      <td>sedan</td>\n",
       "      <td>rwd</td>\n",
       "      <td>front</td>\n",
       "      <td>109.1</td>\n",
       "      <td>...</td>\n",
       "      <td>141</td>\n",
       "      <td>mpfi</td>\n",
       "      <td>3.78</td>\n",
       "      <td>3.15</td>\n",
       "      <td>8.7</td>\n",
       "      <td>160</td>\n",
       "      <td>5300</td>\n",
       "      <td>19</td>\n",
       "      <td>25</td>\n",
       "      <td>19045.0</td>\n",
       "    </tr>\n",
       "    <tr>\n",
       "      <th>202</th>\n",
       "      <td>203</td>\n",
       "      <td>-1</td>\n",
       "      <td>volvo 244dl</td>\n",
       "      <td>gas</td>\n",
       "      <td>std</td>\n",
       "      <td>four</td>\n",
       "      <td>sedan</td>\n",
       "      <td>rwd</td>\n",
       "      <td>front</td>\n",
       "      <td>109.1</td>\n",
       "      <td>...</td>\n",
       "      <td>173</td>\n",
       "      <td>mpfi</td>\n",
       "      <td>3.58</td>\n",
       "      <td>2.87</td>\n",
       "      <td>8.8</td>\n",
       "      <td>134</td>\n",
       "      <td>5500</td>\n",
       "      <td>18</td>\n",
       "      <td>23</td>\n",
       "      <td>21485.0</td>\n",
       "    </tr>\n",
       "    <tr>\n",
       "      <th>203</th>\n",
       "      <td>204</td>\n",
       "      <td>-1</td>\n",
       "      <td>volvo 246</td>\n",
       "      <td>diesel</td>\n",
       "      <td>turbo</td>\n",
       "      <td>four</td>\n",
       "      <td>sedan</td>\n",
       "      <td>rwd</td>\n",
       "      <td>front</td>\n",
       "      <td>109.1</td>\n",
       "      <td>...</td>\n",
       "      <td>145</td>\n",
       "      <td>idi</td>\n",
       "      <td>3.01</td>\n",
       "      <td>3.40</td>\n",
       "      <td>23.0</td>\n",
       "      <td>106</td>\n",
       "      <td>4800</td>\n",
       "      <td>26</td>\n",
       "      <td>27</td>\n",
       "      <td>22470.0</td>\n",
       "    </tr>\n",
       "    <tr>\n",
       "      <th>204</th>\n",
       "      <td>205</td>\n",
       "      <td>-1</td>\n",
       "      <td>volvo 264gl</td>\n",
       "      <td>gas</td>\n",
       "      <td>turbo</td>\n",
       "      <td>four</td>\n",
       "      <td>sedan</td>\n",
       "      <td>rwd</td>\n",
       "      <td>front</td>\n",
       "      <td>109.1</td>\n",
       "      <td>...</td>\n",
       "      <td>141</td>\n",
       "      <td>mpfi</td>\n",
       "      <td>3.78</td>\n",
       "      <td>3.15</td>\n",
       "      <td>9.5</td>\n",
       "      <td>114</td>\n",
       "      <td>5400</td>\n",
       "      <td>19</td>\n",
       "      <td>25</td>\n",
       "      <td>22625.0</td>\n",
       "    </tr>\n",
       "  </tbody>\n",
       "</table>\n",
       "<p>5 rows × 26 columns</p>\n",
       "</div>"
      ],
      "text/plain": [
       "     car_ID  symboling          CarName fueltype aspiration doornumber  \\\n",
       "200     201         -1  volvo 145e (sw)      gas        std       four   \n",
       "201     202         -1      volvo 144ea      gas      turbo       four   \n",
       "202     203         -1      volvo 244dl      gas        std       four   \n",
       "203     204         -1        volvo 246   diesel      turbo       four   \n",
       "204     205         -1      volvo 264gl      gas      turbo       four   \n",
       "\n",
       "    carbody drivewheel enginelocation  wheelbase   ...     enginesize  \\\n",
       "200   sedan        rwd          front      109.1   ...            141   \n",
       "201   sedan        rwd          front      109.1   ...            141   \n",
       "202   sedan        rwd          front      109.1   ...            173   \n",
       "203   sedan        rwd          front      109.1   ...            145   \n",
       "204   sedan        rwd          front      109.1   ...            141   \n",
       "\n",
       "     fuelsystem  boreratio  stroke compressionratio horsepower  peakrpm  \\\n",
       "200        mpfi       3.78    3.15              9.5        114     5400   \n",
       "201        mpfi       3.78    3.15              8.7        160     5300   \n",
       "202        mpfi       3.58    2.87              8.8        134     5500   \n",
       "203         idi       3.01    3.40             23.0        106     4800   \n",
       "204        mpfi       3.78    3.15              9.5        114     5400   \n",
       "\n",
       "    citympg  highwaympg    price  \n",
       "200      23          28  16845.0  \n",
       "201      19          25  19045.0  \n",
       "202      18          23  21485.0  \n",
       "203      26          27  22470.0  \n",
       "204      19          25  22625.0  \n",
       "\n",
       "[5 rows x 26 columns]"
      ]
     },
     "execution_count": 3,
     "metadata": {},
     "output_type": "execute_result"
    }
   ],
   "source": [
    "cars.tail()"
   ]
  },
  {
   "cell_type": "code",
   "execution_count": 4,
   "metadata": {},
   "outputs": [],
   "source": [
    "\n",
    "# Catgorical Variables\n",
    "# 1. Fueltype => ['gas', 'diesel']\n",
    "# 2. Aspiration =>['std', 'turbo']\n",
    "# 3. door number =>['two', 'four']\n",
    "# 4. carboday =>['convertible', 'hatchback', 'sedan', 'wagon', 'hardtop']\n",
    "# 5  drive wheel =>['rwd', 'fwd', '4wd']\n",
    "# 6  engine location =>['front', 'rear']\n",
    "# 7. fuelsystem =>['mpfi', '2bbl', 'mfi', '1bbl', 'spfi', '4bbl', 'idi', 'spdi']\n",
    "# 8. engine type =>['dohc', 'ohcv', 'ohc', 'l', 'rotor', 'ohcf', 'dohcv']\n",
    "# 9. cylindernumbers =>['four', 'six', 'five', 'three', 'twelve', 'two', 'eight']\n",
    "# cars.fueltype.describe()\n",
    "cars[\"fueltype\"]=cars[\"fueltype\"].map({\"gas\":1,\"diesel\":0})\n",
    "cars.aspiration=cars[\"aspiration\"].map({\"std\":1,\"turbo\":0})\n",
    "cars.doornumber=cars[\"doornumber\"].map({\"two\":1,\"four\":0})\n",
    "cars.enginelocation=cars.enginelocation.map({\"front\":1,\"rear\":0})\n",
    "\n",
    "# cars[\"sedan\"]=cars.carbody.apply(lambda s:1 if s==\"sedan\" else 0)\n",
    "# cars[\"hatchback\"]=cars.carbody.apply(lambda s:1 if s==\"hatchback\" else 0)\n",
    "# cars[\"convertible\"]=cars.carbody.apply(lambda s:1 if s==\"convertible\" else 0)\n",
    "# cars[\"wagon\"]=cars.carbody.apply(lambda s:1 if s==\"wagon\" else 0)\n",
    "\n",
    "\n",
    "\n",
    "carbody=pd.get_dummies(cars.carbody,drop_first=True,prefix=\"carbody\", prefix_sep='_')\n",
    "drive_wheel=pd.get_dummies(cars.drivewheel,drop_first=True,prefix=\"drive_wheel\", prefix_sep='_')\n",
    "fuelsystem=pd.get_dummies(cars.fuelsystem,drop_first=True,prefix=\"fuelsystem\", prefix_sep='_')\n",
    "enginetype=pd.get_dummies(cars.enginetype,drop_first=True,prefix=\"enginetype\", prefix_sep='_')\n",
    "cylindernumbers=pd.get_dummies(cars.cylindernumber,drop_first=True,prefix=\"cylindernumbers\", prefix_sep='_')\n",
    "#Adding the results to the master dataframe\n",
    "cars = pd.concat([cars,carbody,drive_wheel,fuelsystem,enginetype,cylindernumbers],axis=1)"
   ]
  },
  {
   "cell_type": "code",
   "execution_count": null,
   "metadata": {},
   "outputs": [],
   "source": []
  },
  {
   "cell_type": "code",
   "execution_count": 5,
   "metadata": {},
   "outputs": [],
   "source": [
    "cars.drop([\"carbody\",\"car_ID\",\"drivewheel\",\n",
    "           \"fuelsystem\",\"enginetype\",\"cylindernumber\"\n",
    "           ,\"CarName\"],axis=1,inplace=True)"
   ]
  },
  {
   "cell_type": "code",
   "execution_count": 6,
   "metadata": {},
   "outputs": [
    {
     "data": {
      "text/plain": [
       "count      205.000000\n",
       "mean     13276.710571\n",
       "std       7988.852332\n",
       "min       5118.000000\n",
       "25%       7788.000000\n",
       "50%      10295.000000\n",
       "75%      16503.000000\n",
       "max      45400.000000\n",
       "Name: price, dtype: float64"
      ]
     },
     "execution_count": 6,
     "metadata": {},
     "output_type": "execute_result"
    }
   ],
   "source": [
    "cars.price.describe()"
   ]
  },
  {
   "cell_type": "code",
   "execution_count": 7,
   "metadata": {},
   "outputs": [],
   "source": [
    "# sns.pairplot(cars)"
   ]
  },
  {
   "cell_type": "code",
   "execution_count": 8,
   "metadata": {},
   "outputs": [
    {
     "data": {
      "text/plain": [
       "\"['symboling', 'fueltype', 'aspiration', 'doornumber', 'enginelocation', 'wheelbase', 'carlength', 'carwidth', 'carheight', 'curbweight', 'enginesize', 'boreratio', 'stroke', 'compressionratio', 'horsepower', 'peakrpm', 'citympg', 'highwaympg', 'price', 'carbody_hardtop', 'carbody_hatchback', 'carbody_sedan', 'carbody_wagon', 'drive_wheel_fwd', 'drive_wheel_rwd', 'fuelsystem_2bbl', 'fuelsystem_4bbl', 'fuelsystem_idi', 'fuelsystem_mfi', 'fuelsystem_mpfi', 'fuelsystem_spdi', 'fuelsystem_spfi', 'enginetype_dohcv', 'enginetype_l', 'enginetype_ohc', 'enginetype_ohcf', 'enginetype_ohcv', 'enginetype_rotor', 'cylindernumbers_five', 'cylindernumbers_four', 'cylindernumbers_six', 'cylindernumbers_three', 'cylindernumbers_twelve', 'cylindernumbers_two']\""
      ]
     },
     "execution_count": 8,
     "metadata": {},
     "output_type": "execute_result"
    }
   ],
   "source": [
    "#defining a normalisation function \n",
    "def normalize (x): \n",
    "    return ( (x-np.mean(x))/ (max(x) - min(x)))\n",
    "                                            \n",
    "                                              \n",
    "# applying normalize ( ) to all columns \n",
    "# cars = cars.apply(normalize) \n",
    "# cars.head()\n",
    "str(list(cars.columns))"
   ]
  },
  {
   "cell_type": "code",
   "execution_count": 9,
   "metadata": {},
   "outputs": [
    {
     "name": "stderr",
     "output_type": "stream",
     "text": [
      "/home/abhi/venvs/notebook/local/lib/python2.7/site-packages/sklearn/cross_validation.py:41: DeprecationWarning: This module was deprecated in version 0.18 in favor of the model_selection module into which all the refactored classes and functions are moved. Also note that the interface of the new CV iterators are different from that of this module. This module will be removed in 0.20.\n",
      "  \"This module will be removed in 0.20.\", DeprecationWarning)\n"
     ]
    }
   ],
   "source": [
    "# col=['symboling', 'fueltype', 'aspiration', 'doornumber', 'enginelocation', 'wheelbase', 'carlength', 'carwidth', 'carheight', 'curbweight', 'enginesize', 'boreratio', 'stroke', 'compressionratio', 'horsepower', 'peakrpm', 'citympg', 'highwaympg', 'carbody_hardtop', 'carbody_hatchback', 'carbody_sedan', 'carbody_wagon', 'drive_wheel_fwd', 'drive_wheel_rwd', 'fuelsystem_2bbl', 'fuelsystem_4bbl', 'fuelsystem_idi', 'fuelsystem_mfi', 'fuelsystem_mpfi', 'fuelsystem_spdi', 'fuelsystem_spfi', 'enginetype_dohcv', 'enginetype_l', 'enginetype_ohc', 'enginetype_ohcf', 'enginetype_ohcv', 'enginetype_rotor', 'cylindernumbers_five', 'cylindernumbers_four', 'cylindernumbers_six', 'cylindernumbers_three', 'cylindernumbers_twelve', 'cylindernumbers_two']\n",
    "# # ['symboling', 'fueltype', 'aspiration', 'doornumber', 'enginelocation', 'wheelbase', 'carlength', 'carwidth', 'carheight', 'curbweight', 'enginesize', 'boreratio', 'stroke', 'compressionratio', 'horsepower', 'peakrpm', 'citympg', 'highwaympg',  'hardtop', 'hatchback', 'sedan', 'wagon', 'fwd', 'rwd', '2bbl', '4bbl', 'idi', 'mfi', 'mpfi', 'spdi', 'spfi', 'dohcv', 'l', 'ohc', 'ohcf', 'ohcv', 'rotor', 'five', 'four', 'six', 'three', 'twelve', 'two']\n",
    "# X=cars[col]\n",
    "# y=cars[\"price\"]\n",
    "# #random_state is the seed used by the random number generator. It can be any integer.\n",
    "# from sklearn.cross_validation import train_test_split\n",
    "# X_train, X_test, y_train, y_test = train_test_split(X, y, train_size=0.7 , random_state=100)\n",
    "col=['symboling', 'fueltype', 'aspiration', 'doornumber', 'enginelocation', 'wheelbase', 'carlength', 'carwidth', 'carheight', 'curbweight', 'enginesize', 'boreratio', 'stroke', 'compressionratio', 'horsepower', 'peakrpm', 'citympg', 'highwaympg', 'carbody_hardtop', 'carbody_hatchback', 'carbody_sedan', 'carbody_wagon', 'drive_wheel_fwd', 'drive_wheel_rwd', 'fuelsystem_2bbl', 'fuelsystem_4bbl', 'fuelsystem_idi', 'fuelsystem_mfi', 'fuelsystem_mpfi', 'fuelsystem_spdi', 'fuelsystem_spfi', 'enginetype_dohcv', 'enginetype_l', 'enginetype_ohc', 'enginetype_ohcf', 'enginetype_ohcv', 'enginetype_rotor', 'cylindernumbers_five', 'cylindernumbers_four', 'cylindernumbers_six', 'cylindernumbers_three', 'cylindernumbers_twelve', 'cylindernumbers_two']\n",
    "def split_train_test(remove_col):\n",
    "    \n",
    "    \n",
    "    for i in remove_col:\n",
    "        col.pop(col.index(i))\n",
    "    # ['symboling', 'fueltype', 'aspiration', 'doornumber', 'enginelocation', 'wheelbase', 'carlength', 'carwidth', 'carheight', 'curbweight', 'enginesize', 'boreratio', 'stroke', 'compressionratio', 'horsepower', 'peakrpm', 'citympg', 'highwaympg',  'hardtop', 'hatchback', 'sedan', 'wagon', 'fwd', 'rwd', '2bbl', '4bbl', 'idi', 'mfi', 'mpfi', 'spdi', 'spfi', 'dohcv', 'l', 'ohc', 'ohcf', 'ohcv', 'rotor', 'five', 'four', 'six', 'three', 'twelve', 'two']\n",
    "    X=cars[col]\n",
    "    y=cars[\"price\"]\n",
    "    #random_state is the seed used by the random number generator. It can be any integer.\n",
    "    from sklearn.cross_validation import train_test_split\n",
    "    return train_test_split(X, y, train_size=0.7 , random_state=100)\n",
    "\n",
    "    \n",
    "X_train, X_test, y_train, y_test =split_train_test([]) \n",
    "# len(X_train.columns)\n"
   ]
  },
  {
   "cell_type": "code",
   "execution_count": 10,
   "metadata": {},
   "outputs": [
    {
     "name": "stdout",
     "output_type": "stream",
     "text": [
      "('Mean_Squared_Error :', 10998090.654989854)\n",
      "('r_square_value :', 0.8429496993045957)\n"
     ]
    }
   ],
   "source": [
    "from sklearn.linear_model import LinearRegression\n",
    "lm = LinearRegression()\n",
    "\n",
    "# Fitting the model\n",
    "lm.fit(X_train,y_train)\n",
    "\n",
    "# Making predictions\n",
    "y_pred = lm.predict(X_test)\n",
    "\n",
    "# Importing mean square error and r square from sklearn library.\n",
    "from sklearn.metrics import mean_squared_error, r2_score\n",
    "\n",
    "# Computing mean square error and R square value\n",
    "mse = mean_squared_error(y_test, y_pred)\n",
    "r_squared = r2_score(y_test, y_pred)\n",
    "\n",
    "# Printing mean square error and R square value\n",
    "print('Mean_Squared_Error :' ,mse)\n",
    "print('r_square_value :',r_squared)"
   ]
  },
  {
   "cell_type": "code",
   "execution_count": 11,
   "metadata": {},
   "outputs": [],
   "source": [
    "from sklearn.feature_selection import RFE\n",
    "rfe = RFE(lm, 10)\n",
    "rfe = rfe.fit(X_train, y_train)"
   ]
  },
  {
   "cell_type": "code",
   "execution_count": 12,
   "metadata": {},
   "outputs": [],
   "source": [
    "\n",
    "sorted_col=[]\n",
    "rejected_colums=[]\n",
    "for i,j in  enumerate(rfe.support_):\n",
    "    if j==True:\n",
    "        sorted_col.append(col[i])\n",
    "    else:\n",
    "        rejected_colums.append(col[i])\n",
    "        \n",
    "\n"
   ]
  },
  {
   "cell_type": "code",
   "execution_count": 13,
   "metadata": {},
   "outputs": [],
   "source": [
    "# UDF for calculating vif value\n",
    "def vif_cal(input_data, dependent_col):\n",
    "    vif_df = pd.DataFrame( columns = ['Var', 'Vif'])\n",
    "    x_vars=input_data.drop([dependent_col], axis=1)\n",
    "    xvar_names=x_vars.columns\n",
    "    for i in range(0,xvar_names.shape[0]):\n",
    "        y=x_vars[xvar_names[i]] \n",
    "        x=x_vars[xvar_names.drop(xvar_names[i])]\n",
    "        rsq=sm.OLS(y,x).fit().rsquared  \n",
    "        vif=round(1/(1-rsq),2)\n",
    "        vif_df.loc[i] = [xvar_names[i], vif]\n",
    "    return vif_df.sort_values(by = 'Vif', axis=0, ascending=False, inplace=False)"
   ]
  },
  {
   "cell_type": "code",
   "execution_count": 14,
   "metadata": {},
   "outputs": [
    {
     "name": "stderr",
     "output_type": "stream",
     "text": [
      "/home/abhi/venvs/notebook/lib/python2.7/site-packages/ipykernel_launcher.py:10: RuntimeWarning: divide by zero encountered in double_scalars\n",
      "  # Remove the CWD from sys.path while we load stuff.\n"
     ]
    },
    {
     "data": {
      "text/html": [
       "<div>\n",
       "<style scoped>\n",
       "    .dataframe tbody tr th:only-of-type {\n",
       "        vertical-align: middle;\n",
       "    }\n",
       "\n",
       "    .dataframe tbody tr th {\n",
       "        vertical-align: top;\n",
       "    }\n",
       "\n",
       "    .dataframe thead th {\n",
       "        text-align: right;\n",
       "    }\n",
       "</style>\n",
       "<table border=\"1\" class=\"dataframe\">\n",
       "  <thead>\n",
       "    <tr style=\"text-align: right;\">\n",
       "      <th></th>\n",
       "      <th>Var</th>\n",
       "      <th>Vif</th>\n",
       "    </tr>\n",
       "  </thead>\n",
       "  <tbody>\n",
       "    <tr>\n",
       "      <th>4</th>\n",
       "      <td>enginetype_rotor</td>\n",
       "      <td>inf</td>\n",
       "    </tr>\n",
       "    <tr>\n",
       "      <th>9</th>\n",
       "      <td>cylindernumbers_two</td>\n",
       "      <td>inf</td>\n",
       "    </tr>\n",
       "    <tr>\n",
       "      <th>0</th>\n",
       "      <td>enginelocation</td>\n",
       "      <td>63.920000</td>\n",
       "    </tr>\n",
       "    <tr>\n",
       "      <th>1</th>\n",
       "      <td>boreratio</td>\n",
       "      <td>60.800000</td>\n",
       "    </tr>\n",
       "    <tr>\n",
       "      <th>6</th>\n",
       "      <td>cylindernumbers_four</td>\n",
       "      <td>50.580000</td>\n",
       "    </tr>\n",
       "    <tr>\n",
       "      <th>7</th>\n",
       "      <td>cylindernumbers_six</td>\n",
       "      <td>5.830000</td>\n",
       "    </tr>\n",
       "    <tr>\n",
       "      <th>5</th>\n",
       "      <td>cylindernumbers_five</td>\n",
       "      <td>4.440000</td>\n",
       "    </tr>\n",
       "    <tr>\n",
       "      <th>3</th>\n",
       "      <td>enginetype_ohcv</td>\n",
       "      <td>2.490000</td>\n",
       "    </tr>\n",
       "    <tr>\n",
       "      <th>2</th>\n",
       "      <td>enginetype_dohcv</td>\n",
       "      <td>1.380000</td>\n",
       "    </tr>\n",
       "    <tr>\n",
       "      <th>8</th>\n",
       "      <td>cylindernumbers_three</td>\n",
       "      <td>1.280000</td>\n",
       "    </tr>\n",
       "  </tbody>\n",
       "</table>\n",
       "</div>"
      ],
      "text/plain": [
       "                     Var        Vif\n",
       "4       enginetype_rotor        inf\n",
       "9    cylindernumbers_two        inf\n",
       "0         enginelocation  63.920000\n",
       "1              boreratio  60.800000\n",
       "6   cylindernumbers_four  50.580000\n",
       "7    cylindernumbers_six   5.830000\n",
       "5   cylindernumbers_five   4.440000\n",
       "3        enginetype_ohcv   2.490000\n",
       "2       enginetype_dohcv   1.380000\n",
       "8  cylindernumbers_three   1.280000"
      ]
     },
     "execution_count": 14,
     "metadata": {},
     "output_type": "execute_result"
    }
   ],
   "source": [
    "import statsmodels.api as sm \n",
    "sorted_col.append(\"price\")\n",
    "X_train,X_test,y_train,y_test=split_train_test(rejected_colums) \n",
    "vif_cal(input_data=cars[sorted_col], dependent_col=\"price\")"
   ]
  },
  {
   "cell_type": "code",
   "execution_count": 15,
   "metadata": {},
   "outputs": [
    {
     "name": "stdout",
     "output_type": "stream",
     "text": [
      "                            OLS Regression Results                            \n",
      "==============================================================================\n",
      "Dep. Variable:                  price   R-squared:                       0.803\n",
      "Model:                            OLS   Adj. R-squared:                  0.789\n",
      "Method:                 Least Squares   F-statistic:                     60.10\n",
      "Date:                Fri, 22 Jun 2018   Prob (F-statistic):           1.48e-42\n",
      "Time:                        00:19:11   Log-Likelihood:                -1368.1\n",
      "No. Observations:                 143   AIC:                             2756.\n",
      "Df Residuals:                     133   BIC:                             2786.\n",
      "Df Model:                           9                                         \n",
      "Covariance Type:            nonrobust                                         \n",
      "=========================================================================================\n",
      "                            coef    std err          t      P>|t|      [0.025      0.975]\n",
      "-----------------------------------------------------------------------------------------\n",
      "const                  6587.4604   6451.752      1.021      0.309   -6173.855    1.93e+04\n",
      "enginelocation        -4889.2720   3755.969     -1.302      0.195   -1.23e+04    2539.889\n",
      "boreratio               1.16e+04   1213.538      9.557      0.000    9196.857     1.4e+04\n",
      "enginetype_dohcv      -1.599e+04   4536.273     -3.525      0.001    -2.5e+04   -7018.034\n",
      "enginetype_ohcv       -7053.7146   1792.728     -3.935      0.000   -1.06e+04   -3507.768\n",
      "enginetype_rotor      -1.365e+04   1640.359     -8.320      0.000   -1.69e+04   -1.04e+04\n",
      "cylindernumbers_five  -1.884e+04   2999.030     -6.283      0.000   -2.48e+04   -1.29e+04\n",
      "cylindernumbers_four  -2.995e+04   2775.375    -10.790      0.000   -3.54e+04   -2.45e+04\n",
      "cylindernumbers_six   -1.593e+04   2541.157     -6.270      0.000    -2.1e+04   -1.09e+04\n",
      "cylindernumbers_three  -3.03e+04   4572.355     -6.626      0.000   -3.93e+04   -2.13e+04\n",
      "cylindernumbers_two   -1.365e+04   1640.359     -8.320      0.000   -1.69e+04   -1.04e+04\n",
      "==============================================================================\n",
      "Omnibus:                       10.627   Durbin-Watson:                   2.199\n",
      "Prob(Omnibus):                  0.005   Jarque-Bera (JB):               18.281\n",
      "Skew:                           0.322   Prob(JB):                     0.000107\n",
      "Kurtosis:                       4.629   Cond. No.                     1.02e+18\n",
      "==============================================================================\n",
      "\n",
      "Warnings:\n",
      "[1] Standard Errors assume that the covariance matrix of the errors is correctly specified.\n",
      "[2] The smallest eigenvalue is 1.86e-33. This might indicate that there are\n",
      "strong multicollinearity problems or that the design matrix is singular.\n"
     ]
    }
   ],
   "source": [
    "X_train = sm.add_constant(X_train)    # Adding a constant column to our dataframe\n",
    "# create a first fitted model\n",
    "lm_1 = sm.OLS(y_train,X_train).fit()\n",
    "print (lm_1.summary())\n",
    "# Looking at model and co varience we will remove high p value elements"
   ]
  },
  {
   "cell_type": "code",
   "execution_count": 16,
   "metadata": {},
   "outputs": [
    {
     "name": "stderr",
     "output_type": "stream",
     "text": [
      "/home/abhi/venvs/notebook/lib/python2.7/site-packages/ipykernel_launcher.py:10: RuntimeWarning: divide by zero encountered in double_scalars\n",
      "  # Remove the CWD from sys.path while we load stuff.\n"
     ]
    },
    {
     "data": {
      "text/html": [
       "<div>\n",
       "<style scoped>\n",
       "    .dataframe tbody tr th:only-of-type {\n",
       "        vertical-align: middle;\n",
       "    }\n",
       "\n",
       "    .dataframe tbody tr th {\n",
       "        vertical-align: top;\n",
       "    }\n",
       "\n",
       "    .dataframe thead th {\n",
       "        text-align: right;\n",
       "    }\n",
       "</style>\n",
       "<table border=\"1\" class=\"dataframe\">\n",
       "  <thead>\n",
       "    <tr style=\"text-align: right;\">\n",
       "      <th></th>\n",
       "      <th>Var</th>\n",
       "      <th>Vif</th>\n",
       "    </tr>\n",
       "  </thead>\n",
       "  <tbody>\n",
       "    <tr>\n",
       "      <th>3</th>\n",
       "      <td>enginetype_rotor</td>\n",
       "      <td>inf</td>\n",
       "    </tr>\n",
       "    <tr>\n",
       "      <th>8</th>\n",
       "      <td>cylindernumbers_two</td>\n",
       "      <td>inf</td>\n",
       "    </tr>\n",
       "    <tr>\n",
       "      <th>0</th>\n",
       "      <td>enginelocation</td>\n",
       "      <td>48.780000</td>\n",
       "    </tr>\n",
       "    <tr>\n",
       "      <th>5</th>\n",
       "      <td>cylindernumbers_four</td>\n",
       "      <td>39.400000</td>\n",
       "    </tr>\n",
       "    <tr>\n",
       "      <th>6</th>\n",
       "      <td>cylindernumbers_six</td>\n",
       "      <td>3.950000</td>\n",
       "    </tr>\n",
       "    <tr>\n",
       "      <th>4</th>\n",
       "      <td>cylindernumbers_five</td>\n",
       "      <td>3.660000</td>\n",
       "    </tr>\n",
       "    <tr>\n",
       "      <th>2</th>\n",
       "      <td>enginetype_ohcv</td>\n",
       "      <td>2.320000</td>\n",
       "    </tr>\n",
       "    <tr>\n",
       "      <th>1</th>\n",
       "      <td>enginetype_dohcv</td>\n",
       "      <td>1.240000</td>\n",
       "    </tr>\n",
       "    <tr>\n",
       "      <th>7</th>\n",
       "      <td>cylindernumbers_three</td>\n",
       "      <td>1.240000</td>\n",
       "    </tr>\n",
       "  </tbody>\n",
       "</table>\n",
       "</div>"
      ],
      "text/plain": [
       "                     Var        Vif\n",
       "3       enginetype_rotor        inf\n",
       "8    cylindernumbers_two        inf\n",
       "0         enginelocation  48.780000\n",
       "5   cylindernumbers_four  39.400000\n",
       "6    cylindernumbers_six   3.950000\n",
       "4   cylindernumbers_five   3.660000\n",
       "2        enginetype_ohcv   2.320000\n",
       "1       enginetype_dohcv   1.240000\n",
       "7  cylindernumbers_three   1.240000"
      ]
     },
     "execution_count": 16,
     "metadata": {},
     "output_type": "execute_result"
    }
   ],
   "source": [
    "\n",
    "# sorted_col.append(\"price\")\n",
    "sorted_col.pop(sorted_col.index(\"boreratio\"))\n",
    "X_train,X_test,y_train,y_test=split_train_test([\"boreratio\"]) \n",
    "vif_cal(input_data=cars[sorted_col], dependent_col=\"price\")"
   ]
  },
  {
   "cell_type": "code",
   "execution_count": 17,
   "metadata": {},
   "outputs": [
    {
     "name": "stdout",
     "output_type": "stream",
     "text": [
      "                            OLS Regression Results                            \n",
      "==============================================================================\n",
      "Dep. Variable:                  price   R-squared:                       0.667\n",
      "Model:                            OLS   Adj. R-squared:                  0.647\n",
      "Method:                 Least Squares   F-statistic:                     33.57\n",
      "Date:                Fri, 22 Jun 2018   Prob (F-statistic):           1.63e-28\n",
      "Time:                        00:19:12   Log-Likelihood:                -1405.4\n",
      "No. Observations:                 143   AIC:                             2829.\n",
      "Df Residuals:                     134   BIC:                             2856.\n",
      "Df Model:                           8                                         \n",
      "Covariance Type:            nonrobust                                         \n",
      "=========================================================================================\n",
      "                            coef    std err          t      P>|t|      [0.025      0.975]\n",
      "-----------------------------------------------------------------------------------------\n",
      "const                  5.178e+04   5678.865      9.118      0.000    4.05e+04     6.3e+04\n",
      "enginelocation        -9102.9167   4826.108     -1.886      0.061   -1.86e+04     442.283\n",
      "enginetype_dohcv      -1.127e+04   5834.480     -1.932      0.055   -2.28e+04     265.167\n",
      "enginetype_ohcv       -7594.9167   2318.387     -3.276      0.001   -1.22e+04   -3009.551\n",
      "enginetype_rotor      -1.483e+04   2116.388     -7.006      0.000    -1.9e+04   -1.06e+04\n",
      "cylindernumbers_five  -2.147e+04   3863.978     -5.557      0.000   -2.91e+04   -1.38e+04\n",
      "cylindernumbers_four  -3.281e+04   3569.917     -9.192      0.000   -3.99e+04   -2.58e+04\n",
      "cylindernumbers_six   -1.775e+04   3278.694     -5.414      0.000   -2.42e+04   -1.13e+04\n",
      "cylindernumbers_three -3.752e+04   5834.480     -6.431      0.000   -4.91e+04    -2.6e+04\n",
      "cylindernumbers_two   -1.483e+04   2116.388     -7.006      0.000    -1.9e+04   -1.06e+04\n",
      "==============================================================================\n",
      "Omnibus:                       26.421   Durbin-Watson:                   2.137\n",
      "Prob(Omnibus):                  0.000   Jarque-Bera (JB):               35.742\n",
      "Skew:                           1.031   Prob(JB):                     1.73e-08\n",
      "Kurtosis:                       4.322   Cond. No.                     4.04e+16\n",
      "==============================================================================\n",
      "\n",
      "Warnings:\n",
      "[1] Standard Errors assume that the covariance matrix of the errors is correctly specified.\n",
      "[2] The smallest eigenvalue is 2.28e-31. This might indicate that there are\n",
      "strong multicollinearity problems or that the design matrix is singular.\n"
     ]
    }
   ],
   "source": [
    "X_train = sm.add_constant(X_train)    # Adding a constant column to our dataframe\n",
    "# create a first fitted model\n",
    "lm_3 = sm.OLS(y_train,X_train).fit()\n",
    "print (lm_3.summary())\n",
    "# Looking at model and co varience we will remove high p value elements\n",
    "\n",
    "\n",
    "\n"
   ]
  },
  {
   "cell_type": "code",
   "execution_count": 18,
   "metadata": {},
   "outputs": [
    {
     "ename": "ValueError",
     "evalue": "'doornumber' is not in list",
     "output_type": "error",
     "traceback": [
      "\u001b[0;31m---------------------------------------------------------------------------\u001b[0m",
      "\u001b[0;31mValueError\u001b[0m                                Traceback (most recent call last)",
      "\u001b[0;32m<ipython-input-18-c64ed47f3624>\u001b[0m in \u001b[0;36m<module>\u001b[0;34m()\u001b[0m\n\u001b[1;32m      2\u001b[0m \u001b[0;34m\u001b[0m\u001b[0m\n\u001b[1;32m      3\u001b[0m \u001b[0;31m# sorted_col.append(\"price\")\u001b[0m\u001b[0;34m\u001b[0m\u001b[0;34m\u001b[0m\u001b[0m\n\u001b[0;32m----> 4\u001b[0;31m \u001b[0msorted_col\u001b[0m\u001b[0;34m.\u001b[0m\u001b[0mpop\u001b[0m\u001b[0;34m(\u001b[0m\u001b[0msorted_col\u001b[0m\u001b[0;34m.\u001b[0m\u001b[0mindex\u001b[0m\u001b[0;34m(\u001b[0m\u001b[0;34m\"doornumber\"\u001b[0m\u001b[0;34m)\u001b[0m\u001b[0;34m)\u001b[0m\u001b[0;34m\u001b[0m\u001b[0m\n\u001b[0m\u001b[1;32m      5\u001b[0m \u001b[0mX_train\u001b[0m\u001b[0;34m,\u001b[0m\u001b[0mX_test\u001b[0m\u001b[0;34m,\u001b[0m\u001b[0my_train\u001b[0m\u001b[0;34m,\u001b[0m\u001b[0my_test\u001b[0m\u001b[0;34m=\u001b[0m\u001b[0msplit_train_test\u001b[0m\u001b[0;34m(\u001b[0m\u001b[0;34m[\u001b[0m\u001b[0;34m\"doornumber\"\u001b[0m\u001b[0;34m]\u001b[0m\u001b[0;34m)\u001b[0m\u001b[0;34m\u001b[0m\u001b[0m\n\u001b[1;32m      6\u001b[0m \u001b[0mvif_cal\u001b[0m\u001b[0;34m(\u001b[0m\u001b[0minput_data\u001b[0m\u001b[0;34m=\u001b[0m\u001b[0mcars\u001b[0m\u001b[0;34m[\u001b[0m\u001b[0msorted_col\u001b[0m\u001b[0;34m]\u001b[0m\u001b[0;34m,\u001b[0m \u001b[0mdependent_col\u001b[0m\u001b[0;34m=\u001b[0m\u001b[0;34m\"price\"\u001b[0m\u001b[0;34m)\u001b[0m\u001b[0;34m\u001b[0m\u001b[0m\n",
      "\u001b[0;31mValueError\u001b[0m: 'doornumber' is not in list"
     ]
    }
   ],
   "source": [
    "\n",
    "\n",
    "# sorted_col.append(\"price\")\n",
    "sorted_col.pop(sorted_col.index(\"doornumber\"))\n",
    "X_train,X_test,y_train,y_test=split_train_test([\"doornumber\"]) \n",
    "vif_cal(input_data=cars[sorted_col], dependent_col=\"price\")"
   ]
  },
  {
   "cell_type": "code",
   "execution_count": null,
   "metadata": {},
   "outputs": [],
   "source": [
    "X_train = sm.add_constant(X_train)    # Adding a constant column to our dataframe\n",
    "# create a first fitted model\n",
    "lm_4 = sm.OLS(y_train,X_train).fit()\n",
    "print (lm_4.summary())\n",
    "# Looking at model and co varience we will remove high p value elements\n",
    "\n",
    "\n",
    "\n"
   ]
  },
  {
   "cell_type": "code",
   "execution_count": null,
   "metadata": {},
   "outputs": [],
   "source": [
    "\n",
    "\n",
    "\n",
    "# sorted_col.append(\"price\")\n",
    "sorted_col.pop(sorted_col.index(\"enginetype_ohcf\"))\n",
    "X_train,X_test,y_train,y_test=split_train_test([\"enginetype_ohcf\"]) \n",
    "vif_cal(input_data=cars[sorted_col], dependent_col=\"price\")"
   ]
  },
  {
   "cell_type": "code",
   "execution_count": null,
   "metadata": {},
   "outputs": [],
   "source": [
    "X_train = sm.add_constant(X_train)    # Adding a constant column to our dataframe\n",
    "# create a first fitted model\n",
    "lm_5 = sm.OLS(y_train,X_train).fit()\n",
    "print (lm_5.summary())\n",
    "# Looking at model and co varience we will remove high p value elements\n",
    "\n",
    "\n",
    "\n"
   ]
  },
  {
   "cell_type": "code",
   "execution_count": null,
   "metadata": {},
   "outputs": [],
   "source": [
    "\n",
    "\n",
    "\n",
    "\n",
    "\n",
    "# sorted_col.append(\"price\")\n",
    "sorted_col.pop(sorted_col.index(\"carwidth\"))\n",
    "X_train,X_test,y_train,y_test=split_train_test([\"carwidth\"]) \n",
    "vif_cal(input_data=cars[sorted_col], dependent_col=\"price\")"
   ]
  },
  {
   "cell_type": "code",
   "execution_count": null,
   "metadata": {},
   "outputs": [],
   "source": [
    "X_train = sm.add_constant(X_train)    # Adding a constant column to our dataframe\n",
    "# create a first fitted model\n",
    "lm_6 = sm.OLS(y_train,X_train).fit()\n",
    "print (lm_6.summary())\n",
    "# Looking at model and co varience we will remove high p value elements\n",
    "\n",
    "\n",
    "\n"
   ]
  },
  {
   "cell_type": "code",
   "execution_count": null,
   "metadata": {},
   "outputs": [],
   "source": [
    "\n",
    "\n",
    "\n",
    "\n",
    "\n",
    "# sorted_col.append(\"price\")\n",
    "sorted_col.pop(sorted_col.index(\"enginelocation\"))\n",
    "X_train,X_test,y_train,y_test=split_train_test([\"enginelocation\"]) \n",
    "vif_cal(input_data=cars[sorted_col], dependent_col=\"price\")"
   ]
  },
  {
   "cell_type": "code",
   "execution_count": null,
   "metadata": {},
   "outputs": [],
   "source": [
    "X_train = sm.add_constant(X_train)    # Adding a constant column to our dataframe\n",
    "# create a first fitted model\n",
    "lm_7 = sm.OLS(y_train,X_train).fit()\n",
    "print (lm_7.summary())\n",
    "# Looking at model and co varience we will remove high p value elements\n",
    "\n",
    "\n",
    "\n"
   ]
  },
  {
   "cell_type": "code",
   "execution_count": null,
   "metadata": {},
   "outputs": [],
   "source": [
    "\n",
    "\n",
    "\n",
    "\n",
    "\n",
    "# sorted_col.append(\"price\")\n",
    "sorted_col.pop(sorted_col.index(\"boreratio\"))\n",
    "X_train,X_test,y_train,y_test=split_train_test([\"boreratio\"]) \n",
    "vif_cal(input_data=cars[sorted_col], dependent_col=\"price\")"
   ]
  },
  {
   "cell_type": "code",
   "execution_count": null,
   "metadata": {},
   "outputs": [],
   "source": [
    "X_train = sm.add_constant(X_train)    # Adding a constant column to our dataframe\n",
    "# create a first fitted model\n",
    "lm_8 = sm.OLS(y_train,X_train).fit()\n",
    "print (lm_8.summary())\n",
    "# Looking at model and co varience we will remove high p value elements\n",
    "\n",
    "\n",
    "\n"
   ]
  },
  {
   "cell_type": "code",
   "execution_count": null,
   "metadata": {},
   "outputs": [],
   "source": [
    "\n",
    "\n",
    "\n",
    "\n",
    "\n",
    "# sorted_col.append(\"price\")\n",
    "sorted_col.pop(sorted_col.index(\"cylindernumbers_four\"))\n",
    "X_train,X_test,y_train,y_test=split_train_test([\"cylindernumbers_four\"]) \n",
    "vif_cal(input_data=cars[sorted_col], dependent_col=\"price\")"
   ]
  },
  {
   "cell_type": "code",
   "execution_count": null,
   "metadata": {},
   "outputs": [],
   "source": [
    "X_train = sm.add_constant(X_train)    # Adding a constant column to our dataframe\n",
    "# create a first fitted model\n",
    "lm_9 = sm.OLS(y_train,X_train).fit()\n",
    "print (lm_9.summary())\n",
    "# Looking at model and co varience we will remove high p value elements\n"
   ]
  },
  {
   "cell_type": "code",
   "execution_count": null,
   "metadata": {},
   "outputs": [],
   "source": [
    "\n",
    "\n",
    "\n",
    "\n",
    "\n",
    "# sorted_col.append(\"price\")\n",
    "sorted_col.pop(sorted_col.index(\"drive_wheel_fwd\"))\n",
    "X_train,X_test,y_train,y_test=split_train_test([\"drive_wheel_fwd\"]) \n",
    "vif_cal(input_data=cars[sorted_col], dependent_col=\"price\")"
   ]
  },
  {
   "cell_type": "code",
   "execution_count": null,
   "metadata": {},
   "outputs": [],
   "source": []
  },
  {
   "cell_type": "code",
   "execution_count": null,
   "metadata": {},
   "outputs": [],
   "source": [
    "X_train = sm.add_constant(X_train)    # Adding a constant column to our dataframe\n",
    "# create a first fitted model\n",
    "lm_10 = sm.OLS(y_train,X_train).fit()\n",
    "print (lm_10.summary())\n",
    "# Looking at model and co varience we will remove high p value elements\n"
   ]
  },
  {
   "cell_type": "code",
   "execution_count": null,
   "metadata": {},
   "outputs": [],
   "source": [
    "\n",
    "\n",
    "\n",
    "\n",
    "\n",
    "# sorted_col.append(\"price\")\n",
    "sorted_col.pop(sorted_col.index(\"carbody_sedan\"))\n",
    "X_train,X_test,y_train,y_test=split_train_test([\"carbody_sedan\"]) \n",
    "vif_cal(input_data=cars[sorted_col], dependent_col=\"price\")"
   ]
  },
  {
   "cell_type": "code",
   "execution_count": null,
   "metadata": {},
   "outputs": [],
   "source": [
    "X_train = sm.add_constant(X_train)    # Adding a constant column to our dataframe\n",
    "# create a first fitted model\n",
    "lm_11 = sm.OLS(y_train,X_train).fit()\n",
    "print (lm_11.summary())\n",
    "# Looking at model and co varience we will remove high p value elements\n"
   ]
  },
  {
   "cell_type": "code",
   "execution_count": null,
   "metadata": {},
   "outputs": [],
   "source": [
    "\n",
    "\n",
    "\n",
    "\n",
    "\n",
    "# sorted_col.append(\"price\")\n",
    "sorted_col.pop(sorted_col.index(\"aspiration\"))\n",
    "X_train,X_test,y_train,y_test=split_train_test([\"aspiration\"]) \n",
    "vif_cal(input_data=cars[sorted_col], dependent_col=\"price\")"
   ]
  },
  {
   "cell_type": "code",
   "execution_count": null,
   "metadata": {},
   "outputs": [],
   "source": [
    "X_train = sm.add_constant(X_train)    # Adding a constant column to our dataframe\n",
    "# create a first fitted model\n",
    "lm_11 = sm.OLS(y_train,X_train).fit()\n",
    "print (lm_11.summary())\n",
    "# Looking at model and co varience we will remove high p value elements\n"
   ]
  },
  {
   "cell_type": "code",
   "execution_count": null,
   "metadata": {},
   "outputs": [],
   "source": [
    "\n",
    "\n",
    "\n",
    "\n",
    "\n",
    "# sorted_col.append(\"price\")\n",
    "sorted_col.pop(sorted_col.index(\"carbody_hardtop\"))\n",
    "X_train,X_test,y_train,y_test=split_train_test([\"carbody_hardtop\"]) \n",
    "vif_cal(input_data=cars[sorted_col], dependent_col=\"price\")"
   ]
  },
  {
   "cell_type": "code",
   "execution_count": null,
   "metadata": {},
   "outputs": [],
   "source": [
    "X_train = sm.add_constant(X_train)    # Adding a constant column to our dataframe\n",
    "# create a first fitted model\n",
    "lm_11 = sm.OLS(y_train,X_train).fit()\n",
    "print (lm_11.summary())\n",
    "# Looking at model and co varience we will remove high p value elements\n"
   ]
  },
  {
   "cell_type": "code",
   "execution_count": null,
   "metadata": {},
   "outputs": [],
   "source": [
    "\n",
    "\n",
    "\n",
    "\n",
    "\n",
    "# sorted_col.append(\"price\")\n",
    "sorted_col.pop(sorted_col.index(\"enginetype_dohcv\"))\n",
    "X_train,X_test,y_train,y_test=split_train_test([\"enginetype_dohcv\"]) \n",
    "vif_cal(input_data=cars[sorted_col], dependent_col=\"price\")"
   ]
  },
  {
   "cell_type": "code",
   "execution_count": null,
   "metadata": {},
   "outputs": [],
   "source": [
    "X_train = sm.add_constant(X_train)    # Adding a constant column to our dataframe\n",
    "# create a first fitted model\n",
    "lm_11 = sm.OLS(y_train,X_train).fit()\n",
    "print (lm_11.summary())\n",
    "# Looking at model and co varience we will remove high p value elements\n"
   ]
  },
  {
   "cell_type": "code",
   "execution_count": null,
   "metadata": {},
   "outputs": [],
   "source": []
  }
 ],
 "metadata": {
  "kernelspec": {
   "display_name": "Python 3",
   "language": "python",
   "name": "python3"
  },
  "language_info": {
   "codemirror_mode": {
    "name": "ipython",
    "version": 2
   },
   "file_extension": ".py",
   "mimetype": "text/x-python",
   "name": "python",
   "nbconvert_exporter": "python",
   "pygments_lexer": "ipython2",
   "version": "2.7.12"
  }
 },
 "nbformat": 4,
 "nbformat_minor": 2
}
