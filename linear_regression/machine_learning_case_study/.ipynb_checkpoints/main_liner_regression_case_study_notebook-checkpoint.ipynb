{
 "cells": [
  {
   "cell_type": "code",
   "execution_count": 1,
   "metadata": {},
   "outputs": [],
   "source": [
    "import pandas as pd\n",
    "import numpy as np\n",
    "import matplotlib.pyplot as plt\n",
    "import seaborn as sns\n"
   ]
  },
  {
   "cell_type": "code",
   "execution_count": 2,
   "metadata": {},
   "outputs": [
    {
     "data": {
      "text/html": [
       "<div>\n",
       "<style scoped>\n",
       "    .dataframe tbody tr th:only-of-type {\n",
       "        vertical-align: middle;\n",
       "    }\n",
       "\n",
       "    .dataframe tbody tr th {\n",
       "        vertical-align: top;\n",
       "    }\n",
       "\n",
       "    .dataframe thead th {\n",
       "        text-align: right;\n",
       "    }\n",
       "</style>\n",
       "<table border=\"1\" class=\"dataframe\">\n",
       "  <thead>\n",
       "    <tr style=\"text-align: right;\">\n",
       "      <th></th>\n",
       "      <th>car_ID</th>\n",
       "      <th>symboling</th>\n",
       "      <th>CarName</th>\n",
       "      <th>fueltype</th>\n",
       "      <th>aspiration</th>\n",
       "      <th>doornumber</th>\n",
       "      <th>carbody</th>\n",
       "      <th>drivewheel</th>\n",
       "      <th>enginelocation</th>\n",
       "      <th>wheelbase</th>\n",
       "      <th>...</th>\n",
       "      <th>enginesize</th>\n",
       "      <th>fuelsystem</th>\n",
       "      <th>boreratio</th>\n",
       "      <th>stroke</th>\n",
       "      <th>compressionratio</th>\n",
       "      <th>horsepower</th>\n",
       "      <th>peakrpm</th>\n",
       "      <th>citympg</th>\n",
       "      <th>highwaympg</th>\n",
       "      <th>price</th>\n",
       "    </tr>\n",
       "  </thead>\n",
       "  <tbody>\n",
       "    <tr>\n",
       "      <th>0</th>\n",
       "      <td>1</td>\n",
       "      <td>3</td>\n",
       "      <td>alfa-romero giulia</td>\n",
       "      <td>gas</td>\n",
       "      <td>std</td>\n",
       "      <td>two</td>\n",
       "      <td>convertible</td>\n",
       "      <td>rwd</td>\n",
       "      <td>front</td>\n",
       "      <td>88.6</td>\n",
       "      <td>...</td>\n",
       "      <td>130</td>\n",
       "      <td>mpfi</td>\n",
       "      <td>3.47</td>\n",
       "      <td>2.68</td>\n",
       "      <td>9.0</td>\n",
       "      <td>111</td>\n",
       "      <td>5000</td>\n",
       "      <td>21</td>\n",
       "      <td>27</td>\n",
       "      <td>13495.0</td>\n",
       "    </tr>\n",
       "    <tr>\n",
       "      <th>1</th>\n",
       "      <td>2</td>\n",
       "      <td>3</td>\n",
       "      <td>alfa-romero stelvio</td>\n",
       "      <td>gas</td>\n",
       "      <td>std</td>\n",
       "      <td>two</td>\n",
       "      <td>convertible</td>\n",
       "      <td>rwd</td>\n",
       "      <td>front</td>\n",
       "      <td>88.6</td>\n",
       "      <td>...</td>\n",
       "      <td>130</td>\n",
       "      <td>mpfi</td>\n",
       "      <td>3.47</td>\n",
       "      <td>2.68</td>\n",
       "      <td>9.0</td>\n",
       "      <td>111</td>\n",
       "      <td>5000</td>\n",
       "      <td>21</td>\n",
       "      <td>27</td>\n",
       "      <td>16500.0</td>\n",
       "    </tr>\n",
       "    <tr>\n",
       "      <th>2</th>\n",
       "      <td>3</td>\n",
       "      <td>1</td>\n",
       "      <td>alfa-romero Quadrifoglio</td>\n",
       "      <td>gas</td>\n",
       "      <td>std</td>\n",
       "      <td>two</td>\n",
       "      <td>hatchback</td>\n",
       "      <td>rwd</td>\n",
       "      <td>front</td>\n",
       "      <td>94.5</td>\n",
       "      <td>...</td>\n",
       "      <td>152</td>\n",
       "      <td>mpfi</td>\n",
       "      <td>2.68</td>\n",
       "      <td>3.47</td>\n",
       "      <td>9.0</td>\n",
       "      <td>154</td>\n",
       "      <td>5000</td>\n",
       "      <td>19</td>\n",
       "      <td>26</td>\n",
       "      <td>16500.0</td>\n",
       "    </tr>\n",
       "    <tr>\n",
       "      <th>3</th>\n",
       "      <td>4</td>\n",
       "      <td>2</td>\n",
       "      <td>audi 100 ls</td>\n",
       "      <td>gas</td>\n",
       "      <td>std</td>\n",
       "      <td>four</td>\n",
       "      <td>sedan</td>\n",
       "      <td>fwd</td>\n",
       "      <td>front</td>\n",
       "      <td>99.8</td>\n",
       "      <td>...</td>\n",
       "      <td>109</td>\n",
       "      <td>mpfi</td>\n",
       "      <td>3.19</td>\n",
       "      <td>3.40</td>\n",
       "      <td>10.0</td>\n",
       "      <td>102</td>\n",
       "      <td>5500</td>\n",
       "      <td>24</td>\n",
       "      <td>30</td>\n",
       "      <td>13950.0</td>\n",
       "    </tr>\n",
       "    <tr>\n",
       "      <th>4</th>\n",
       "      <td>5</td>\n",
       "      <td>2</td>\n",
       "      <td>audi 100ls</td>\n",
       "      <td>gas</td>\n",
       "      <td>std</td>\n",
       "      <td>four</td>\n",
       "      <td>sedan</td>\n",
       "      <td>4wd</td>\n",
       "      <td>front</td>\n",
       "      <td>99.4</td>\n",
       "      <td>...</td>\n",
       "      <td>136</td>\n",
       "      <td>mpfi</td>\n",
       "      <td>3.19</td>\n",
       "      <td>3.40</td>\n",
       "      <td>8.0</td>\n",
       "      <td>115</td>\n",
       "      <td>5500</td>\n",
       "      <td>18</td>\n",
       "      <td>22</td>\n",
       "      <td>17450.0</td>\n",
       "    </tr>\n",
       "  </tbody>\n",
       "</table>\n",
       "<p>5 rows × 26 columns</p>\n",
       "</div>"
      ],
      "text/plain": [
       "   car_ID  symboling                   CarName fueltype aspiration doornumber  \\\n",
       "0       1          3        alfa-romero giulia      gas        std        two   \n",
       "1       2          3       alfa-romero stelvio      gas        std        two   \n",
       "2       3          1  alfa-romero Quadrifoglio      gas        std        two   \n",
       "3       4          2               audi 100 ls      gas        std       four   \n",
       "4       5          2                audi 100ls      gas        std       four   \n",
       "\n",
       "       carbody drivewheel enginelocation  wheelbase   ...     enginesize  \\\n",
       "0  convertible        rwd          front       88.6   ...            130   \n",
       "1  convertible        rwd          front       88.6   ...            130   \n",
       "2    hatchback        rwd          front       94.5   ...            152   \n",
       "3        sedan        fwd          front       99.8   ...            109   \n",
       "4        sedan        4wd          front       99.4   ...            136   \n",
       "\n",
       "   fuelsystem  boreratio  stroke compressionratio horsepower  peakrpm citympg  \\\n",
       "0        mpfi       3.47    2.68              9.0        111     5000      21   \n",
       "1        mpfi       3.47    2.68              9.0        111     5000      21   \n",
       "2        mpfi       2.68    3.47              9.0        154     5000      19   \n",
       "3        mpfi       3.19    3.40             10.0        102     5500      24   \n",
       "4        mpfi       3.19    3.40              8.0        115     5500      18   \n",
       "\n",
       "   highwaympg    price  \n",
       "0          27  13495.0  \n",
       "1          27  16500.0  \n",
       "2          26  16500.0  \n",
       "3          30  13950.0  \n",
       "4          22  17450.0  \n",
       "\n",
       "[5 rows x 26 columns]"
      ]
     },
     "execution_count": 2,
     "metadata": {},
     "output_type": "execute_result"
    }
   ],
   "source": [
    "cars=pd.read_csv(\"CarPrice_Assignment.csv\")\n",
    "\n",
    "# Agenda: Geely Auto wants to enter USA Market\n",
    "# 1. Factors affecting pricing of cars\n",
    "# 2. Which variables are significant in \n",
    "#    predicting the price of a car,\n",
    "# 3. How Well those variables describing price\n",
    "# sns.pairplot(cars)carName\n",
    "# cars[\"type\"]=cars.CarName.apply(lambda s:s.split()[-1])\n",
    "cars.head()\n",
    "# cars.type.unique()"
   ]
  },
  {
   "cell_type": "code",
   "execution_count": 3,
   "metadata": {},
   "outputs": [],
   "source": [
    "\n",
    "# Catgorical Variables\n",
    "# 1. Fueltype => ['gas', 'diesel']\n",
    "# 2. Aspiration =>['std', 'turbo']\n",
    "# 3. door number =>['two', 'four']\n",
    "# 4. carboday =>['convertible', 'hatchback', 'sedan', 'wagon', 'hardtop']\n",
    "# 5  drive wheel =>['rwd', 'fwd', '4wd']\n",
    "# 6  engine location =>['front', 'rear']\n",
    "# 7. fuelsystem =>['mpfi', '2bbl', 'mfi', '1bbl', 'spfi', '4bbl', 'idi', 'spdi']\n",
    "# 8. engine type =>['dohc', 'ohcv', 'ohc', 'l', 'rotor', 'ohcf', 'dohcv']\n",
    "# 9. cylindernumbers =>['four', 'six', 'five', 'three', 'twelve', 'two', 'eight']\n",
    "# cars.fueltype.describe()\n",
    "cars[\"fueltype\"]=cars[\"fueltype\"].map({\"gas\":1,\"diesel\":0})\n",
    "cars.aspiration=cars[\"aspiration\"].map({\"std\":1,\"turbo\":0})\n",
    "cars.doornumber=cars[\"doornumber\"].map({\"two\":1,\"four\":0})\n",
    "cars.enginelocation=cars.enginelocation.map({\"front\":1,\"rear\":0})\n",
    "\n",
    "# cars[\"sedan\"]=cars.carbody.apply(lambda s:1 if s==\"sedan\" else 0)\n",
    "# cars[\"hatchback\"]=cars.carbody.apply(lambda s:1 if s==\"hatchback\" else 0)\n",
    "# cars[\"convertible\"]=cars.carbody.apply(lambda s:1 if s==\"convertible\" else 0)\n",
    "# cars[\"wagon\"]=cars.carbody.apply(lambda s:1 if s==\"wagon\" else 0)\n",
    "\n",
    "\n",
    "\n",
    "carbody=pd.get_dummies(cars.carbody,drop_first=True)\n",
    "drive_wheel=pd.get_dummies(cars.drivewheel,drop_first=True)\n",
    "fuelsystem=pd.get_dummies(cars.fuelsystem,drop_first=True)\n",
    "enginetype=pd.get_dummies(cars.enginetype,drop_first=True)\n",
    "cylindernumbers=pd.get_dummies(cars.cylindernumber,drop_first=True)\n",
    "#Adding the results to the master dataframe\n",
    "cars = pd.concat([cars,carbody,drive_wheel,fuelsystem,enginetype,cylindernumbers],axis=1)"
   ]
  },
  {
   "cell_type": "code",
   "execution_count": 4,
   "metadata": {},
   "outputs": [],
   "source": [
    "cars.drop([\"carbody\",\"car_ID\",\"drivewheel\",\n",
    "           \"fuelsystem\",\"enginetype\",\"cylindernumber\"\n",
    "           ,\"CarName\"],axis=1,inplace=True)"
   ]
  },
  {
   "cell_type": "code",
   "execution_count": 5,
   "metadata": {},
   "outputs": [
    {
     "data": {
      "text/html": [
       "<div>\n",
       "<style scoped>\n",
       "    .dataframe tbody tr th:only-of-type {\n",
       "        vertical-align: middle;\n",
       "    }\n",
       "\n",
       "    .dataframe tbody tr th {\n",
       "        vertical-align: top;\n",
       "    }\n",
       "\n",
       "    .dataframe thead th {\n",
       "        text-align: right;\n",
       "    }\n",
       "</style>\n",
       "<table border=\"1\" class=\"dataframe\">\n",
       "  <thead>\n",
       "    <tr style=\"text-align: right;\">\n",
       "      <th></th>\n",
       "      <th>symboling</th>\n",
       "      <th>fueltype</th>\n",
       "      <th>aspiration</th>\n",
       "      <th>doornumber</th>\n",
       "      <th>enginelocation</th>\n",
       "      <th>wheelbase</th>\n",
       "      <th>carlength</th>\n",
       "      <th>carwidth</th>\n",
       "      <th>carheight</th>\n",
       "      <th>curbweight</th>\n",
       "      <th>...</th>\n",
       "      <th>ohc</th>\n",
       "      <th>ohcf</th>\n",
       "      <th>ohcv</th>\n",
       "      <th>rotor</th>\n",
       "      <th>five</th>\n",
       "      <th>four</th>\n",
       "      <th>six</th>\n",
       "      <th>three</th>\n",
       "      <th>twelve</th>\n",
       "      <th>two</th>\n",
       "    </tr>\n",
       "  </thead>\n",
       "  <tbody>\n",
       "    <tr>\n",
       "      <th>0</th>\n",
       "      <td>0.433171</td>\n",
       "      <td>0.097561</td>\n",
       "      <td>0.180488</td>\n",
       "      <td>0.560976</td>\n",
       "      <td>0.014634</td>\n",
       "      <td>-0.296110</td>\n",
       "      <td>-0.078347</td>\n",
       "      <td>-0.150650</td>\n",
       "      <td>-0.410407</td>\n",
       "      <td>-0.002935</td>\n",
       "      <td>...</td>\n",
       "      <td>-0.721951</td>\n",
       "      <td>-0.073171</td>\n",
       "      <td>-0.063415</td>\n",
       "      <td>-0.019512</td>\n",
       "      <td>-0.053659</td>\n",
       "      <td>0.22439</td>\n",
       "      <td>-0.117073</td>\n",
       "      <td>-0.004878</td>\n",
       "      <td>-0.004878</td>\n",
       "      <td>-0.019512</td>\n",
       "    </tr>\n",
       "    <tr>\n",
       "      <th>1</th>\n",
       "      <td>0.433171</td>\n",
       "      <td>0.097561</td>\n",
       "      <td>0.180488</td>\n",
       "      <td>0.560976</td>\n",
       "      <td>0.014634</td>\n",
       "      <td>-0.296110</td>\n",
       "      <td>-0.078347</td>\n",
       "      <td>-0.150650</td>\n",
       "      <td>-0.410407</td>\n",
       "      <td>-0.002935</td>\n",
       "      <td>...</td>\n",
       "      <td>-0.721951</td>\n",
       "      <td>-0.073171</td>\n",
       "      <td>-0.063415</td>\n",
       "      <td>-0.019512</td>\n",
       "      <td>-0.053659</td>\n",
       "      <td>0.22439</td>\n",
       "      <td>-0.117073</td>\n",
       "      <td>-0.004878</td>\n",
       "      <td>-0.004878</td>\n",
       "      <td>-0.019512</td>\n",
       "    </tr>\n",
       "    <tr>\n",
       "      <th>2</th>\n",
       "      <td>0.033171</td>\n",
       "      <td>0.097561</td>\n",
       "      <td>0.180488</td>\n",
       "      <td>0.560976</td>\n",
       "      <td>0.014634</td>\n",
       "      <td>-0.124099</td>\n",
       "      <td>-0.042526</td>\n",
       "      <td>-0.033984</td>\n",
       "      <td>-0.110407</td>\n",
       "      <td>0.103737</td>\n",
       "      <td>...</td>\n",
       "      <td>-0.721951</td>\n",
       "      <td>-0.073171</td>\n",
       "      <td>0.936585</td>\n",
       "      <td>-0.019512</td>\n",
       "      <td>-0.053659</td>\n",
       "      <td>-0.77561</td>\n",
       "      <td>0.882927</td>\n",
       "      <td>-0.004878</td>\n",
       "      <td>-0.004878</td>\n",
       "      <td>-0.019512</td>\n",
       "    </tr>\n",
       "    <tr>\n",
       "      <th>3</th>\n",
       "      <td>0.233171</td>\n",
       "      <td>0.097561</td>\n",
       "      <td>0.180488</td>\n",
       "      <td>-0.439024</td>\n",
       "      <td>0.014634</td>\n",
       "      <td>0.030420</td>\n",
       "      <td>0.038071</td>\n",
       "      <td>0.024350</td>\n",
       "      <td>0.047927</td>\n",
       "      <td>-0.084781</td>\n",
       "      <td>...</td>\n",
       "      <td>0.278049</td>\n",
       "      <td>-0.073171</td>\n",
       "      <td>-0.063415</td>\n",
       "      <td>-0.019512</td>\n",
       "      <td>-0.053659</td>\n",
       "      <td>0.22439</td>\n",
       "      <td>-0.117073</td>\n",
       "      <td>-0.004878</td>\n",
       "      <td>-0.004878</td>\n",
       "      <td>-0.019512</td>\n",
       "    </tr>\n",
       "    <tr>\n",
       "      <th>4</th>\n",
       "      <td>0.233171</td>\n",
       "      <td>0.097561</td>\n",
       "      <td>0.180488</td>\n",
       "      <td>-0.439024</td>\n",
       "      <td>0.014634</td>\n",
       "      <td>0.018758</td>\n",
       "      <td>0.038071</td>\n",
       "      <td>0.041016</td>\n",
       "      <td>0.047927</td>\n",
       "      <td>0.104125</td>\n",
       "      <td>...</td>\n",
       "      <td>0.278049</td>\n",
       "      <td>-0.073171</td>\n",
       "      <td>-0.063415</td>\n",
       "      <td>-0.019512</td>\n",
       "      <td>0.946341</td>\n",
       "      <td>-0.77561</td>\n",
       "      <td>-0.117073</td>\n",
       "      <td>-0.004878</td>\n",
       "      <td>-0.004878</td>\n",
       "      <td>-0.019512</td>\n",
       "    </tr>\n",
       "  </tbody>\n",
       "</table>\n",
       "<p>5 rows × 44 columns</p>\n",
       "</div>"
      ],
      "text/plain": [
       "   symboling  fueltype  aspiration  doornumber  enginelocation  wheelbase  \\\n",
       "0   0.433171  0.097561    0.180488    0.560976        0.014634  -0.296110   \n",
       "1   0.433171  0.097561    0.180488    0.560976        0.014634  -0.296110   \n",
       "2   0.033171  0.097561    0.180488    0.560976        0.014634  -0.124099   \n",
       "3   0.233171  0.097561    0.180488   -0.439024        0.014634   0.030420   \n",
       "4   0.233171  0.097561    0.180488   -0.439024        0.014634   0.018758   \n",
       "\n",
       "   carlength  carwidth  carheight  curbweight    ...          ohc      ohcf  \\\n",
       "0  -0.078347 -0.150650  -0.410407   -0.002935    ...    -0.721951 -0.073171   \n",
       "1  -0.078347 -0.150650  -0.410407   -0.002935    ...    -0.721951 -0.073171   \n",
       "2  -0.042526 -0.033984  -0.110407    0.103737    ...    -0.721951 -0.073171   \n",
       "3   0.038071  0.024350   0.047927   -0.084781    ...     0.278049 -0.073171   \n",
       "4   0.038071  0.041016   0.047927    0.104125    ...     0.278049 -0.073171   \n",
       "\n",
       "       ohcv     rotor      five     four       six     three    twelve  \\\n",
       "0 -0.063415 -0.019512 -0.053659  0.22439 -0.117073 -0.004878 -0.004878   \n",
       "1 -0.063415 -0.019512 -0.053659  0.22439 -0.117073 -0.004878 -0.004878   \n",
       "2  0.936585 -0.019512 -0.053659 -0.77561  0.882927 -0.004878 -0.004878   \n",
       "3 -0.063415 -0.019512 -0.053659  0.22439 -0.117073 -0.004878 -0.004878   \n",
       "4 -0.063415 -0.019512  0.946341 -0.77561 -0.117073 -0.004878 -0.004878   \n",
       "\n",
       "        two  \n",
       "0 -0.019512  \n",
       "1 -0.019512  \n",
       "2 -0.019512  \n",
       "3 -0.019512  \n",
       "4 -0.019512  \n",
       "\n",
       "[5 rows x 44 columns]"
      ]
     },
     "execution_count": 5,
     "metadata": {},
     "output_type": "execute_result"
    }
   ],
   "source": [
    "#defining a normalisation function \n",
    "def normalize (x): \n",
    "    return ( (x-np.mean(x))/ (max(x) - min(x)))\n",
    "                                            \n",
    "                                              \n",
    "# applying normalize ( ) to all columns \n",
    "cars = cars.apply(normalize) \n",
    "cars.head()\n",
    "# str(list(cars.columns))"
   ]
  },
  {
   "cell_type": "code",
   "execution_count": 6,
   "metadata": {},
   "outputs": [
    {
     "name": "stderr",
     "output_type": "stream",
     "text": [
      "/home/abhi/venvs/notebook/local/lib/python2.7/site-packages/sklearn/cross_validation.py:41: DeprecationWarning: This module was deprecated in version 0.18 in favor of the model_selection module into which all the refactored classes and functions are moved. Also note that the interface of the new CV iterators are different from that of this module. This module will be removed in 0.20.\n",
      "  \"This module will be removed in 0.20.\", DeprecationWarning)\n"
     ]
    }
   ],
   "source": [
    "col=['symboling', 'fueltype', 'aspiration', 'doornumber', 'enginelocation', 'wheelbase', 'carlength', 'carwidth', 'carheight', 'curbweight', 'enginesize', 'boreratio', 'stroke', 'compressionratio', 'horsepower', 'peakrpm', 'citympg', 'highwaympg',  'hardtop', 'hatchback', 'sedan', 'wagon', 'fwd', 'rwd', '2bbl', '4bbl', 'idi', 'mfi', 'mpfi', 'spdi', 'spfi', 'dohcv', 'l', 'ohc', 'ohcf', 'ohcv', 'rotor', 'five', 'four', 'six', 'three', 'twelve', 'two']\n",
    "X=cars[col]\n",
    "y=cars[\"price\"]\n",
    "#random_state is the seed used by the random number generator. It can be any integer.\n",
    "from sklearn.cross_validation import train_test_split\n",
    "X_train, X_test, y_train, y_test = train_test_split(X, y, train_size=0.7 , random_state=100)"
   ]
  },
  {
   "cell_type": "code",
   "execution_count": 7,
   "metadata": {},
   "outputs": [
    {
     "name": "stdout",
     "output_type": "stream",
     "text": [
      "('Mean_Squared_Error :', 0.006777901371389579)\n",
      "('r_square_value :', 0.842949699304586)\n"
     ]
    }
   ],
   "source": [
    "from sklearn.linear_model import LinearRegression\n",
    "lm = LinearRegression()\n",
    "\n",
    "# Fitting the model\n",
    "lm.fit(X_train,y_train)\n",
    "\n",
    "# Making predictions\n",
    "y_pred = lm.predict(X_test)\n",
    "\n",
    "# Importing mean square error and r square from sklearn library.\n",
    "from sklearn.metrics import mean_squared_error, r2_score\n",
    "\n",
    "# Computing mean square error and R square value\n",
    "mse = mean_squared_error(y_test, y_pred)\n",
    "r_squared = r2_score(y_test, y_pred)\n",
    "\n",
    "# Printing mean square error and R square value\n",
    "print('Mean_Squared_Error :' ,mse)\n",
    "print('r_square_value :',r_squared)"
   ]
  },
  {
   "cell_type": "code",
   "execution_count": 8,
   "metadata": {},
   "outputs": [],
   "source": [
    "from sklearn.feature_selection import RFE\n",
    "rfe = RFE(lm, 25)\n",
    "rfe = rfe.fit(X_train, y_train)"
   ]
  },
  {
   "cell_type": "code",
   "execution_count": 9,
   "metadata": {},
   "outputs": [
    {
     "name": "stdout",
     "output_type": "stream",
     "text": [
      "['fueltype', 'enginelocation', 'wheelbase', 'carlength', 'carwidth', 'curbweight', 'enginesize', 'boreratio', 'stroke', 'compressionratio', 'horsepower', 'peakrpm', 'hardtop', 'hatchback', 'wagon', 'idi', 'spdi', 'ohc', 'ohcf', 'ohcv', 'rotor', 'four', 'three', 'twelve', 'two']\n"
     ]
    }
   ],
   "source": [
    "\n",
    "sorted_col=[]\n",
    "for i,j in  enumerate(rfe.support_):\n",
    "    if j==True:\n",
    "        sorted_col.append(col[i])\n",
    "        \n",
    "print sorted_col\n",
    "\n",
    "\n",
    "sorted_col.pop(sorted_col.index(\"fueltype\"))\n",
    "sorted_col.pop(sorted_col.index(\"idi\"))\n",
    "sorted_col.pop(sorted_col.index(\"rotor\"))\n",
    "sorted_col.pop(sorted_col.index(\"two\"))\n",
    "sorted_col.pop(sorted_col.index(\"wheelbase\"))\n",
    "sorted_col.pop(sorted_col.index(\"carlength\"))\n",
    "sorted_col.pop(sorted_col.index(\"boreratio\"))\n",
    "sorted_col.pop(sorted_col.index(\"hardtop\"))\n",
    "\n",
    "sorted_col.pop(sorted_col.index(\"horsepower\"))\n",
    "sorted_col.pop(sorted_col.index(\"curbweight\"))\n",
    "\n",
    "sorted_col.pop(sorted_col.index(\"wagon\"))\n",
    "sorted_col.pop(sorted_col.index(\"spdi\"))\n",
    "sorted_col.pop(sorted_col.index(\"hatchback\"))\n",
    "sorted_col.pop(sorted_col.index(\"three\"))\n",
    "\n",
    "\n",
    "\n",
    "\n",
    "\n",
    "\n",
    "\n",
    "X_train=X_train[sorted_col]\n",
    "X_test=X_test[sorted_col]"
   ]
  },
  {
   "cell_type": "code",
   "execution_count": 10,
   "metadata": {},
   "outputs": [],
   "source": [
    "# UDF for calculating vif value\n",
    "def vif_cal(input_data, dependent_col):\n",
    "    vif_df = pd.DataFrame( columns = ['Var', 'Vif'])\n",
    "    x_vars=input_data.drop([dependent_col], axis=1)\n",
    "    xvar_names=x_vars.columns\n",
    "    for i in range(0,xvar_names.shape[0]):\n",
    "        y=x_vars[xvar_names[i]] \n",
    "        x=x_vars[xvar_names.drop(xvar_names[i])]\n",
    "        rsq=sm.OLS(y,x).fit().rsquared  \n",
    "        vif=round(1/(1-rsq),2)\n",
    "        vif_df.loc[i] = [xvar_names[i], vif]\n",
    "    return vif_df.sort_values(by = 'Vif', axis=0, ascending=False, inplace=False)"
   ]
  },
  {
   "cell_type": "code",
   "execution_count": 11,
   "metadata": {},
   "outputs": [
    {
     "data": {
      "text/html": [
       "<div>\n",
       "<style scoped>\n",
       "    .dataframe tbody tr th:only-of-type {\n",
       "        vertical-align: middle;\n",
       "    }\n",
       "\n",
       "    .dataframe tbody tr th {\n",
       "        vertical-align: top;\n",
       "    }\n",
       "\n",
       "    .dataframe thead th {\n",
       "        text-align: right;\n",
       "    }\n",
       "</style>\n",
       "<table border=\"1\" class=\"dataframe\">\n",
       "  <thead>\n",
       "    <tr style=\"text-align: right;\">\n",
       "      <th></th>\n",
       "      <th>Var</th>\n",
       "      <th>Vif</th>\n",
       "    </tr>\n",
       "  </thead>\n",
       "  <tbody>\n",
       "    <tr>\n",
       "      <th>2</th>\n",
       "      <td>enginesize</td>\n",
       "      <td>5.41</td>\n",
       "    </tr>\n",
       "    <tr>\n",
       "      <th>1</th>\n",
       "      <td>carwidth</td>\n",
       "      <td>2.94</td>\n",
       "    </tr>\n",
       "    <tr>\n",
       "      <th>7</th>\n",
       "      <td>ohcf</td>\n",
       "      <td>2.23</td>\n",
       "    </tr>\n",
       "    <tr>\n",
       "      <th>9</th>\n",
       "      <td>four</td>\n",
       "      <td>2.08</td>\n",
       "    </tr>\n",
       "    <tr>\n",
       "      <th>6</th>\n",
       "      <td>ohc</td>\n",
       "      <td>2.04</td>\n",
       "    </tr>\n",
       "    <tr>\n",
       "      <th>8</th>\n",
       "      <td>ohcv</td>\n",
       "      <td>1.98</td>\n",
       "    </tr>\n",
       "    <tr>\n",
       "      <th>0</th>\n",
       "      <td>enginelocation</td>\n",
       "      <td>1.85</td>\n",
       "    </tr>\n",
       "    <tr>\n",
       "      <th>3</th>\n",
       "      <td>stroke</td>\n",
       "      <td>1.85</td>\n",
       "    </tr>\n",
       "    <tr>\n",
       "      <th>5</th>\n",
       "      <td>peakrpm</td>\n",
       "      <td>1.80</td>\n",
       "    </tr>\n",
       "    <tr>\n",
       "      <th>4</th>\n",
       "      <td>compressionratio</td>\n",
       "      <td>1.54</td>\n",
       "    </tr>\n",
       "    <tr>\n",
       "      <th>10</th>\n",
       "      <td>twelve</td>\n",
       "      <td>1.32</td>\n",
       "    </tr>\n",
       "  </tbody>\n",
       "</table>\n",
       "</div>"
      ],
      "text/plain": [
       "                 Var   Vif\n",
       "2         enginesize  5.41\n",
       "1           carwidth  2.94\n",
       "7               ohcf  2.23\n",
       "9               four  2.08\n",
       "6                ohc  2.04\n",
       "8               ohcv  1.98\n",
       "0     enginelocation  1.85\n",
       "3             stroke  1.85\n",
       "5            peakrpm  1.80\n",
       "4   compressionratio  1.54\n",
       "10            twelve  1.32"
      ]
     },
     "execution_count": 11,
     "metadata": {},
     "output_type": "execute_result"
    }
   ],
   "source": [
    "import statsmodels.api as sm \n",
    "sorted_col.append(\"price\")\n",
    "vif_cal(input_data=cars[sorted_col], dependent_col=\"price\")"
   ]
  },
  {
   "cell_type": "code",
   "execution_count": 12,
   "metadata": {},
   "outputs": [
    {
     "name": "stdout",
     "output_type": "stream",
     "text": [
      "                            OLS Regression Results                            \n",
      "==============================================================================\n",
      "Dep. Variable:                  price   R-squared:                       0.892\n",
      "Model:                            OLS   Adj. R-squared:                  0.883\n",
      "Method:                 Least Squares   F-statistic:                     98.72\n",
      "Date:                Fri, 22 Jun 2018   Prob (F-statistic):           8.17e-58\n",
      "Time:                        00:42:15   Log-Likelihood:                 191.60\n",
      "No. Observations:                 143   AIC:                            -359.2\n",
      "Df Residuals:                     131   BIC:                            -323.7\n",
      "Df Model:                          11                                         \n",
      "Covariance Type:            nonrobust                                         \n",
      "====================================================================================\n",
      "                       coef    std err          t      P>|t|      [0.025      0.975]\n",
      "------------------------------------------------------------------------------------\n",
      "const                0.0032      0.006      0.562      0.575      -0.008       0.014\n",
      "enginelocation      -0.2258      0.078     -2.884      0.005      -0.381      -0.071\n",
      "carwidth             0.2762      0.053      5.241      0.000       0.172       0.380\n",
      "enginesize           0.9266      0.085     10.939      0.000       0.759       1.094\n",
      "stroke              -0.3063      0.055     -5.539      0.000      -0.416      -0.197\n",
      "compressionratio     0.0642      0.029      2.178      0.031       0.006       0.123\n",
      "peakrpm              0.0998      0.038      2.610      0.010       0.024       0.175\n",
      "ohc                  0.0348      0.017      2.067      0.041       0.001       0.068\n",
      "ohcf                -0.0691      0.030     -2.329      0.021      -0.128      -0.010\n",
      "ohcv                -0.1281      0.030     -4.255      0.000      -0.188      -0.069\n",
      "four                -0.0963      0.018     -5.384      0.000      -0.132      -0.061\n",
      "twelve              -0.2484      0.083     -2.990      0.003      -0.413      -0.084\n",
      "==============================================================================\n",
      "Omnibus:                       15.699   Durbin-Watson:                   2.023\n",
      "Prob(Omnibus):                  0.000   Jarque-Bera (JB):               40.867\n",
      "Skew:                           0.338   Prob(JB):                     1.34e-09\n",
      "Kurtosis:                       5.530   Cond. No.                         21.2\n",
      "==============================================================================\n",
      "\n",
      "Warnings:\n",
      "[1] Standard Errors assume that the covariance matrix of the errors is correctly specified.\n"
     ]
    }
   ],
   "source": [
    "X_train = sm.add_constant(X_train)    # Adding a constant column to our dataframe\n",
    "# create a first fitted model\n",
    "lm_4 = sm.OLS(y_train,X_train).fit()\n",
    "print (lm_4.summary())\n"
   ]
  },
  {
   "cell_type": "code",
   "execution_count": null,
   "metadata": {},
   "outputs": [],
   "source": []
  },
  {
   "cell_type": "code",
   "execution_count": 13,
   "metadata": {},
   "outputs": [
    {
     "data": {
      "text/plain": [
       "Text(0,0.5,'Cars Price')"
      ]
     },
     "execution_count": 13,
     "metadata": {},
     "output_type": "execute_result"
    },
    {
     "data": {
      "text/plain": [
       "<Figure size 432x288 with 0 Axes>"
      ]
     },
     "metadata": {},
     "output_type": "display_data"
    },
    {
     "data": {
      "image/png": "[encoded data removed]",
      "text/plain": [
       "<Figure size 432x288 with 1 Axes>"
      ]
     },
     "metadata": {},
     "output_type": "display_data"
    }
   ],
   "source": [
    "X_test_m4 = sm.add_constant(X_test,has_constant=\"ass\")\n",
    "y_pred_m4 = lm_4.predict(X_test_m4)\n",
    "# Actual vs Predicted\n",
    "c = [i for i in range(1,63,1)]\n",
    "fig = plt.figure()\n",
    "# len(y_test)\n",
    "plt.figure()     # Size of the figure\n",
    "plt.plot(c,y_test, color=\"blue\", linewidth=2.5, linestyle=\"-\")     #Plotting Actual\n",
    "plt.plot(c,y_pred_m4, color=\"red\",  linewidth=2.5, linestyle=\"-\")  #Plotting predicted\n",
    "fig.suptitle('Actual and Predicted', fontsize=20)              # Plot heading \n",
    "plt.xlabel('Index', fontsize=18)                               # X-label\n",
    "plt.ylabel('Cars Price', fontsize=16)                       # Y-label"
   ]
  },
  {
   "cell_type": "code",
   "execution_count": 14,
   "metadata": {},
   "outputs": [
    {
     "data": {
      "text/plain": [
       "Text(0,0.5,'y_pred')"
      ]
     },
     "execution_count": 14,
     "metadata": {},
     "output_type": "execute_result"
    },
    {
     "data": {
      "image/png": "[encoded data removed]",
      "text/plain": [
       "<Figure size 432x288 with 1 Axes>"
      ]
     },
     "metadata": {},
     "output_type": "display_data"
    }
   ],
   "source": [
    "fig = plt.figure()\n",
    "plt.scatter(y_test,y_pred_m4)\n",
    "fig.suptitle('y_test vs y_pred', fontsize=20)              # Plot heading \n",
    "plt.xlabel('y_test', fontsize=18)                          # X-label\n",
    "plt.ylabel('y_pred', fontsize=16)                          # Y-label\n",
    "\n"
   ]
  },
  {
   "cell_type": "code",
   "execution_count": 15,
   "metadata": {},
   "outputs": [
    {
     "data": {
      "text/plain": [
       "Text(0,0.5,'ytest-ypred')"
      ]
     },
     "execution_count": 15,
     "metadata": {},
     "output_type": "execute_result"
    },
    {
     "data": {
      "image/png": "[encoded data removed]",
      "text/plain": [
       "<Figure size 432x288 with 1 Axes>"
      ]
     },
     "metadata": {},
     "output_type": "display_data"
    }
   ],
   "source": [
    "# Error terms\n",
    "fig = plt.figure()\n",
    "c = [i for i in range(1,63,1)]\n",
    "plt.plot(c,y_test-y_pred_m4, color=\"blue\", linewidth=2.5, linestyle=\"-\")\n",
    "fig.suptitle('Error Terms', fontsize=20)              # Plot heading \n",
    "plt.xlabel('Index', fontsize=18)                      # X-label\n",
    "plt.ylabel('ytest-ypred', fontsize=16)                # Y-label"
   ]
  },
  {
   "cell_type": "code",
   "execution_count": 16,
   "metadata": {},
   "outputs": [
    {
     "name": "stderr",
     "output_type": "stream",
     "text": [
      "/home/abhi/venvs/notebook/local/lib/python2.7/site-packages/matplotlib/axes/_axes.py:6462: UserWarning: The 'normed' kwarg is deprecated, and has been replaced by the 'density' kwarg.\n",
      "  warnings.warn(\"The 'normed' kwarg is deprecated, and has been \"\n"
     ]
    },
    {
     "data": {
      "text/plain": [
       "Text(0,0.5,'Index')"
      ]
     },
     "execution_count": 16,
     "metadata": {},
     "output_type": "execute_result"
    },
    {
     "data": {
      "image/png": "[encoded data removed]",
      "text/plain": [
       "<Figure size 432x288 with 1 Axes>"
      ]
     },
     "metadata": {},
     "output_type": "display_data"
    }
   ],
   "source": [
    "# Plotting the error terms to understand the distribution.\n",
    "fig = plt.figure()\n",
    "sns.distplot((y_test-y_pred_m4),bins=50)\n",
    "fig.suptitle('Error Terms', fontsize=20)                  # Plot heading \n",
    "plt.xlabel('y_test-y_pred', fontsize=18)                  # X-label\n",
    "plt.ylabel('Index', fontsize=16)                          # Y-label"
   ]
  },
  {
   "cell_type": "code",
   "execution_count": 17,
   "metadata": {},
   "outputs": [
    {
     "name": "stdout",
     "output_type": "stream",
     "text": [
      "('RMSE :', 0.06286613510423725)\n"
     ]
    }
   ],
   "source": [
    "import numpy as np\n",
    "from sklearn import metrics\n",
    "print('RMSE :', np.sqrt(metrics.mean_squared_error(y_test, y_pred_m4)))"
   ]
  },
  {
   "cell_type": "code",
   "execution_count": 18,
   "metadata": {},
   "outputs": [],
   "source": [
    "# #\n",
    "\n",
    "# def nextMove(n,r,c,grid):\n",
    "#     return \"\"\n",
    "\n",
    "# n = int(input())\n",
    "# r,c = [int(i) for i in input().strip().split()]\n",
    "# grid = []\n",
    "\n",
    "# for i in range(0, n):\n",
    "#     grid.append(input())\n",
    "\n",
    "# print(nextMove(n,r,c,grid))"
   ]
  }
 ],
 "metadata": {
  "kernelspec": {
   "display_name": "Python 3",
   "language": "python",
   "name": "python3"
  },
  "language_info": {
   "codemirror_mode": {
    "name": "ipython",
    "version": 2
   },
   "file_extension": ".py",
   "mimetype": "text/x-python",
   "name": "python",
   "nbconvert_exporter": "python",
   "pygments_lexer": "ipython2",
   "version": "2.7.12"
  }
 },
 "nbformat": 4,
 "nbformat_minor": 2
}
