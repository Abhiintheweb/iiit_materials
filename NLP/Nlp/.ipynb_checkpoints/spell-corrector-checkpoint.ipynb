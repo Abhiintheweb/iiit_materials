{
 "cells": [
  {
   "cell_type": "code",
   "execution_count": 1,
   "metadata": {},
   "outputs": [],
   "source": [
    "import re\n",
    "from collections import Counter"
   ]
  },
  {
   "cell_type": "code",
   "execution_count": 2,
   "metadata": {},
   "outputs": [],
   "source": [
    "# function to tokenise words\n",
    "def words(document):\n",
    "    \"Convert text to lower case and tokenise the document\"\n",
    "    return re.findall(r'\\w+', document.lower())"
   ]
  },
  {
   "cell_type": "code",
   "execution_count": 3,
   "metadata": {},
   "outputs": [],
   "source": [
    "# create a frequency table of all the words of the document\n",
    "all_words = Counter(words(open('../big.txt').read()))"
   ]
  },
  {
   "cell_type": "code",
   "execution_count": 4,
   "metadata": {},
   "outputs": [
    {
     "data": {
      "text/plain": [
       "135"
      ]
     },
     "execution_count": 4,
     "metadata": {},
     "output_type": "execute_result"
    }
   ],
   "source": [
    "# check frequency of a random word, say, 'chair'\n",
    "all_words['chair']"
   ]
  },
  {
   "cell_type": "code",
   "execution_count": 5,
   "metadata": {},
   "outputs": [
    {
     "data": {
      "text/plain": [
       "[('the', 79809),\n",
       " ('of', 40024),\n",
       " ('and', 38312),\n",
       " ('to', 28765),\n",
       " ('in', 22023),\n",
       " ('a', 21124),\n",
       " ('that', 12512),\n",
       " ('he', 12401),\n",
       " ('was', 11410),\n",
       " ('it', 10681)]"
      ]
     },
     "execution_count": 5,
     "metadata": {},
     "output_type": "execute_result"
    }
   ],
   "source": [
    "# look at top 10 frequent words\n",
    "all_words.most_common(10)"
   ]
  },
  {
   "cell_type": "code",
   "execution_count": 6,
   "metadata": {},
   "outputs": [],
   "source": [
    "def edits_one(word):\n",
    "    \"Create all edits that are one edit away from `word`.\"\n",
    "    alphabets    = 'abcdefghijklmnopqrstuvwxyz'\n",
    "    splits     = [(word[:i], word[i:])                   for i in range(len(word) + 1)]\n",
    "    deletes    = [left + right[1:]                       for left, right in splits if right]\n",
    "    inserts    = [left + c + right                       for left, right in splits for c in alphabets]\n",
    "    replaces   = [left + c + right[1:]                   for left, right in splits if right for c in alphabets]\n",
    "    transposes = [left + right[1] + right[0] + right[2:] for left, right in splits if len(right)>1]\n",
    "    return set(deletes + inserts + replaces + transposes)"
   ]
  },
  {
   "cell_type": "code",
   "execution_count": 7,
   "metadata": {},
   "outputs": [],
   "source": [
    "def edits_two(word):\n",
    "    \"Create all edits that are two edits away from `word`.\"\n",
    "    return (e2 for e1 in edits_one(word) for e2 in edits_one(e1))"
   ]
  },
  {
   "cell_type": "code",
   "execution_count": 8,
   "metadata": {},
   "outputs": [],
   "source": [
    "def known(words):\n",
    "    \"The subset of `words` that appear in the `all_words`.\"\n",
    "    return set(word for word in words if word in all_words)"
   ]
  },
  {
   "cell_type": "code",
   "execution_count": 9,
   "metadata": {},
   "outputs": [],
   "source": [
    "def possible_corrections(word):\n",
    "    \"Generate possible spelling corrections for word.\"\n",
    "    return (known([word]) or known(edits_one(word)) or known(edits_two(word)) or [word])"
   ]
  },
  {
   "cell_type": "code",
   "execution_count": 10,
   "metadata": {},
   "outputs": [],
   "source": [
    "def prob(word, N=sum(all_words.values())): \n",
    "    \"Probability of `word`: Number of appearances of 'word' / total number of tokens\"\n",
    "    return all_words[word] / N"
   ]
  },
  {
   "cell_type": "code",
   "execution_count": 11,
   "metadata": {},
   "outputs": [
    {
     "name": "stdout",
     "output_type": "stream",
     "text": [
      "336\n",
      "set(['moenney', 'monaey', 'monyey', 'mgnney', 'monnes', 'monnea', 'monneqy', 'money', 'monnby', 'monncey', 'mhnney', 'mounney', 'moqney', 'umonney', 'monnye', 'moyney', 'msnney', 'mbnney', 'kmonney', 'sonney', 'monneiy', 'jonney', 'monnzey', 'moynney', 'monpey', 'rmonney', 'monney', 'monnegy', 'monkney', 'mvonney', 'monley', 'mtnney', 'monnezy', 'monneay', 'monnew', 'monnez', 'mopnney', 'conney', 'monuey', 'cmonney', 'monnvy', 'monnwey', 'mocney', 'moanney', 'monnery', 'moneey', 'mqonney', 'vonney', 'mponney', 'moinney', 'hmonney', 'mionney', 'nonney', 'monmney', 'monzney', 'zmonney', 'mfonney', 'monnpy', 'monnejy', 'momnney', 'moiney', 'oonney', 'monnrey', 'onney', 'mobney', 'monaney', 'monnney', 'smonney', 'monbney', 'monnoy', 'bmonney', 'moncney', 'mofney', 'monnbey', 'montney', 'monnewy', 'moonney', 'monnly', 'mrnney', 'monnen', 'vmonney', 'mnoney', 'moncey', 'mooney', 'minney', 'mlonney', 'monniey', 'mkonney', 'monnty', 'moqnney', 'monngey', 'monneyn', 'moaney', 'mononey', 'mbonney', 'monnyy', 'myonney', 'monwney', 'monzey', 'monmey', 'muonney', 'ronney', 'monhey', 'monnexy', 'monndey', 'monuney', 'aonney', 'mojney', 'mwnney', 'mondey', 'monneyp', 'mnnney', 'monrey', 'xmonney', 'molney', 'monnepy', 'monnyey', 'monnky', 'monncy', 'moneney', 'mgonney', 'monnek', 'gonney', 'donney', 'mmonney', 'mownney', 'monpney', 'fmonney', 'monneyv', 'monnehy', 'monneyi', 'monneyh', 'monneyk', 'monneyj', 'monneym', 'moxnney', 'monneyo', 'mofnney', 'monneya', 'monneyc', 'monneyb', 'monneye', 'mzonney', 'monneyy', 'monneby', 'imonney', 'monneyx', 'msonney', 'monnjey', 'monnjy', 'monnqy', 'amonney', 'molnney', 'monneys', 'monneyr', 'monneyu', 'monneyt', 'mognney', 'monnvey', 'monnny', 'mohney', 'motney', 'monngy', 'mynney', 'fonney', 'monnuy', 'mongney', 'mmnney', 'monneu', 'monxney', 'moknney', 'mobnney', 'monnemy', 'konney', 'monnfy', 'munney', 'meonney', 'monnhey', 'modney', 'mxnney', 'monnaey', 'mznney', 'mconney', 'monrney', 'monlney', 'monniy', 'mocnney', 'monneey', 'monnry', 'mjnney', 'monkey', 'monfey', 'ionney', 'mdnney', 'ponney', 'monqney', 'monnee', 'monnevy', 'monneg', 'monjney', 'bonney', 'mfnney', 'monnec', 'monneb', 'monnem', 'monnel', 'monneo', 'mogney', 'monnei', 'monnxey', 'omonney', 'monnej', 'monnqey', 'monneyw', 'mokney', 'monneyd', 'monneq', 'mohnney', 'monnsy', 'monner', 'monneny', 'monnuey', 'monnex', 'monned', 'monneyl', 'morney', 'mongey', 'mornney', 'wmonney', 'monwey', 'monnay', 'monnley', 'mopney', 'monvney', 'mozney', 'moneny', 'jmonney', 'monnefy', 'monqey', 'uonney', 'mvnney', 'mqnney', 'movnney', 'lmonney', 'monnev', 'menney', 'monndy', 'maonney', 'monhney', 'monnedy', 'omnney', 'mouney', 'monnkey', 'honney', 'monsney', 'monnesy', 'mtonney', 'modnney', 'monnoey', 'nmonney', 'monneyg', 'xonney', 'monjey', 'monnmy', 'monnef', 'monneyf', 'monneoy', 'manney', 'monnwy', 'motnney', 'lonney', 'monne', 'monneky', 'mpnney', 'qmonney', 'montey', 'pmonney', 'monsey', 'qonney', 'mnney', 'monneyz', 'monxey', 'gmonney', 'monnfey', 'monny', 'mnonney', 'mosnney', 'monnety', 'emonney', 'monnecy', 'mdonney', 'mknney', 'dmonney', 'monnxy', 'moniney', 'yonney', 'mowney', 'moznney', 'monneh', 'monneyq', 'monnely', 'monnpey', 'monyney', 'monfney', 'monoey', 'mlnney', 'monnhy', 'mjonney', 'mwonney', 'ymonney', 'monntey', 'wonney', 'mxonney', 'monnmey', 'mosney', 'monnet', 'mcnney', 'moniey', 'zonney', 'mhonney', 'monnep', 'mondney', 'monnzy', 'eonney', 'monbey', 'tmonney', 'moxney', 'tonney', 'movney', 'mronney', 'monvey', 'mojnney', 'monneuy', 'momney', 'monnsey', 'moeney'])\n"
     ]
    }
   ],
   "source": [
    "print(len(set(edits_one(\"monney\"))))\n",
    "print(edits_one(\"monney\"))"
   ]
  },
  {
   "cell_type": "code",
   "execution_count": 12,
   "metadata": {},
   "outputs": [
    {
     "name": "stdout",
     "output_type": "stream",
     "text": [
      "set(['money', 'monkey'])\n"
     ]
    }
   ],
   "source": [
    "print(known(edits_one(\"monney\")))"
   ]
  },
  {
   "cell_type": "code",
   "execution_count": 13,
   "metadata": {},
   "outputs": [
    {
     "name": "stdout",
     "output_type": "stream",
     "text": [
      "51013\n",
      "set(['money', 'monkey'])\n"
     ]
    }
   ],
   "source": [
    "# Let's look at words that are two edits away\n",
    "print(len(set(edits_two(\"monney\"))))\n",
    "print(known(edits_one(\"monney\")))"
   ]
  },
  {
   "cell_type": "code",
   "execution_count": 14,
   "metadata": {},
   "outputs": [
    {
     "name": "stdout",
     "output_type": "stream",
     "text": [
      "set(['money', 'monkey'])\n"
     ]
    }
   ],
   "source": [
    "# Let's look at possible corrections of a word\n",
    "print(possible_corrections(\"monney\"))"
   ]
  },
  {
   "cell_type": "code",
   "execution_count": 15,
   "metadata": {},
   "outputs": [
    {
     "name": "stdout",
     "output_type": "stream",
     "text": [
      "0\n",
      "0\n"
     ]
    }
   ],
   "source": [
    "# Let's look at probability of a word\n",
    "print(prob(\"money\"))\n",
    "print(prob(\"monkey\"))"
   ]
  },
  {
   "cell_type": "code",
   "execution_count": 16,
   "metadata": {},
   "outputs": [],
   "source": [
    "def spell_check(word):\n",
    "    \"Print the most probable spelling correction for `word` out of all the `possible_corrections`\"\n",
    "    correct_word = max(possible_corrections(word), key=prob)\n",
    "    if correct_word != word:\n",
    "        return \"Did you mean \" + correct_word + \"?\"\n",
    "    else:\n",
    "        return \"Correct spelling.\""
   ]
  },
  {
   "cell_type": "code",
   "execution_count": 17,
   "metadata": {},
   "outputs": [
    {
     "name": "stdout",
     "output_type": "stream",
     "text": [
      "Did you mean money?\n"
     ]
    }
   ],
   "source": [
    "# test spell check\n",
    "print(spell_check(\"monney\"))"
   ]
  }
 ],
 "metadata": {
  "kernelspec": {
   "display_name": "Python 3",
   "language": "python",
   "name": "python3"
  },
  "language_info": {
   "codemirror_mode": {
    "name": "ipython",
    "version": 2
   },
   "file_extension": ".py",
   "mimetype": "text/x-python",
   "name": "python",
   "nbconvert_exporter": "python",
   "pygments_lexer": "ipython2",
   "version": "2.7.12"
  }
 },
 "nbformat": 4,
 "nbformat_minor": 2
}
