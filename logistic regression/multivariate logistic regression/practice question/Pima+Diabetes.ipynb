{
 "cells": [
  {
   "cell_type": "code",
   "execution_count": 30,
   "metadata": {},
   "outputs": [],
   "source": [
    "import pandas as pd\n",
    "import numpy as np"
   ]
  },
  {
   "cell_type": "code",
   "execution_count": 31,
   "metadata": {},
   "outputs": [],
   "source": [
    "# Reading the file\n",
    "pima = pd.read_csv('pima_indian_diabetes.csv')"
   ]
  },
  {
   "cell_type": "code",
   "execution_count": 32,
   "metadata": {
    "scrolled": true
   },
   "outputs": [
    {
     "data": {
      "text/html": [
       "<div>\n",
       "<style scoped>\n",
       "    .dataframe tbody tr th:only-of-type {\n",
       "        vertical-align: middle;\n",
       "    }\n",
       "\n",
       "    .dataframe tbody tr th {\n",
       "        vertical-align: top;\n",
       "    }\n",
       "\n",
       "    .dataframe thead th {\n",
       "        text-align: right;\n",
       "    }\n",
       "</style>\n",
       "<table border=\"1\" class=\"dataframe\">\n",
       "  <thead>\n",
       "    <tr style=\"text-align: right;\">\n",
       "      <th></th>\n",
       "      <th>No_Times_Pregnant</th>\n",
       "      <th>Plasma_Glucose</th>\n",
       "      <th>Diastolic_BP</th>\n",
       "      <th>Triceps</th>\n",
       "      <th>Insulin</th>\n",
       "      <th>BMI</th>\n",
       "      <th>Age</th>\n",
       "      <th>Diabetes</th>\n",
       "    </tr>\n",
       "  </thead>\n",
       "  <tbody>\n",
       "    <tr>\n",
       "      <th>0</th>\n",
       "      <td>1</td>\n",
       "      <td>89</td>\n",
       "      <td>66</td>\n",
       "      <td>23</td>\n",
       "      <td>94</td>\n",
       "      <td>28.1</td>\n",
       "      <td>21</td>\n",
       "      <td>0</td>\n",
       "    </tr>\n",
       "    <tr>\n",
       "      <th>1</th>\n",
       "      <td>0</td>\n",
       "      <td>137</td>\n",
       "      <td>40</td>\n",
       "      <td>35</td>\n",
       "      <td>168</td>\n",
       "      <td>43.1</td>\n",
       "      <td>33</td>\n",
       "      <td>1</td>\n",
       "    </tr>\n",
       "    <tr>\n",
       "      <th>2</th>\n",
       "      <td>3</td>\n",
       "      <td>78</td>\n",
       "      <td>50</td>\n",
       "      <td>32</td>\n",
       "      <td>88</td>\n",
       "      <td>31.0</td>\n",
       "      <td>26</td>\n",
       "      <td>1</td>\n",
       "    </tr>\n",
       "    <tr>\n",
       "      <th>3</th>\n",
       "      <td>2</td>\n",
       "      <td>197</td>\n",
       "      <td>70</td>\n",
       "      <td>45</td>\n",
       "      <td>543</td>\n",
       "      <td>30.5</td>\n",
       "      <td>53</td>\n",
       "      <td>1</td>\n",
       "    </tr>\n",
       "    <tr>\n",
       "      <th>4</th>\n",
       "      <td>1</td>\n",
       "      <td>189</td>\n",
       "      <td>60</td>\n",
       "      <td>23</td>\n",
       "      <td>846</td>\n",
       "      <td>30.1</td>\n",
       "      <td>59</td>\n",
       "      <td>1</td>\n",
       "    </tr>\n",
       "  </tbody>\n",
       "</table>\n",
       "</div>"
      ],
      "text/plain": [
       "   No_Times_Pregnant  Plasma_Glucose  Diastolic_BP  Triceps  Insulin   BMI  \\\n",
       "0                  1              89            66       23       94  28.1   \n",
       "1                  0             137            40       35      168  43.1   \n",
       "2                  3              78            50       32       88  31.0   \n",
       "3                  2             197            70       45      543  30.5   \n",
       "4                  1             189            60       23      846  30.1   \n",
       "\n",
       "   Age  Diabetes  \n",
       "0   21         0  \n",
       "1   33         1  \n",
       "2   26         1  \n",
       "3   53         1  \n",
       "4   59         1  "
      ]
     },
     "execution_count": 32,
     "metadata": {},
     "output_type": "execute_result"
    }
   ],
   "source": [
    "# Let's check the top 5 values\n",
    "pima.head()"
   ]
  },
  {
   "cell_type": "markdown",
   "metadata": {},
   "source": [
    "### Question-1: After normalising all the continuous features which feature has the maximum median value?"
   ]
  },
  {
   "cell_type": "code",
   "execution_count": 33,
   "metadata": {},
   "outputs": [],
   "source": [
    "# Normalising continuous features\n",
    "df = pima[['No_Times_Pregnant', 'Plasma_Glucose', 'Diastolic_BP', 'Triceps','Insulin', 'BMI', 'Age']]"
   ]
  },
  {
   "cell_type": "code",
   "execution_count": 34,
   "metadata": {},
   "outputs": [],
   "source": [
    "normalized_df=(df-df.mean())/df.std()"
   ]
  },
  {
   "cell_type": "code",
   "execution_count": 35,
   "metadata": {},
   "outputs": [],
   "source": [
    "pima = pima.drop(['No_Times_Pregnant', 'Plasma_Glucose', 'Diastolic_BP', 'Triceps','Insulin', 'BMI', 'Age'], 1)"
   ]
  },
  {
   "cell_type": "code",
   "execution_count": 36,
   "metadata": {},
   "outputs": [],
   "source": [
    "pima = pd.concat([pima,normalized_df],axis=1)"
   ]
  },
  {
   "cell_type": "code",
   "execution_count": 37,
   "metadata": {},
   "outputs": [
    {
     "data": {
      "text/plain": [
       "Diabetes             0.000000\n",
       "No_Times_Pregnant   -0.405123\n",
       "Plasma_Glucose      -0.117546\n",
       "Diastolic_BP        -0.053078\n",
       "Triceps             -0.013827\n",
       "Insulin             -0.257116\n",
       "BMI                  0.016190\n",
       "Age                 -0.378873\n",
       "dtype: float64"
      ]
     },
     "execution_count": 37,
     "metadata": {},
     "output_type": "execute_result"
    }
   ],
   "source": [
    "pima.median()"
   ]
  },
  {
   "cell_type": "code",
   "execution_count": 38,
   "metadata": {},
   "outputs": [
    {
     "data": {
      "text/html": [
       "<div>\n",
       "<style scoped>\n",
       "    .dataframe tbody tr th:only-of-type {\n",
       "        vertical-align: middle;\n",
       "    }\n",
       "\n",
       "    .dataframe tbody tr th {\n",
       "        vertical-align: top;\n",
       "    }\n",
       "\n",
       "    .dataframe thead th {\n",
       "        text-align: right;\n",
       "    }\n",
       "</style>\n",
       "<table border=\"1\" class=\"dataframe\">\n",
       "  <thead>\n",
       "    <tr style=\"text-align: right;\">\n",
       "      <th></th>\n",
       "      <th>Diabetes</th>\n",
       "      <th>No_Times_Pregnant</th>\n",
       "      <th>Plasma_Glucose</th>\n",
       "      <th>Diastolic_BP</th>\n",
       "      <th>Triceps</th>\n",
       "      <th>Insulin</th>\n",
       "      <th>BMI</th>\n",
       "      <th>Age</th>\n",
       "    </tr>\n",
       "  </thead>\n",
       "  <tbody>\n",
       "    <tr>\n",
       "      <th>count</th>\n",
       "      <td>392.000000</td>\n",
       "      <td>3.920000e+02</td>\n",
       "      <td>3.920000e+02</td>\n",
       "      <td>3.920000e+02</td>\n",
       "      <td>3.920000e+02</td>\n",
       "      <td>3.920000e+02</td>\n",
       "      <td>3.920000e+02</td>\n",
       "      <td>3.920000e+02</td>\n",
       "    </tr>\n",
       "    <tr>\n",
       "      <th>mean</th>\n",
       "      <td>0.331633</td>\n",
       "      <td>-9.063045e-18</td>\n",
       "      <td>2.039185e-17</td>\n",
       "      <td>-4.191658e-16</td>\n",
       "      <td>9.289621e-17</td>\n",
       "      <td>1.019593e-16</td>\n",
       "      <td>3.194723e-15</td>\n",
       "      <td>1.155538e-16</td>\n",
       "    </tr>\n",
       "    <tr>\n",
       "      <th>std</th>\n",
       "      <td>0.471401</td>\n",
       "      <td>1.000000e+00</td>\n",
       "      <td>1.000000e+00</td>\n",
       "      <td>1.000000e+00</td>\n",
       "      <td>1.000000e+00</td>\n",
       "      <td>1.000000e+00</td>\n",
       "      <td>1.000000e+00</td>\n",
       "      <td>1.000000e+00</td>\n",
       "    </tr>\n",
       "    <tr>\n",
       "      <th>min</th>\n",
       "      <td>0.000000</td>\n",
       "      <td>-1.027899e+00</td>\n",
       "      <td>-2.158972e+00</td>\n",
       "      <td>-3.734229e+00</td>\n",
       "      <td>-2.105793e+00</td>\n",
       "      <td>-1.195339e+00</td>\n",
       "      <td>-2.118234e+00</td>\n",
       "      <td>-9.670632e-01</td>\n",
       "    </tr>\n",
       "    <tr>\n",
       "      <th>25%</th>\n",
       "      <td>0.000000</td>\n",
       "      <td>-7.165108e-01</td>\n",
       "      <td>-7.656174e-01</td>\n",
       "      <td>-6.932780e-01</td>\n",
       "      <td>-7.745416e-01</td>\n",
       "      <td>-6.673258e-01</td>\n",
       "      <td>-6.668258e-01</td>\n",
       "      <td>-7.709997e-01</td>\n",
       "    </tr>\n",
       "    <tr>\n",
       "      <th>50%</th>\n",
       "      <td>0.000000</td>\n",
       "      <td>-4.051225e-01</td>\n",
       "      <td>-1.175457e-01</td>\n",
       "      <td>-5.307782e-02</td>\n",
       "      <td>-1.382677e-02</td>\n",
       "      <td>-2.571162e-01</td>\n",
       "      <td>1.618967e-02</td>\n",
       "      <td>-3.788727e-01</td>\n",
       "    </tr>\n",
       "    <tr>\n",
       "      <th>75%</th>\n",
       "      <td>1.000000</td>\n",
       "      <td>5.290424e-01</td>\n",
       "      <td>6.601404e-01</td>\n",
       "      <td>5.871224e-01</td>\n",
       "      <td>7.468881e-01</td>\n",
       "      <td>2.856226e-01</td>\n",
       "      <td>5.711397e-01</td>\n",
       "      <td>5.034131e-01</td>\n",
       "    </tr>\n",
       "    <tr>\n",
       "      <th>max</th>\n",
       "      <td>1.000000</td>\n",
       "      <td>4.265702e+00</td>\n",
       "      <td>2.442338e+00</td>\n",
       "      <td>3.147923e+00</td>\n",
       "      <td>3.219211e+00</td>\n",
       "      <td>5.805571e+00</td>\n",
       "      <td>4.839986e+00</td>\n",
       "      <td>4.914842e+00</td>\n",
       "    </tr>\n",
       "  </tbody>\n",
       "</table>\n",
       "</div>"
      ],
      "text/plain": [
       "         Diabetes  No_Times_Pregnant  Plasma_Glucose  Diastolic_BP  \\\n",
       "count  392.000000       3.920000e+02    3.920000e+02  3.920000e+02   \n",
       "mean     0.331633      -9.063045e-18    2.039185e-17 -4.191658e-16   \n",
       "std      0.471401       1.000000e+00    1.000000e+00  1.000000e+00   \n",
       "min      0.000000      -1.027899e+00   -2.158972e+00 -3.734229e+00   \n",
       "25%      0.000000      -7.165108e-01   -7.656174e-01 -6.932780e-01   \n",
       "50%      0.000000      -4.051225e-01   -1.175457e-01 -5.307782e-02   \n",
       "75%      1.000000       5.290424e-01    6.601404e-01  5.871224e-01   \n",
       "max      1.000000       4.265702e+00    2.442338e+00  3.147923e+00   \n",
       "\n",
       "            Triceps       Insulin           BMI           Age  \n",
       "count  3.920000e+02  3.920000e+02  3.920000e+02  3.920000e+02  \n",
       "mean   9.289621e-17  1.019593e-16  3.194723e-15  1.155538e-16  \n",
       "std    1.000000e+00  1.000000e+00  1.000000e+00  1.000000e+00  \n",
       "min   -2.105793e+00 -1.195339e+00 -2.118234e+00 -9.670632e-01  \n",
       "25%   -7.745416e-01 -6.673258e-01 -6.668258e-01 -7.709997e-01  \n",
       "50%   -1.382677e-02 -2.571162e-01  1.618967e-02 -3.788727e-01  \n",
       "75%    7.468881e-01  2.856226e-01  5.711397e-01  5.034131e-01  \n",
       "max    3.219211e+00  5.805571e+00  4.839986e+00  4.914842e+00  "
      ]
     },
     "execution_count": 38,
     "metadata": {},
     "output_type": "execute_result"
    }
   ],
   "source": [
    "pima.describe()"
   ]
  },
  {
   "cell_type": "markdown",
   "metadata": {},
   "source": [
    "50% quantile corrosponds to median and BMI seems to have maximum median value."
   ]
  },
  {
   "cell_type": "markdown",
   "metadata": {},
   "source": [
    "### Question-2: Split the data into train and test with 70:30 split and seed=100, what is the p value for Triceps?"
   ]
  },
  {
   "cell_type": "code",
   "execution_count": 39,
   "metadata": {},
   "outputs": [],
   "source": [
    "from sklearn.model_selection import train_test_split"
   ]
  },
  {
   "cell_type": "code",
   "execution_count": 40,
   "metadata": {},
   "outputs": [],
   "source": [
    "# Putting feature variable to X\n",
    "X = pima.drop(['Diabetes'],axis=1)\n",
    "\n",
    "# Putting response variable to y\n",
    "y = pima['Diabetes']"
   ]
  },
  {
   "cell_type": "code",
   "execution_count": 41,
   "metadata": {},
   "outputs": [],
   "source": [
    "# Splitting the data into train and test\n",
    "X_train, X_test, y_train, y_test = train_test_split(X,y, train_size=0.7,test_size=0.3,random_state=100)"
   ]
  },
  {
   "cell_type": "code",
   "execution_count": 42,
   "metadata": {},
   "outputs": [],
   "source": [
    "import statsmodels.api as sm"
   ]
  },
  {
   "cell_type": "code",
   "execution_count": 43,
   "metadata": {},
   "outputs": [
    {
     "data": {
      "text/html": [
       "<table class=\"simpletable\">\n",
       "<caption>Generalized Linear Model Regression Results</caption>\n",
       "<tr>\n",
       "  <th>Dep. Variable:</th>      <td>Diabetes</td>     <th>  No. Observations:  </th>  <td>   274</td>  \n",
       "</tr>\n",
       "<tr>\n",
       "  <th>Model:</th>                 <td>GLM</td>       <th>  Df Residuals:      </th>  <td>   266</td>  \n",
       "</tr>\n",
       "<tr>\n",
       "  <th>Model Family:</th>       <td>Binomial</td>     <th>  Df Model:          </th>  <td>     7</td>  \n",
       "</tr>\n",
       "<tr>\n",
       "  <th>Link Function:</th>        <td>logit</td>      <th>  Scale:             </th> <td>  1.0000</td> \n",
       "</tr>\n",
       "<tr>\n",
       "  <th>Method:</th>               <td>IRLS</td>       <th>  Log-Likelihood:    </th> <td> -122.11</td> \n",
       "</tr>\n",
       "<tr>\n",
       "  <th>Date:</th>           <td>Sat, 30 Jun 2018</td> <th>  Deviance:          </th> <td>  244.22</td> \n",
       "</tr>\n",
       "<tr>\n",
       "  <th>Time:</th>               <td>12:48:03</td>     <th>  Pearson chi2:      </th>  <td>  264.</td>  \n",
       "</tr>\n",
       "<tr>\n",
       "  <th>No. Iterations:</th>         <td>5</td>        <th>  Covariance Type:   </th> <td>nonrobust</td>\n",
       "</tr>\n",
       "</table>\n",
       "<table class=\"simpletable\">\n",
       "<tr>\n",
       "          <td></td>             <th>coef</th>     <th>std err</th>      <th>z</th>      <th>P>|z|</th>  <th>[0.025</th>    <th>0.975]</th>  \n",
       "</tr>\n",
       "<tr>\n",
       "  <th>const</th>             <td>   -0.9416</td> <td>    0.170</td> <td>   -5.548</td> <td> 0.000</td> <td>   -1.274</td> <td>   -0.609</td>\n",
       "</tr>\n",
       "<tr>\n",
       "  <th>No_Times_Pregnant</th> <td>    0.2942</td> <td>    0.212</td> <td>    1.386</td> <td> 0.166</td> <td>   -0.122</td> <td>    0.710</td>\n",
       "</tr>\n",
       "<tr>\n",
       "  <th>Plasma_Glucose</th>    <td>    1.2633</td> <td>    0.216</td> <td>    5.851</td> <td> 0.000</td> <td>    0.840</td> <td>    1.687</td>\n",
       "</tr>\n",
       "<tr>\n",
       "  <th>Diastolic_BP</th>      <td>   -0.0754</td> <td>    0.176</td> <td>   -0.429</td> <td> 0.668</td> <td>   -0.420</td> <td>    0.269</td>\n",
       "</tr>\n",
       "<tr>\n",
       "  <th>Triceps</th>           <td>    0.1361</td> <td>    0.204</td> <td>    0.668</td> <td> 0.504</td> <td>   -0.263</td> <td>    0.535</td>\n",
       "</tr>\n",
       "<tr>\n",
       "  <th>Insulin</th>           <td>   -0.1271</td> <td>    0.175</td> <td>   -0.728</td> <td> 0.467</td> <td>   -0.470</td> <td>    0.215</td>\n",
       "</tr>\n",
       "<tr>\n",
       "  <th>BMI</th>               <td>    0.4544</td> <td>    0.211</td> <td>    2.151</td> <td> 0.031</td> <td>    0.040</td> <td>    0.868</td>\n",
       "</tr>\n",
       "<tr>\n",
       "  <th>Age</th>               <td>    0.3757</td> <td>    0.231</td> <td>    1.624</td> <td> 0.104</td> <td>   -0.078</td> <td>    0.829</td>\n",
       "</tr>\n",
       "</table>"
      ],
      "text/plain": [
       "<class 'statsmodels.iolib.summary.Summary'>\n",
       "\"\"\"\n",
       "                 Generalized Linear Model Regression Results                  \n",
       "==============================================================================\n",
       "Dep. Variable:               Diabetes   No. Observations:                  274\n",
       "Model:                            GLM   Df Residuals:                      266\n",
       "Model Family:                Binomial   Df Model:                            7\n",
       "Link Function:                  logit   Scale:                          1.0000\n",
       "Method:                          IRLS   Log-Likelihood:                -122.11\n",
       "Date:                Sat, 30 Jun 2018   Deviance:                       244.22\n",
       "Time:                        12:48:03   Pearson chi2:                     264.\n",
       "No. Iterations:                     5   Covariance Type:             nonrobust\n",
       "=====================================================================================\n",
       "                        coef    std err          z      P>|z|      [0.025      0.975]\n",
       "-------------------------------------------------------------------------------------\n",
       "const                -0.9416      0.170     -5.548      0.000      -1.274      -0.609\n",
       "No_Times_Pregnant     0.2942      0.212      1.386      0.166      -0.122       0.710\n",
       "Plasma_Glucose        1.2633      0.216      5.851      0.000       0.840       1.687\n",
       "Diastolic_BP         -0.0754      0.176     -0.429      0.668      -0.420       0.269\n",
       "Triceps               0.1361      0.204      0.668      0.504      -0.263       0.535\n",
       "Insulin              -0.1271      0.175     -0.728      0.467      -0.470       0.215\n",
       "BMI                   0.4544      0.211      2.151      0.031       0.040       0.868\n",
       "Age                   0.3757      0.231      1.624      0.104      -0.078       0.829\n",
       "=====================================================================================\n",
       "\"\"\""
      ]
     },
     "execution_count": 43,
     "metadata": {},
     "output_type": "execute_result"
    }
   ],
   "source": [
    "logm1 = sm.GLM(y_train,(sm.add_constant(X_train)), family = sm.families.Binomial())\n",
    "logm1.fit().summary()"
   ]
  },
  {
   "cell_type": "markdown",
   "metadata": {},
   "source": [
    "### Question-3: Use RFE and choose 5 features, which two features are not selected by RFE?"
   ]
  },
  {
   "cell_type": "code",
   "execution_count": 44,
   "metadata": {},
   "outputs": [
    {
     "name": "stdout",
     "output_type": "stream",
     "text": [
      "[ True  True False  True False  True  True]\n",
      "[1 1 3 1 2 1 1]\n"
     ]
    }
   ],
   "source": [
    "from sklearn.linear_model import LogisticRegression\n",
    "logreg = LogisticRegression()\n",
    "from sklearn.feature_selection import RFE\n",
    "rfe = RFE(logreg, 5)             # running RFE with 13 variables as output\n",
    "rfe = rfe.fit(X,y)\n",
    "print(rfe.support_)           # Printing the boolean results\n",
    "print(rfe.ranking_) "
   ]
  },
  {
   "cell_type": "code",
   "execution_count": 45,
   "metadata": {},
   "outputs": [
    {
     "data": {
      "text/plain": [
       "Index([u'No_Times_Pregnant', u'Plasma_Glucose', u'Triceps', u'BMI', u'Age'], dtype='object')"
      ]
     },
     "execution_count": 45,
     "metadata": {},
     "output_type": "execute_result"
    }
   ],
   "source": [
    "col=X.columns[rfe.support_]\n",
    "col"
   ]
  },
  {
   "cell_type": "code",
   "execution_count": 80,
   "metadata": {},
   "outputs": [
    {
     "data": {
      "text/html": [
       "<table class=\"simpletable\">\n",
       "<caption>Generalized Linear Model Regression Results</caption>\n",
       "<tr>\n",
       "  <th>Dep. Variable:</th>      <td>Diabetes</td>     <th>  No. Observations:  </th>  <td>   274</td>  \n",
       "</tr>\n",
       "<tr>\n",
       "  <th>Model:</th>                 <td>GLM</td>       <th>  Df Residuals:      </th>  <td>   268</td>  \n",
       "</tr>\n",
       "<tr>\n",
       "  <th>Model Family:</th>       <td>Binomial</td>     <th>  Df Model:          </th>  <td>     5</td>  \n",
       "</tr>\n",
       "<tr>\n",
       "  <th>Link Function:</th>        <td>logit</td>      <th>  Scale:             </th> <td>  1.0000</td> \n",
       "</tr>\n",
       "<tr>\n",
       "  <th>Method:</th>               <td>IRLS</td>       <th>  Log-Likelihood:    </th> <td> -122.44</td> \n",
       "</tr>\n",
       "<tr>\n",
       "  <th>Date:</th>           <td>Sat, 30 Jun 2018</td> <th>  Deviance:          </th> <td>  244.88</td> \n",
       "</tr>\n",
       "<tr>\n",
       "  <th>Time:</th>               <td>17:49:00</td>     <th>  Pearson chi2:      </th>  <td>  263.</td>  \n",
       "</tr>\n",
       "<tr>\n",
       "  <th>No. Iterations:</th>         <td>5</td>        <th>  Covariance Type:   </th> <td>nonrobust</td>\n",
       "</tr>\n",
       "</table>\n",
       "<table class=\"simpletable\">\n",
       "<tr>\n",
       "          <td></td>             <th>coef</th>     <th>std err</th>      <th>z</th>      <th>P>|z|</th>  <th>[0.025</th>    <th>0.975]</th>  \n",
       "</tr>\n",
       "<tr>\n",
       "  <th>const</th>             <td>   -0.9512</td> <td>    0.169</td> <td>   -5.622</td> <td> 0.000</td> <td>   -1.283</td> <td>   -0.620</td>\n",
       "</tr>\n",
       "<tr>\n",
       "  <th>No_Times_Pregnant</th> <td>    0.3041</td> <td>    0.210</td> <td>    1.451</td> <td> 0.147</td> <td>   -0.107</td> <td>    0.715</td>\n",
       "</tr>\n",
       "<tr>\n",
       "  <th>Plasma_Glucose</th>    <td>    1.1788</td> <td>    0.183</td> <td>    6.446</td> <td> 0.000</td> <td>    0.820</td> <td>    1.537</td>\n",
       "</tr>\n",
       "<tr>\n",
       "  <th>Triceps</th>           <td>    0.1438</td> <td>    0.203</td> <td>    0.708</td> <td> 0.479</td> <td>   -0.254</td> <td>    0.542</td>\n",
       "</tr>\n",
       "<tr>\n",
       "  <th>BMI</th>               <td>    0.4075</td> <td>    0.201</td> <td>    2.025</td> <td> 0.043</td> <td>    0.013</td> <td>    0.802</td>\n",
       "</tr>\n",
       "<tr>\n",
       "  <th>Age</th>               <td>    0.3383</td> <td>    0.222</td> <td>    1.522</td> <td> 0.128</td> <td>   -0.097</td> <td>    0.774</td>\n",
       "</tr>\n",
       "</table>"
      ],
      "text/plain": [
       "<class 'statsmodels.iolib.summary.Summary'>\n",
       "\"\"\"\n",
       "                 Generalized Linear Model Regression Results                  \n",
       "==============================================================================\n",
       "Dep. Variable:               Diabetes   No. Observations:                  274\n",
       "Model:                            GLM   Df Residuals:                      268\n",
       "Model Family:                Binomial   Df Model:                            5\n",
       "Link Function:                  logit   Scale:                          1.0000\n",
       "Method:                          IRLS   Log-Likelihood:                -122.44\n",
       "Date:                Sat, 30 Jun 2018   Deviance:                       244.88\n",
       "Time:                        17:49:00   Pearson chi2:                     263.\n",
       "No. Iterations:                     5   Covariance Type:             nonrobust\n",
       "=====================================================================================\n",
       "                        coef    std err          z      P>|z|      [0.025      0.975]\n",
       "-------------------------------------------------------------------------------------\n",
       "const                -0.9512      0.169     -5.622      0.000      -1.283      -0.620\n",
       "No_Times_Pregnant     0.3041      0.210      1.451      0.147      -0.107       0.715\n",
       "Plasma_Glucose        1.1788      0.183      6.446      0.000       0.820       1.537\n",
       "Triceps               0.1438      0.203      0.708      0.479      -0.254       0.542\n",
       "BMI                   0.4075      0.201      2.025      0.043       0.013       0.802\n",
       "Age                   0.3383      0.222      1.522      0.128      -0.097       0.774\n",
       "=====================================================================================\n",
       "\"\"\""
      ]
     },
     "execution_count": 80,
     "metadata": {},
     "output_type": "execute_result"
    }
   ],
   "source": [
    "log_reg2=sm.GLM(y_train,(sm.add_constant(X_train[col])),family=sm.families.Binomial())\n",
    "log_reg2=log_reg2.fit()\n",
    "log_reg2.summary()"
   ]
  },
  {
   "cell_type": "code",
   "execution_count": 47,
   "metadata": {},
   "outputs": [],
   "source": [
    "# UDF for calculating vif value\n",
    "def vif_cal(input_data, dependent_col):\n",
    "    vif_df = pd.DataFrame( columns = ['Var', 'Vif'])\n",
    "    x_vars=input_data.drop([dependent_col], axis=1)\n",
    "    xvar_names=x_vars.columns\n",
    "    for i in range(0,xvar_names.shape[0]):\n",
    "        y=x_vars[xvar_names[i]] \n",
    "        x=x_vars[xvar_names.drop(xvar_names[i])]\n",
    "        rsq=sm.OLS(y,x).fit().rsquared  \n",
    "        vif=round(1/(1-rsq),2)\n",
    "        vif_df.loc[i] = [xvar_names[i], vif]\n",
    "    return vif_df.sort_values(by = 'Vif', axis=0, ascending=False, inplace=False)"
   ]
  },
  {
   "cell_type": "code",
   "execution_count": 77,
   "metadata": {},
   "outputs": [
    {
     "data": {
      "text/html": [
       "<div>\n",
       "<style scoped>\n",
       "    .dataframe tbody tr th:only-of-type {\n",
       "        vertical-align: middle;\n",
       "    }\n",
       "\n",
       "    .dataframe tbody tr th {\n",
       "        vertical-align: top;\n",
       "    }\n",
       "\n",
       "    .dataframe thead th {\n",
       "        text-align: right;\n",
       "    }\n",
       "</style>\n",
       "<table border=\"1\" class=\"dataframe\">\n",
       "  <thead>\n",
       "    <tr style=\"text-align: right;\">\n",
       "      <th></th>\n",
       "      <th>Var</th>\n",
       "      <th>Vif</th>\n",
       "    </tr>\n",
       "  </thead>\n",
       "  <tbody>\n",
       "    <tr>\n",
       "      <th>4</th>\n",
       "      <td>Age</td>\n",
       "      <td>2.05</td>\n",
       "    </tr>\n",
       "    <tr>\n",
       "      <th>0</th>\n",
       "      <td>No_Times_Pregnant</td>\n",
       "      <td>1.88</td>\n",
       "    </tr>\n",
       "    <tr>\n",
       "      <th>2</th>\n",
       "      <td>Triceps</td>\n",
       "      <td>1.85</td>\n",
       "    </tr>\n",
       "    <tr>\n",
       "      <th>3</th>\n",
       "      <td>BMI</td>\n",
       "      <td>1.85</td>\n",
       "    </tr>\n",
       "    <tr>\n",
       "      <th>1</th>\n",
       "      <td>Plasma_Glucose</td>\n",
       "      <td>1.18</td>\n",
       "    </tr>\n",
       "  </tbody>\n",
       "</table>\n",
       "</div>"
      ],
      "text/plain": [
       "                 Var   Vif\n",
       "4                Age  2.05\n",
       "0  No_Times_Pregnant  1.88\n",
       "2            Triceps  1.85\n",
       "3                BMI  1.85\n",
       "1     Plasma_Glucose  1.18"
      ]
     },
     "execution_count": 77,
     "metadata": {},
     "output_type": "execute_result"
    }
   ],
   "source": [
    "# vif_cal(input_data=cars[sorted_col], dependent_col=\"price\")\n",
    "x=list(col)\n",
    "x.append(\"Diabetes\")\n",
    "vif_cal(input_data=pima[x], dependent_col=\"Diabetes\")\n",
    "# col[]"
   ]
  },
  {
   "cell_type": "code",
   "execution_count": 85,
   "metadata": {},
   "outputs": [
    {
     "data": {
      "text/plain": [
       "124    0.842774\n",
       "140    0.137076\n",
       "276    0.388531\n",
       "252    0.327244\n",
       "326    0.041065\n",
       "136    0.375400\n",
       "369    0.170071\n",
       "132    0.585156\n",
       "387    0.832001\n",
       "174    0.055372\n",
       "225    0.938305\n",
       "356    0.652572\n",
       "257    0.197421\n",
       "239    0.018280\n",
       "231    0.096892\n",
       "267    0.263217\n",
       "7      0.243302\n",
       "129    0.199269\n",
       "258    0.772025\n",
       "234    0.862912\n",
       "43     0.088606\n",
       "190    0.077412\n",
       "227    0.112471\n",
       "368    0.754913\n",
       "75     0.074527\n",
       "149    0.321759\n",
       "201    0.141107\n",
       "288    0.884479\n",
       "78     0.369807\n",
       "163    0.256175\n",
       "         ...   \n",
       "279    0.067951\n",
       "121    0.037001\n",
       "3      0.928728\n",
       "20     0.037165\n",
       "125    0.804677\n",
       "166    0.055626\n",
       "307    0.038200\n",
       "309    0.791264\n",
       "60     0.255511\n",
       "84     0.043542\n",
       "342    0.778272\n",
       "80     0.196537\n",
       "147    0.380830\n",
       "133    0.441678\n",
       "31     0.102520\n",
       "345    0.757787\n",
       "45     0.028880\n",
       "47     0.477824\n",
       "260    0.042419\n",
       "150    0.761362\n",
       "391    0.203515\n",
       "59     0.182337\n",
       "334    0.174388\n",
       "23     0.926520\n",
       "88     0.931522\n",
       "332    0.613138\n",
       "15     0.034726\n",
       "33     0.286867\n",
       "171    0.070296\n",
       "355    0.267051\n",
       "Length: 118, dtype: float64"
      ]
     },
     "execution_count": 85,
     "metadata": {},
     "output_type": "execute_result"
    }
   ],
   "source": [
    "log_reg2.predict(sm.add_constant(X_test[col]))"
   ]
  },
  {
   "cell_type": "code",
   "execution_count": null,
   "metadata": {},
   "outputs": [],
   "source": []
  }
 ],
 "metadata": {
  "kernelspec": {
   "display_name": "Python 3",
   "language": "python",
   "name": "python3"
  },
  "language_info": {
   "codemirror_mode": {
    "name": "ipython",
    "version": 2
   },
   "file_extension": ".py",
   "mimetype": "text/x-python",
   "name": "python",
   "nbconvert_exporter": "python",
   "pygments_lexer": "ipython2",
   "version": "2.7.12"
  }
 },
 "nbformat": 4,
 "nbformat_minor": 2
}
